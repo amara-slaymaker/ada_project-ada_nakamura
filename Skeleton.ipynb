{
 "cells": [
  {
   "cell_type": "markdown",
   "metadata": {},
   "source": [
    "# Is our main food production model efficient enough to feed them all ?\n"
   ]
  },
  {
   "cell_type": "markdown",
   "metadata": {},
   "source": [
    "## introduction :\n",
    "A lot of new agricultural model are nowaday opposed to the dominant one (organic agriculture, permaculture ...) and their main criticism is on how efficient are they to provide food for everyone.\n",
    "But we never as the other way : is the actual model capable of been enhanced enough to ensure population growth ?\n",
    "Thus, we will take a look of evolution of agriculture in the last year and see if the trend let us ensure enhancing for the future\n"
   ]
  },
  {
   "cell_type": "markdown",
   "metadata": {},
   "source": [
    "## 1 part : How is the world food production efficiency ?\n",
    "Intro :"
   ]
  },
  {
   "cell_type": "markdown",
   "metadata": {},
   "source": [
    "What's inside :\n",
    "Maps representing normalized value of yield for severals type of crops"
   ]
  },
  {
   "cell_type": "markdown",
   "metadata": {},
   "source": [
    "Transition :\n",
    "We took a look at food production efficiency for several plants. \n",
    "Is there a way to compute that efficiency for a country to assess their agricultural model ?"
   ]
  },
  {
   "cell_type": "markdown",
   "metadata": {},
   "source": [
    "## Part 2 : PCA or how to estimate efficiency of a country :\n",
    "Intro :"
   ]
  },
  {
   "cell_type": "markdown",
   "metadata": {},
   "source": [
    "What's inside :\n",
    "1st PCA yield country and look at outliers \n"
   ]
  },
  {
   "cell_type": "markdown",
   "metadata": {},
   "source": [
    "## Part 3 : Which features have an impact on country efficiency ? \n",
    "\"Can we categorize country type of agriculture using PCA ? \"\n",
    "Intro :"
   ]
  },
  {
   "cell_type": "markdown",
   "metadata": {},
   "source": [
    "What's inside :\n",
    "Introduce pesticide and fertilizer use on pca (see if we can cluster on that)\n",
    "\n",
    "Look at the evolution and discuss about the trend.\n",
    "\n",
    "Also plot fertilizer and pesticide evolution\n"
   ]
  },
  {
   "cell_type": "markdown",
   "metadata": {},
   "source": [
    "Transition : \n",
    "yield decreasing for medium and high use of fert\n",
    "use of fert non decreasing \n",
    "Have we reached a treshold ?\n"
   ]
  },
  {
   "cell_type": "markdown",
   "metadata": {},
   "source": [
    "## Part 4 : Environnemental impact ?\n"
   ]
  },
  {
   "cell_type": "markdown",
   "metadata": {},
   "source": [
    "as pca"
   ]
  },
  {
   "cell_type": "markdown",
   "metadata": {},
   "source": [
    "## Conclusion : What is our insightful view ?"
   ]
  },
  {
   "cell_type": "markdown",
   "metadata": {},
   "source": [
    "We used PC1 to as a criteria to measure countries's agricultural efficiency.\n",
    "We highlight fertilizer use do not increase yield anymore "
   ]
  }
 ],
 "metadata": {
  "kernelspec": {
   "display_name": "Python 3",
   "language": "python",
   "name": "python3"
  },
  "language_info": {
   "codemirror_mode": {
    "name": "ipython",
    "version": 3
   },
   "file_extension": ".py",
   "mimetype": "text/x-python",
   "name": "python",
   "nbconvert_exporter": "python",
   "pygments_lexer": "ipython3",
   "version": "3.7.5"
  }
 },
 "nbformat": 4,
 "nbformat_minor": 4
}
