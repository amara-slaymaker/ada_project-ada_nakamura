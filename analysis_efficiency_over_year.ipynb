{
 "cells": [
  {
   "cell_type": "code",
   "execution_count": 2,
   "metadata": {},
   "outputs": [],
   "source": [
    "# Let's import the libraries we need\n",
    "import pandas as pd\n",
    "import numpy as np\n",
    "import math\n",
    "import matplotlib.pyplot as plt\n",
    "import seaborn as sns\n",
    "%matplotlib inline\n",
    "import folium\n",
    "import json\n",
    "from ipywidgets import IntSlider, interact\n",
    "from scipy import stats\n",
    "\n"
   ]
  },
  {
   "cell_type": "code",
   "execution_count": 9,
   "metadata": {},
   "outputs": [],
   "source": [
    "# do that: conda install -c conda-forge umap-learn\n",
    "import umap\n",
    "from sklearn import preprocessing\n",
    "import math\n",
    "from sklearn.preprocessing import StandardScaler\n",
    "from sklearn.preprocessing import MinMaxScaler\n",
    "from sklearn.decomposition import PCA"
   ]
  },
  {
   "cell_type": "markdown",
   "metadata": {},
   "source": [
    "# Analysis of fertilizer efficiency on agriculture production\n",
    "## Handling data\n",
    "First lets import the 2 dataset from FAO :\n",
    "* One about agriculture production containing (among others data) the yield per crops and per country : Crops from http://www.fao.org/faostat/en/#data/QC\n",
    "* The other about fertilizer containing quantity used of 3 different fertilizers per area of cropland (from 2002 to 2016): Fertilizers indicators from http://www.fao.org/faostat/en/#data/EF "
   ]
  },
  {
   "cell_type": "code",
   "execution_count": 10,
   "metadata": {},
   "outputs": [],
   "source": [
    "#importing FAO data set\n",
    "fertilizer_area=pd.read_csv('./data/Environment_Fertilizers_E_All_Data_(Normalized).zip',sep=',',encoding='latin-1')\n",
    "crops=pd.read_csv('./data/Production_Crops_E_All_Data_(Normalized).zip',sep=',',encoding='latin-1')"
   ]
  },
  {
   "cell_type": "markdown",
   "metadata": {},
   "source": [
    "### 1) Fertilizer\n",
    "We start by taking a look at fertilizer dataset and the type of data contained by it"
   ]
  },
  {
   "cell_type": "code",
   "execution_count": 11,
   "metadata": {},
   "outputs": [
    {
     "data": {
      "text/html": [
       "<div>\n",
       "<style scoped>\n",
       "    .dataframe tbody tr th:only-of-type {\n",
       "        vertical-align: middle;\n",
       "    }\n",
       "\n",
       "    .dataframe tbody tr th {\n",
       "        vertical-align: top;\n",
       "    }\n",
       "\n",
       "    .dataframe thead th {\n",
       "        text-align: right;\n",
       "    }\n",
       "</style>\n",
       "<table border=\"1\" class=\"dataframe\">\n",
       "  <thead>\n",
       "    <tr style=\"text-align: right;\">\n",
       "      <th></th>\n",
       "      <th>Area Code</th>\n",
       "      <th>Area</th>\n",
       "      <th>Item Code</th>\n",
       "      <th>Item</th>\n",
       "      <th>Element Code</th>\n",
       "      <th>Element</th>\n",
       "      <th>Year Code</th>\n",
       "      <th>Year</th>\n",
       "      <th>Unit</th>\n",
       "      <th>Value</th>\n",
       "      <th>Flag</th>\n",
       "    </tr>\n",
       "  </thead>\n",
       "  <tbody>\n",
       "    <tr>\n",
       "      <th>0</th>\n",
       "      <td>2</td>\n",
       "      <td>Afghanistan</td>\n",
       "      <td>3102</td>\n",
       "      <td>Nutrient nitrogen N (total)</td>\n",
       "      <td>5159</td>\n",
       "      <td>Use per area of cropland</td>\n",
       "      <td>2002</td>\n",
       "      <td>2002</td>\n",
       "      <td>kg/ha</td>\n",
       "      <td>3.02</td>\n",
       "      <td>Fc</td>\n",
       "    </tr>\n",
       "  </tbody>\n",
       "</table>\n",
       "</div>"
      ],
      "text/plain": [
       "   Area Code         Area  Item Code                         Item  \\\n",
       "0          2  Afghanistan       3102  Nutrient nitrogen N (total)   \n",
       "\n",
       "   Element Code                   Element  Year Code  Year   Unit  Value Flag  \n",
       "0          5159  Use per area of cropland       2002  2002  kg/ha   3.02   Fc  "
      ]
     },
     "execution_count": 11,
     "metadata": {},
     "output_type": "execute_result"
    }
   ],
   "source": [
    "fertilizer_area.head(1)"
   ]
  },
  {
   "cell_type": "code",
   "execution_count": 12,
   "metadata": {},
   "outputs": [
    {
     "name": "stdout",
     "output_type": "stream",
     "text": [
      "Period of time covered by fertilizer_area : 2002 to 2016\n"
     ]
    }
   ],
   "source": [
    "# Looking at the range of year covered by fertilizer dataframe\n",
    "mini=min(fertilizer_area.Year)\n",
    "maxi=max(fertilizer_area.Year)\n",
    "print('Period of time covered by fertilizer_area : %d to %d'%(mini,maxi))"
   ]
  },
  {
   "cell_type": "code",
   "execution_count": 13,
   "metadata": {},
   "outputs": [
    {
     "data": {
      "text/html": [
       "<div>\n",
       "<style scoped>\n",
       "    .dataframe tbody tr th:only-of-type {\n",
       "        vertical-align: middle;\n",
       "    }\n",
       "\n",
       "    .dataframe tbody tr th {\n",
       "        vertical-align: top;\n",
       "    }\n",
       "\n",
       "    .dataframe thead th {\n",
       "        text-align: right;\n",
       "    }\n",
       "</style>\n",
       "<table border=\"1\" class=\"dataframe\">\n",
       "  <thead>\n",
       "    <tr style=\"text-align: right;\">\n",
       "      <th></th>\n",
       "      <th>Item</th>\n",
       "      <th>Item Code</th>\n",
       "    </tr>\n",
       "  </thead>\n",
       "  <tbody>\n",
       "    <tr>\n",
       "      <th>0</th>\n",
       "      <td>Nutrient nitrogen N (total)</td>\n",
       "      <td>3102</td>\n",
       "    </tr>\n",
       "    <tr>\n",
       "      <th>1</th>\n",
       "      <td>Nutrient phosphate P2O5 (total)</td>\n",
       "      <td>3103</td>\n",
       "    </tr>\n",
       "    <tr>\n",
       "      <th>2</th>\n",
       "      <td>Nutrient potash K2O (total)</td>\n",
       "      <td>3104</td>\n",
       "    </tr>\n",
       "  </tbody>\n",
       "</table>\n",
       "</div>"
      ],
      "text/plain": [
       "                              Item  Item Code\n",
       "0      Nutrient nitrogen N (total)       3102\n",
       "1  Nutrient phosphate P2O5 (total)       3103\n",
       "2      Nutrient potash K2O (total)       3104"
      ]
     },
     "execution_count": 13,
     "metadata": {},
     "output_type": "execute_result"
    }
   ],
   "source": [
    "# looking at each type of fertilizer (and associated code)\n",
    "ferti_items = pd.DataFrame({'Item':fertilizer_area['Item'].unique(), 'Item Code':fertilizer_area['Item Code'].unique()})\n",
    "ferti_items"
   ]
  },
  {
   "cell_type": "code",
   "execution_count": 14,
   "metadata": {},
   "outputs": [
    {
     "data": {
      "text/plain": [
       "197"
      ]
     },
     "execution_count": 14,
     "metadata": {},
     "output_type": "execute_result"
    }
   ],
   "source": [
    "# Take a look at how many countries this dataset has values from\n",
    "fertilizer_area.Area.unique().size"
   ]
  },
  {
   "cell_type": "code",
   "execution_count": 15,
   "metadata": {},
   "outputs": [
    {
     "data": {
      "text/html": [
       "<div>\n",
       "<style scoped>\n",
       "    .dataframe tbody tr th:only-of-type {\n",
       "        vertical-align: middle;\n",
       "    }\n",
       "\n",
       "    .dataframe tbody tr th {\n",
       "        vertical-align: top;\n",
       "    }\n",
       "\n",
       "    .dataframe thead th {\n",
       "        text-align: right;\n",
       "    }\n",
       "</style>\n",
       "<table border=\"1\" class=\"dataframe\">\n",
       "  <thead>\n",
       "    <tr style=\"text-align: right;\">\n",
       "      <th></th>\n",
       "      <th>Area Code</th>\n",
       "      <th>Area</th>\n",
       "      <th>Item Code</th>\n",
       "      <th>Item</th>\n",
       "      <th>Element Code</th>\n",
       "      <th>Element</th>\n",
       "      <th>Year Code</th>\n",
       "      <th>Year</th>\n",
       "      <th>Unit</th>\n",
       "      <th>Value</th>\n",
       "      <th>Flag</th>\n",
       "    </tr>\n",
       "  </thead>\n",
       "  <tbody>\n",
       "  </tbody>\n",
       "</table>\n",
       "</div>"
      ],
      "text/plain": [
       "Empty DataFrame\n",
       "Columns: [Area Code, Area, Item Code, Item, Element Code, Element, Year Code, Year, Unit, Value, Flag]\n",
       "Index: []"
      ]
     },
     "execution_count": 15,
     "metadata": {},
     "output_type": "execute_result"
    }
   ],
   "source": [
    "# Take a look at missing value in fertilizer_area dataset\n",
    "fertilizer_area[fertilizer_area.Value.isnull()]"
   ]
  },
  {
   "cell_type": "markdown",
   "metadata": {},
   "source": [
    "Is there really 0 missing value or is the value equal to zero when missing ?\n"
   ]
  },
  {
   "cell_type": "code",
   "execution_count": 16,
   "metadata": {},
   "outputs": [
    {
     "data": {
      "text/html": [
       "<div>\n",
       "<style scoped>\n",
       "    .dataframe tbody tr th:only-of-type {\n",
       "        vertical-align: middle;\n",
       "    }\n",
       "\n",
       "    .dataframe tbody tr th {\n",
       "        vertical-align: top;\n",
       "    }\n",
       "\n",
       "    .dataframe thead th {\n",
       "        text-align: right;\n",
       "    }\n",
       "</style>\n",
       "<table border=\"1\" class=\"dataframe\">\n",
       "  <thead>\n",
       "    <tr style=\"text-align: right;\">\n",
       "      <th></th>\n",
       "      <th>Area Code</th>\n",
       "      <th>Area</th>\n",
       "      <th>Item Code</th>\n",
       "      <th>Item</th>\n",
       "      <th>Element Code</th>\n",
       "      <th>Element</th>\n",
       "      <th>Year Code</th>\n",
       "      <th>Year</th>\n",
       "      <th>Unit</th>\n",
       "      <th>Value</th>\n",
       "      <th>Flag</th>\n",
       "    </tr>\n",
       "  </thead>\n",
       "  <tbody>\n",
       "    <tr>\n",
       "      <th>25</th>\n",
       "      <td>2</td>\n",
       "      <td>Afghanistan</td>\n",
       "      <td>3104</td>\n",
       "      <td>Nutrient potash K2O (total)</td>\n",
       "      <td>5159</td>\n",
       "      <td>Use per area of cropland</td>\n",
       "      <td>2013</td>\n",
       "      <td>2013</td>\n",
       "      <td>kg/ha</td>\n",
       "      <td>0.0</td>\n",
       "      <td>Fc</td>\n",
       "    </tr>\n",
       "    <tr>\n",
       "      <th>26</th>\n",
       "      <td>2</td>\n",
       "      <td>Afghanistan</td>\n",
       "      <td>3104</td>\n",
       "      <td>Nutrient potash K2O (total)</td>\n",
       "      <td>5159</td>\n",
       "      <td>Use per area of cropland</td>\n",
       "      <td>2014</td>\n",
       "      <td>2014</td>\n",
       "      <td>kg/ha</td>\n",
       "      <td>0.0</td>\n",
       "      <td>Fc</td>\n",
       "    </tr>\n",
       "    <tr>\n",
       "      <th>27</th>\n",
       "      <td>2</td>\n",
       "      <td>Afghanistan</td>\n",
       "      <td>3104</td>\n",
       "      <td>Nutrient potash K2O (total)</td>\n",
       "      <td>5159</td>\n",
       "      <td>Use per area of cropland</td>\n",
       "      <td>2015</td>\n",
       "      <td>2015</td>\n",
       "      <td>kg/ha</td>\n",
       "      <td>0.0</td>\n",
       "      <td>Fc</td>\n",
       "    </tr>\n",
       "    <tr>\n",
       "      <th>28</th>\n",
       "      <td>2</td>\n",
       "      <td>Afghanistan</td>\n",
       "      <td>3104</td>\n",
       "      <td>Nutrient potash K2O (total)</td>\n",
       "      <td>5159</td>\n",
       "      <td>Use per area of cropland</td>\n",
       "      <td>2016</td>\n",
       "      <td>2016</td>\n",
       "      <td>kg/ha</td>\n",
       "      <td>0.0</td>\n",
       "      <td>Fc</td>\n",
       "    </tr>\n",
       "    <tr>\n",
       "      <th>59</th>\n",
       "      <td>3</td>\n",
       "      <td>Albania</td>\n",
       "      <td>3104</td>\n",
       "      <td>Nutrient potash K2O (total)</td>\n",
       "      <td>5159</td>\n",
       "      <td>Use per area of cropland</td>\n",
       "      <td>2002</td>\n",
       "      <td>2002</td>\n",
       "      <td>kg/ha</td>\n",
       "      <td>0.0</td>\n",
       "      <td>Fc</td>\n",
       "    </tr>\n",
       "  </tbody>\n",
       "</table>\n",
       "</div>"
      ],
      "text/plain": [
       "    Area Code         Area  Item Code                         Item  \\\n",
       "25          2  Afghanistan       3104  Nutrient potash K2O (total)   \n",
       "26          2  Afghanistan       3104  Nutrient potash K2O (total)   \n",
       "27          2  Afghanistan       3104  Nutrient potash K2O (total)   \n",
       "28          2  Afghanistan       3104  Nutrient potash K2O (total)   \n",
       "59          3      Albania       3104  Nutrient potash K2O (total)   \n",
       "\n",
       "    Element Code                   Element  Year Code  Year   Unit  Value Flag  \n",
       "25          5159  Use per area of cropland       2013  2013  kg/ha    0.0   Fc  \n",
       "26          5159  Use per area of cropland       2014  2014  kg/ha    0.0   Fc  \n",
       "27          5159  Use per area of cropland       2015  2015  kg/ha    0.0   Fc  \n",
       "28          5159  Use per area of cropland       2016  2016  kg/ha    0.0   Fc  \n",
       "59          5159  Use per area of cropland       2002  2002  kg/ha    0.0   Fc  "
      ]
     },
     "execution_count": 16,
     "metadata": {},
     "output_type": "execute_result"
    }
   ],
   "source": [
    "fertilizer_area[fertilizer_area.Value ==0].head()"
   ]
  },
  {
   "cell_type": "markdown",
   "metadata": {},
   "source": [
    "We can see some countries have 0 values for some years so let's take a deeper look :"
   ]
  },
  {
   "cell_type": "code",
   "execution_count": 17,
   "metadata": {},
   "outputs": [
    {
     "data": {
      "text/html": [
       "<div>\n",
       "<style scoped>\n",
       "    .dataframe tbody tr th:only-of-type {\n",
       "        vertical-align: middle;\n",
       "    }\n",
       "\n",
       "    .dataframe tbody tr th {\n",
       "        vertical-align: top;\n",
       "    }\n",
       "\n",
       "    .dataframe thead th {\n",
       "        text-align: right;\n",
       "    }\n",
       "</style>\n",
       "<table border=\"1\" class=\"dataframe\">\n",
       "  <thead>\n",
       "    <tr style=\"text-align: right;\">\n",
       "      <th></th>\n",
       "      <th>Area Code</th>\n",
       "      <th>Area</th>\n",
       "      <th>Item Code</th>\n",
       "      <th>Item</th>\n",
       "      <th>Element Code</th>\n",
       "      <th>Element</th>\n",
       "      <th>Year Code</th>\n",
       "      <th>Year</th>\n",
       "      <th>Unit</th>\n",
       "      <th>Value</th>\n",
       "      <th>Flag</th>\n",
       "    </tr>\n",
       "  </thead>\n",
       "  <tbody>\n",
       "    <tr>\n",
       "      <th>21</th>\n",
       "      <td>2</td>\n",
       "      <td>Afghanistan</td>\n",
       "      <td>3103</td>\n",
       "      <td>Nutrient phosphate P2O5 (total)</td>\n",
       "      <td>5159</td>\n",
       "      <td>Use per area of cropland</td>\n",
       "      <td>2013</td>\n",
       "      <td>2013</td>\n",
       "      <td>kg/ha</td>\n",
       "      <td>0.19</td>\n",
       "      <td>Fc</td>\n",
       "    </tr>\n",
       "    <tr>\n",
       "      <th>22</th>\n",
       "      <td>2</td>\n",
       "      <td>Afghanistan</td>\n",
       "      <td>3103</td>\n",
       "      <td>Nutrient phosphate P2O5 (total)</td>\n",
       "      <td>5159</td>\n",
       "      <td>Use per area of cropland</td>\n",
       "      <td>2014</td>\n",
       "      <td>2014</td>\n",
       "      <td>kg/ha</td>\n",
       "      <td>0.19</td>\n",
       "      <td>Fc</td>\n",
       "    </tr>\n",
       "    <tr>\n",
       "      <th>23</th>\n",
       "      <td>2</td>\n",
       "      <td>Afghanistan</td>\n",
       "      <td>3103</td>\n",
       "      <td>Nutrient phosphate P2O5 (total)</td>\n",
       "      <td>5159</td>\n",
       "      <td>Use per area of cropland</td>\n",
       "      <td>2015</td>\n",
       "      <td>2015</td>\n",
       "      <td>kg/ha</td>\n",
       "      <td>0.19</td>\n",
       "      <td>Fc</td>\n",
       "    </tr>\n",
       "    <tr>\n",
       "      <th>24</th>\n",
       "      <td>2</td>\n",
       "      <td>Afghanistan</td>\n",
       "      <td>3103</td>\n",
       "      <td>Nutrient phosphate P2O5 (total)</td>\n",
       "      <td>5159</td>\n",
       "      <td>Use per area of cropland</td>\n",
       "      <td>2016</td>\n",
       "      <td>2016</td>\n",
       "      <td>kg/ha</td>\n",
       "      <td>0.19</td>\n",
       "      <td>Fc</td>\n",
       "    </tr>\n",
       "    <tr>\n",
       "      <th>25</th>\n",
       "      <td>2</td>\n",
       "      <td>Afghanistan</td>\n",
       "      <td>3104</td>\n",
       "      <td>Nutrient potash K2O (total)</td>\n",
       "      <td>5159</td>\n",
       "      <td>Use per area of cropland</td>\n",
       "      <td>2013</td>\n",
       "      <td>2013</td>\n",
       "      <td>kg/ha</td>\n",
       "      <td>0.00</td>\n",
       "      <td>Fc</td>\n",
       "    </tr>\n",
       "    <tr>\n",
       "      <th>26</th>\n",
       "      <td>2</td>\n",
       "      <td>Afghanistan</td>\n",
       "      <td>3104</td>\n",
       "      <td>Nutrient potash K2O (total)</td>\n",
       "      <td>5159</td>\n",
       "      <td>Use per area of cropland</td>\n",
       "      <td>2014</td>\n",
       "      <td>2014</td>\n",
       "      <td>kg/ha</td>\n",
       "      <td>0.00</td>\n",
       "      <td>Fc</td>\n",
       "    </tr>\n",
       "    <tr>\n",
       "      <th>27</th>\n",
       "      <td>2</td>\n",
       "      <td>Afghanistan</td>\n",
       "      <td>3104</td>\n",
       "      <td>Nutrient potash K2O (total)</td>\n",
       "      <td>5159</td>\n",
       "      <td>Use per area of cropland</td>\n",
       "      <td>2015</td>\n",
       "      <td>2015</td>\n",
       "      <td>kg/ha</td>\n",
       "      <td>0.00</td>\n",
       "      <td>Fc</td>\n",
       "    </tr>\n",
       "    <tr>\n",
       "      <th>28</th>\n",
       "      <td>2</td>\n",
       "      <td>Afghanistan</td>\n",
       "      <td>3104</td>\n",
       "      <td>Nutrient potash K2O (total)</td>\n",
       "      <td>5159</td>\n",
       "      <td>Use per area of cropland</td>\n",
       "      <td>2016</td>\n",
       "      <td>2016</td>\n",
       "      <td>kg/ha</td>\n",
       "      <td>0.00</td>\n",
       "      <td>Fc</td>\n",
       "    </tr>\n",
       "  </tbody>\n",
       "</table>\n",
       "</div>"
      ],
      "text/plain": [
       "    Area Code         Area  Item Code                             Item  \\\n",
       "21          2  Afghanistan       3103  Nutrient phosphate P2O5 (total)   \n",
       "22          2  Afghanistan       3103  Nutrient phosphate P2O5 (total)   \n",
       "23          2  Afghanistan       3103  Nutrient phosphate P2O5 (total)   \n",
       "24          2  Afghanistan       3103  Nutrient phosphate P2O5 (total)   \n",
       "25          2  Afghanistan       3104      Nutrient potash K2O (total)   \n",
       "26          2  Afghanistan       3104      Nutrient potash K2O (total)   \n",
       "27          2  Afghanistan       3104      Nutrient potash K2O (total)   \n",
       "28          2  Afghanistan       3104      Nutrient potash K2O (total)   \n",
       "\n",
       "    Element Code                   Element  Year Code  Year   Unit  Value Flag  \n",
       "21          5159  Use per area of cropland       2013  2013  kg/ha   0.19   Fc  \n",
       "22          5159  Use per area of cropland       2014  2014  kg/ha   0.19   Fc  \n",
       "23          5159  Use per area of cropland       2015  2015  kg/ha   0.19   Fc  \n",
       "24          5159  Use per area of cropland       2016  2016  kg/ha   0.19   Fc  \n",
       "25          5159  Use per area of cropland       2013  2013  kg/ha   0.00   Fc  \n",
       "26          5159  Use per area of cropland       2014  2014  kg/ha   0.00   Fc  \n",
       "27          5159  Use per area of cropland       2015  2015  kg/ha   0.00   Fc  \n",
       "28          5159  Use per area of cropland       2016  2016  kg/ha   0.00   Fc  "
      ]
     },
     "execution_count": 17,
     "metadata": {},
     "output_type": "execute_result"
    }
   ],
   "source": [
    "fertilizer_area[fertilizer_area.Area == 'Afghanistan'].tail(8)"
   ]
  },
  {
   "cell_type": "markdown",
   "metadata": {},
   "source": [
    "We only have value for 4 years for potash nutrient afghanistan's use so it looks like they are missing values.\n",
    "How many values are in that situation ?"
   ]
  },
  {
   "cell_type": "code",
   "execution_count": 22,
   "metadata": {},
   "outputs": [
    {
     "ename": "SyntaxError",
     "evalue": "invalid syntax (<unknown>, line 1)",
     "output_type": "error",
     "traceback": [
      "Traceback \u001b[0;36m(most recent call last)\u001b[0m:\n",
      "  File \u001b[1;32m\"/home/clelie/anaconda3/lib/python3.7/site-packages/IPython/core/interactiveshell.py\"\u001b[0m, line \u001b[1;32m3325\u001b[0m, in \u001b[1;35mrun_code\u001b[0m\n    exec(code_obj, self.user_global_ns, self.user_ns)\n",
      "  File \u001b[1;32m\"<ipython-input-22-5ae3f3e19396>\"\u001b[0m, line \u001b[1;32m7\u001b[0m, in \u001b[1;35m<module>\u001b[0m\n    overall =fertilizer_area.query('[Item Code]==3102').shape\n",
      "  File \u001b[1;32m\"/home/clelie/anaconda3/lib/python3.7/site-packages/pandas/core/frame.py\"\u001b[0m, line \u001b[1;32m3088\u001b[0m, in \u001b[1;35mquery\u001b[0m\n    res = self.eval(expr, **kwargs)\n",
      "  File \u001b[1;32m\"/home/clelie/anaconda3/lib/python3.7/site-packages/pandas/core/frame.py\"\u001b[0m, line \u001b[1;32m3203\u001b[0m, in \u001b[1;35meval\u001b[0m\n    return _eval(expr, inplace=inplace, **kwargs)\n",
      "  File \u001b[1;32m\"/home/clelie/anaconda3/lib/python3.7/site-packages/pandas/core/computation/eval.py\"\u001b[0m, line \u001b[1;32m294\u001b[0m, in \u001b[1;35meval\u001b[0m\n    truediv=truediv)\n",
      "  File \u001b[1;32m\"/home/clelie/anaconda3/lib/python3.7/site-packages/pandas/core/computation/expr.py\"\u001b[0m, line \u001b[1;32m749\u001b[0m, in \u001b[1;35m__init__\u001b[0m\n    self.terms = self.parse()\n",
      "  File \u001b[1;32m\"/home/clelie/anaconda3/lib/python3.7/site-packages/pandas/core/computation/expr.py\"\u001b[0m, line \u001b[1;32m766\u001b[0m, in \u001b[1;35mparse\u001b[0m\n    return self._visitor.visit(self.expr)\n",
      "  File \u001b[1;32m\"/home/clelie/anaconda3/lib/python3.7/site-packages/pandas/core/computation/expr.py\"\u001b[0m, line \u001b[1;32m327\u001b[0m, in \u001b[1;35mvisit\u001b[0m\n    raise e\n",
      "  File \u001b[1;32m\"/home/clelie/anaconda3/lib/python3.7/site-packages/pandas/core/computation/expr.py\"\u001b[0m, line \u001b[1;32m321\u001b[0m, in \u001b[1;35mvisit\u001b[0m\n    node = ast.fix_missing_locations(ast.parse(clean))\n",
      "\u001b[0;36m  File \u001b[0;32m\"/home/clelie/anaconda3/lib/python3.7/ast.py\"\u001b[0;36m, line \u001b[0;32m35\u001b[0;36m, in \u001b[0;35mparse\u001b[0;36m\u001b[0m\n\u001b[0;31m    return compile(source, filename, mode, PyCF_ONLY_AST)\u001b[0m\n",
      "\u001b[0;36m  File \u001b[0;32m\"<unknown>\"\u001b[0;36m, line \u001b[0;32m1\u001b[0m\n\u001b[0;31m    [Item Code ]==3102\u001b[0m\n\u001b[0m             ^\u001b[0m\n\u001b[0;31mSyntaxError\u001b[0m\u001b[0;31m:\u001b[0m invalid syntax\n"
     ]
    }
   ],
   "source": [
    "# Taking a look for Nitrogen nutrient\n",
    "overall =fertilizer_area.query('`Item Code`==3102').shape\n",
    "missing = fertilizer_area.query('Value==0').query('`Item Code`==3102').shape\n",
    "missing_area=fertilizer_area.query('Value==0').query('`Item Code`==3102').Area.unique().shape\n",
    "\n",
    "\n",
    "print('There are %d values with %d equal to zero from %d countries'%(overall[0],missing[0],missing_area[0]))"
   ]
  },
  {
   "cell_type": "code",
   "execution_count": null,
   "metadata": {},
   "outputs": [],
   "source": [
    "# Taking a look for phosphate nutrient\n",
    "overall =fertilizer_area.query('`Item Code`==3103').shape\n",
    "missing = fertilizer_area.query('Value==0').query('`Item Code`==3103').shape\n",
    "missing_area=fertilizer_area.query('Value==0').query('`Item Code`==3103').Area.unique().shape\n",
    "print('There are %d values with %d equal to zero from %d countries'%(overall[0],missing[0],missing_area[0]))"
   ]
  },
  {
   "cell_type": "code",
   "execution_count": null,
   "metadata": {},
   "outputs": [],
   "source": [
    "# Taking a look for potash nutrient\n",
    "overall =fertilizer_area.query('`Item Code`==3104').shape\n",
    "missing = fertilizer_area.query('Value==0').query('`Item Code`==3104').shape\n",
    "missing_area=fertilizer_area.query('Value==0').query('`Item Code`==3104').Area.unique().shape\n",
    "\n",
    "print('There are %d values with %d equal to zero from %d countries'%(overall[0],missing[0],missing_area[0]))"
   ]
  },
  {
   "cell_type": "markdown",
   "metadata": {},
   "source": [
    "There are only a few values missing from about 10% of the countries. We could just drop them but before doing it, we can use interpolation to replace values for countries where only a few years are missing. \n",
    "However, we need to check wether it is a reasonable approximation to interpolate the use of fertilizer over the year (i.e verify the linearity of the evolution) :\n"
   ]
  },
  {
   "cell_type": "code",
   "execution_count": null,
   "metadata": {},
   "outputs": [],
   "source": [
    "# Visual check of fertilizer evolution over the years\n",
    "fig = plt.figure(figsize = (15, 10))\n",
    "for area in fertilizer_area.sample(n=10).Area.unique()[:10]:\n",
    "    a=fertilizer_area.query('Area == @area and `Item Code`==3102')\n",
    "    x=a.Year\n",
    "    y=a.Value\n",
    "    plt.plot(x,y)\n",
    "    "
   ]
  },
  {
   "cell_type": "markdown",
   "metadata": {},
   "source": [
    "From the previous plot and because we will only care about the magnitude of fertilizer use in our analysis, it seems correct to interpolate missing values.\n",
    "To do so we need also to look at the (missing values/total values) ratio for each country and if it is too high (thus interpolation would be meaningless) we will just drop these values :"
   ]
  },
  {
   "cell_type": "code",
   "execution_count": null,
   "metadata": {},
   "outputs": [],
   "source": [
    "# Compute ratio of missing values for areas and items\n",
    "ratio=[]\n",
    "for item in ferti_items['Item Code'].values : \n",
    "    missing_area=fertilizer_area.query('Value==0').query('`Item Code`==@item').Area.unique()\n",
    "\n",
    "    for area in missing_area :\n",
    "        m=(fertilizer_area.query('Area==@area')\n",
    "        .query('Value==0')\n",
    "        .query('`Item Code`==@item')\n",
    "        .Value.count())\n",
    "        n=(fertilizer_area.query('Area==@area')\n",
    "        .query('`Item Code`==@item')\n",
    "        .Value.count())\n",
    "        ratio.append([area,item,float(m/n)])\n",
    "\n",
    "ratio=pd.DataFrame(ratio, columns=['Area','Item Code','Ratio'])\n",
    "print(fertilizer_area.shape[0])\n",
    "print(ratio.shape[0])\n",
    "ratio.head()\n"
   ]
  },
  {
   "cell_type": "markdown",
   "metadata": {},
   "source": [
    "<font color='red'>Other probleme : this programme doesn't take care of real missing value, we could add the interpolation from after where we actually replace missing values</font>"
   ]
  },
  {
   "cell_type": "markdown",
   "metadata": {},
   "source": [
    "Now that we have our ratio dataset, let's drop or interpolate the missing values :"
   ]
  },
  {
   "cell_type": "code",
   "execution_count": null,
   "metadata": {},
   "outputs": [],
   "source": [
    "#interpolation of fertilizer missing values\n",
    "na=fertilizer_area.query('Value == 0').shape\n",
    "print(\"There were %d missing values\"%na[0])\n",
    "\n",
    "for item in ferti_items['Item Code'].values : \n",
    "    # Step 1 : drop area which have more than 50% of 0 values\n",
    "    to_drop=fertilizer_area[fertilizer_area.Area.isin(ratio.query('Ratio>0.5 and `Item Code`==@item').Area)].query('`Item Code`==@item and Value == 0').index\n",
    "    fertilizer_area.drop(to_drop,inplace=True)\n",
    "    #Step 2 :creating 2 dataset : one contains area and year with missing value, the other is the dataset with all missing values dropped\n",
    "    missing_ferti=fertilizer_area.query('Value == 0 and `Item Code` == @item')\n",
    "    dropnan_ferti=fertilizer_area.query('Value != 0').query('`Item Code` ==@item')\n",
    "    #step 3 : interpolation :\n",
    "    for x in missing_ferti.Area.unique() :\n",
    "        interpolation_coef = np.polyfit(dropnan_ferti.query('Area == @x').Year,dropnan_ferti.query('Area == @x').Value,1)\n",
    "        poly = np.poly1d(interpolation_coef)\n",
    "        to_replace=fertilizer_area.index[(fertilizer_area.Area==x)&(fertilizer_area['Item Code']==item)&(fertilizer_area.Value == 0)]\n",
    "        replacing=poly(fertilizer_area.iloc[to_replace].Year)\n",
    "        df=pd.DataFrame({'Value':replacing},index=to_replace)\n",
    "        fertilizer_area.update(df,overwrite=True)\n",
    "\n",
    "na=fertilizer_area.query('Value == 0').shape\n",
    "print(\"There are %d missing values\"%na[0])\n",
    "\n",
    "#finaly replace negative value from interpolation by 0\n",
    "to_replace=fertilizer_area.index[fertilizer_area.Value < 0]\n",
    "fertilizer_area.loc[fertilizer_area.Value<0,'Value']=0"
   ]
  },
  {
   "cell_type": "markdown",
   "metadata": {},
   "source": [
    "## 2) Crop dataset\n",
    "Only selected grouped crops are selected because in order to use ML algorithm it is necessary to have independant features (and grouped crops are more likely to regroup all dependents features together).\n",
    "\n",
    "Firsty, lets take a look at yield for each country on year 2004 (arbitraly set) :\n"
   ]
  },
  {
   "cell_type": "code",
   "execution_count": null,
   "metadata": {},
   "outputs": [],
   "source": [
    "crop_corr=(crops.query('`Element Code` == 5419') #extraction of yield in crop dataset and pivot to have a df with each yield as a column (feature)\n",
    "        .query('`Year Code` == 2004')\n",
    "        .query('`Item Code` >1000')\n",
    "        .pivot(index='Area',columns='Item',values='Value')\n",
    "        .reset_index()\n",
    "          )\n",
    "print(crop_corr.shape[0])\n",
    "crop_corr.head()"
   ]
  },
  {
   "cell_type": "markdown",
   "metadata": {},
   "source": [
    "We can see that there are some missing value (either due to missing values in the crops dataset or to unproduced crops by a country).\n",
    "How many are there ?"
   ]
  },
  {
   "cell_type": "code",
   "execution_count": null,
   "metadata": {},
   "outputs": [],
   "source": [
    "# Checking in which columns values are missing for 1 year\n",
    "print(crop_corr.isnull().sum()[crop_corr.isnull().sum()!=0])"
   ]
  },
  {
   "cell_type": "markdown",
   "metadata": {},
   "source": [
    "We can expand that analysis at all the years :"
   ]
  },
  {
   "cell_type": "code",
   "execution_count": null,
   "metadata": {},
   "outputs": [],
   "source": [
    "# count total of missing values for all years\n",
    "miss_count=pd.DataFrame()\n",
    "for year in fertilizer_area.Year.unique():    \n",
    "    crop_year=(crops.query('`Element Code` == 5419')\n",
    "        .query('`Year Code` == @year')\n",
    "        .query('`Item Code` >1000')\n",
    "        .query('`Area Code` <300')\n",
    "        .pivot(index='Area Code',columns='Item',values='Value')\n",
    "        .reset_index()\n",
    "          )\n",
    "    keys=['Year','Total_row']+crop_year.columns.values.tolist()\n",
    "    values=[year, crop_year.shape[0]]+crop_year.isnull().sum().values.tolist()\n",
    "    dictionary = dict(zip(keys, values))\n",
    "    df=pd.DataFrame.from_records([dictionary])\n",
    "    miss_count=miss_count.append(df)\n",
    "miss_count.sum()"
   ]
  },
  {
   "cell_type": "markdown",
   "metadata": {},
   "source": [
    "### Interpolating missing value \n",
    "1) creating a dataset pointing to missing values and another with all missing value dropped"
   ]
  },
  {
   "cell_type": "code",
   "execution_count": null,
   "metadata": {},
   "outputs": [],
   "source": [
    "area_indexed=crops.query('`Element Code` == 5419 and `Item Code` >1000 and `Area Code`<300').set_index(['Area Code', 'Item'])\n",
    "area_indexed.head()"
   ]
  },
  {
   "cell_type": "code",
   "execution_count": null,
   "metadata": {},
   "outputs": [],
   "source": [
    "ferti_range=pd.Series(range(2002,2016+1,1))\n",
    "missing_values=pd.DataFrame(columns=['Area Code','Item','Year'])\n",
    "for area in area_indexed.index.get_level_values(level=0).unique().values:\n",
    "    for item in area_indexed.loc[area].index.unique().values:\n",
    "        year_missing=ferti_range[~ferti_range.isin(area_indexed.loc[area].loc[item].query('Year>=2002 and Year <=2016').Year)]\n",
    "        for year in year_missing:\n",
    "            missing_values =missing_values.append({'Area Code':area,'Item':item,'Year':year},ignore_index=True)\n",
    "missing_values.head()\n",
    "        "
   ]
  },
  {
   "cell_type": "code",
   "execution_count": null,
   "metadata": {},
   "outputs": [],
   "source": [
    "missing_values.shape[0]"
   ]
  },
  {
   "cell_type": "code",
   "execution_count": null,
   "metadata": {},
   "outputs": [],
   "source": [
    "#NCreating the 2nd dataset\n",
    "dropnan_crops=crops.dropna(axis=0, subset=['Value']).query('Year >= 2002 and `Element Code`==5419 and `Item Code` >1000')"
   ]
  },
  {
   "cell_type": "markdown",
   "metadata": {},
   "source": [
    "2) Executing the interpolation"
   ]
  },
  {
   "cell_type": "code",
   "execution_count": null,
   "metadata": {},
   "outputs": [],
   "source": [
    "count=0\n",
    "#Purpose of this code : adding missing value by interpolation \n",
    "for x in missing_values['Area Code'].unique():\n",
    "    for j in missing_values.query('`Area Code` == @x').Item.unique():\n",
    "        if dropnan_crops.query('`Area Code` == @x').query('`Item` == @j').shape[0]>=5 : # That condition is set to avoid replacing value for countries with not enough values\n",
    "            interpolation_coef = np.polyfit(dropnan_crops.query('`Area Code` == @x').query('Item == @j').Year,\n",
    "                                            dropnan_crops.query('`Area Code` == @x').query('Item == @j').Value,\n",
    "                                            1)\n",
    "            poly = np.poly1d(interpolation_coef)\n",
    "            for year in missing_values.query('`Area Code` == @x').query('`Item` == @j').Year.values:\n",
    "                interp_value = poly(year)\n",
    "                template = (dropnan_crops.query('`Area Code` == @x')\n",
    "                                        .query('`Item` == @j').head(1))\n",
    "                to_add = template.values\n",
    "                to_add[0][9] = interp_value\n",
    "                to_add[0][6] = year\n",
    "                to_add[0][7] = year\n",
    "                to_add=pd.DataFrame(to_add, columns=template.columns.values)\n",
    "                crops=crops.append(to_add, ignore_index=True, sort=False)\n",
    "                count+=1\n",
    "                #t=t.append(to_add,ignore_index=True)\n",
    "print(\"The operation replaced %d values\"%count)\n"
   ]
  },
  {
   "cell_type": "markdown",
   "metadata": {},
   "source": [
    "#### Saving modified crops to avoid re-running the interpolation"
   ]
  },
  {
   "cell_type": "code",
   "execution_count": null,
   "metadata": {},
   "outputs": [],
   "source": [
    "#crops.to_pickle(\"crops_interpolated\") # uncomment to save again the pickle"
   ]
  },
  {
   "cell_type": "code",
   "execution_count": null,
   "metadata": {},
   "outputs": [],
   "source": [
    "crops=pd.read_pickle(\"crops_interpolated\")"
   ]
  },
  {
   "cell_type": "code",
   "execution_count": null,
   "metadata": {},
   "outputs": [],
   "source": [
    "# To avoid duplicated index or other index issues\n",
    "crops=crops.reset_index()\n",
    "crops.drop(columns=['index'],axis=1, inplace=True)\n",
    "crops.head(1)"
   ]
  },
  {
   "cell_type": "markdown",
   "metadata": {},
   "source": [
    "3) Checking changed values "
   ]
  },
  {
   "cell_type": "code",
   "execution_count": null,
   "metadata": {},
   "outputs": [],
   "source": [
    "area_indexed2=crops.query('`Element Code` == 5419 and `Item Code` >1000 and `Area Code`<300').set_index(['Area Code', 'Item'])\n",
    "area_indexed2.head()"
   ]
  },
  {
   "cell_type": "code",
   "execution_count": null,
   "metadata": {},
   "outputs": [],
   "source": [
    "area_indexed2.shape[0]-area_indexed.shape[0]"
   ]
  },
  {
   "cell_type": "code",
   "execution_count": null,
   "metadata": {},
   "outputs": [],
   "source": [
    "ferti_range=pd.Series(range(2002,2016+1,1))\n",
    "missing_values2=pd.DataFrame(columns=['Area Code','Item','Year'])\n",
    "for area in area_indexed2.index.get_level_values(level=0).unique().values:\n",
    "    for item in area_indexed2.loc[area].index.unique().values:\n",
    "        year_missing=ferti_range[~ferti_range.isin(area_indexed2.loc[area].loc[item].query('Year>=2002 and Year <=2016').Year)]\n",
    "        for year in year_missing:\n",
    "            missing_values2 =missing_values2.append({'Area Code':area,'Item':item,'Year':year},ignore_index=True)\n",
    "missing_values2.head()"
   ]
  },
  {
   "cell_type": "code",
   "execution_count": null,
   "metadata": {},
   "outputs": [],
   "source": [
    "miss_count2=pd.DataFrame()\n",
    "for year in fertilizer_area.Year.unique():    \n",
    "    crop_year=(crops.query('`Element Code` == 5419') #extraction of yield in crop dataset and pivot to have a df with each yield as a column (feature)\n",
    "        .query('`Year Code` == @year')\n",
    "        .query('`Item Code` >1000')\n",
    "        .query('`Area Code` <300')\n",
    "        .pivot(index='Area',columns='Item',values='Value')\n",
    "        .reset_index()\n",
    "          )\n",
    "    keys=['Year','Total_row']+crop_year.columns.values.tolist()\n",
    "    values=[year, crop_year.shape[0]]+np.round(crop_year.isnull().sum().values).tolist()\n",
    "    dictionary = dict(zip(keys, values))\n",
    "    df=pd.DataFrame.from_records([dictionary])\n",
    "    miss_count2=miss_count2.append(df, sort=False)\n",
    "miss_count2.sum()\n",
    "\n"
   ]
  },
  {
   "cell_type": "code",
   "execution_count": null,
   "metadata": {},
   "outputs": [],
   "source": [
    "miss_count"
   ]
  },
  {
   "cell_type": "code",
   "execution_count": null,
   "metadata": {},
   "outputs": [],
   "source": [
    "miss_count2"
   ]
  },
  {
   "cell_type": "markdown",
   "metadata": {},
   "source": [
    "One can notice from the first table that there were 3 columns with NaN value. By construction it's due to the fact there werent any data for these crops for 2015 and 2016. The interpolation program extrapolated for these two years thus allowing us to carry out machine learning on all years. Having the same number of features for each year will also allow us to compare the results between years after having executed post-processing operations."
   ]
  },
  {
   "cell_type": "markdown",
   "metadata": {},
   "source": [
    "### Correlation between crops production"
   ]
  },
  {
   "cell_type": "markdown",
   "metadata": {},
   "source": [
    "For an efficient use of machine learning algorithms, it is also needed to have independant features. Therefore, let's take a look at the correlation heatmap between features :"
   ]
  },
  {
   "cell_type": "code",
   "execution_count": null,
   "metadata": {},
   "outputs": [],
   "source": [
    "# We did corelation on one year\n",
    "correlation = crop_corr.corr()\n",
    "\n",
    "# Plotting correlation map\n",
    "plt.figure(figsize=(15,10))\n",
    "heatmap = sns.heatmap(correlation, annot=True, linewidths=1, center=0,\\\n",
    "                      vmin=-0.75, vmax=0.75, cmap=\"RdBu_r\")\n",
    "plt.title(\"Correlation matrix of the features of the dataset 'fifa_train'.\")"
   ]
  },
  {
   "cell_type": "markdown",
   "metadata": {},
   "source": [
    "It can be observed that cereals are strongly correlated. It is therefore necessary to merge them.\n",
    "One can also notice that except citrus, there isn't any features negatively correlated to one another which seems consistent with agriculture.\n"
   ]
  },
  {
   "cell_type": "markdown",
   "metadata": {},
   "source": [
    "## Dimensionality reduction \n",
    "\n",
    "\n",
    "In order to observe the impact of fertilizers on agriculture. It is necessary to compute an indicator of that performance. Dimensionality reduction on yield for each crop and each country will compute an indicator (best explaining the difference between all yields of each country).\n",
    "\n",
    "2 different algorithms for dimensionality reduction will be used :\n",
    "* Umap because it can capture non-linear relations\n",
    "* PCA because it gives us informations about the importance of each feature through coefficients\n",
    "\n",
    "\n",
    "### Umap reduction"
   ]
  },
  {
   "cell_type": "code",
   "execution_count": null,
   "metadata": {},
   "outputs": [],
   "source": [
    "# This function separate countries in tree different groups function of their fertilizer's use\n",
    "def ferti_class(x, L): \n",
    "    ''' x is the fertilizer value, L is the set of fertilizers values'''\n",
    "    if x<np.percentile(L,33):\n",
    "        return 'low'\n",
    "    elif np.percentile(L,33)<=x<np.percentile(L,66):\n",
    "        return 'medium'\n",
    "    else:\n",
    "        return 'high'"
   ]
  },
  {
   "cell_type": "markdown",
   "metadata": {},
   "source": [
    "Definition ot the function calculating the umap reduction :\n",
    "\n",
    "Inputs : year, 1 fertilizer and for 1 or more final dimension(s).\n",
    "\n",
    "Outputs : computed year, a dataframe with Umap score as well as fertilizer value for each ountry and coeficcient from a linear interpolation of the result (fertilizer value vs umap score)\n"
   ]
  },
  {
   "cell_type": "code",
   "execution_count": 4,
   "metadata": {},
   "outputs": [],
   "source": [
    "\n",
    "def umap_year(year, ferti_code, n_components=2): \n",
    "    yield_for_merge=(crops.query('`Element Code` == 5419') #extraction of yield in crop dataset and pivot to have a df with each yield as a column (feature)\n",
    "            .query('`Year Code` == @year')\n",
    "            .query('`Item Code` >1000')\n",
    "            .query('`Area Code` <300') # Exclusion of grouped areas\n",
    "            .pivot(index='Area',columns='Item',values='Value')\n",
    "            .drop(columns=['Citrus Fruit,Total','Treenuts,Total','Fibre Crops Primary'])# drop columns with to many missing values\n",
    "            .reset_index()\n",
    "            \n",
    "              )\n",
    "    yield_for_merge['Cereal']=yield_for_merge.loc[:,['Cereals (Rice Milled Eqv)','Cereals,Total','Coarse Grain, Total']].mean(axis=1)#merge strongly correlated columns\n",
    "    yield_for_merge.drop(columns=['Cereals (Rice Milled Eqv)','Cereals,Total','Coarse Grain, Total'])\n",
    "    yield_for_merge=yield_for_merge.dropna(axis=0)\n",
    "    yield_for_umap=yield_for_merge.drop('Area',axis=1).values \n",
    "    \n",
    "    #Normalization \n",
    "    x = yield_for_umap\n",
    "    min_max_scaler = preprocessing.MinMaxScaler()\n",
    "    x_scaled = min_max_scaler.fit_transform(x)\n",
    "    yield_for_umap = pd.DataFrame(x_scaled)\n",
    "    \n",
    "    reducer = umap.UMAP(random_state=1, n_components= n_components)\n",
    "    embedding = reducer.fit_transform(yield_for_umap)\n",
    "    embedding2=pd.DataFrame(embedding)\n",
    "    embedding2=pd.merge(embedding2,yield_for_merge['Area'], left_index=True, right_index=True)\n",
    "    \n",
    "    #importation of fertilizer dataset\n",
    "    umap_fertilizer=(fertilizer_area\n",
    "                    .query('Year == @year')\n",
    "                    .query('`Area Code` <300')\n",
    "                    .query('`Item Code` == @ferti_code')\n",
    "                    .query('Value > 0')\n",
    "                    )\n",
    "    embedding2=pd.merge(embedding2,umap_fertilizer.loc[:,['Area','Value']],left_on='Area',right_on='Area')\n",
    "    \n",
    "    #Result normalization to be able to compare them between years\n",
    "    embedding2[0]=(embedding2[0]-min(embedding2[0]))/(max(embedding2[0])-min(embedding2[0]))\n",
    "    embedding2.rename(columns={0: \"Umap\"}, inplace=True)\n",
    "    embedding2['Value']=(embedding2['Value']-min(embedding2['Value']))/(max(embedding2['Value'])-min(embedding2['Value']))\n",
    "    embedding2['ferti_class']=embedding2.Value.apply(lambda x: ferti_class(x, embedding2.Value))\n",
    "    \n",
    "    coef = np.polyfit(embedding2['Umap'],embedding2.Value,1)\n",
    "    \n",
    "    return year,embedding2,coef # return year (for confirmation), performed umap and value of linear regression"
   ]
  },
  {
   "cell_type": "markdown",
   "metadata": {},
   "source": [
    "Now that functions are defined, let's take a look at fertilizer use ploted against the umap projection over the year. The linear interpolation is also plotted."
   ]
  },
  {
   "cell_type": "code",
   "execution_count": 5,
   "metadata": {},
   "outputs": [
    {
     "ename": "NameError",
     "evalue": "name 'fertilizer_area' is not defined",
     "output_type": "error",
     "traceback": [
      "\u001b[0;31m---------------------------------------------------------------------------\u001b[0m",
      "\u001b[0;31mNameError\u001b[0m                                 Traceback (most recent call last)",
      "\u001b[0;32m<ipython-input-5-e1f82076ccfd>\u001b[0m in \u001b[0;36m<module>\u001b[0;34m\u001b[0m\n\u001b[1;32m      1\u001b[0m \u001b[0;31m#plot for multiple years for Nutrient nitrogen N vs umap\u001b[0m\u001b[0;34m\u001b[0m\u001b[0;34m\u001b[0m\u001b[0;34m\u001b[0m\u001b[0m\n\u001b[0;32m----> 2\u001b[0;31m \u001b[0myear\u001b[0m\u001b[0;34m=\u001b[0m\u001b[0mfertilizer_area\u001b[0m\u001b[0;34m[\u001b[0m\u001b[0;34m'Year Code'\u001b[0m\u001b[0;34m]\u001b[0m\u001b[0;34m.\u001b[0m\u001b[0munique\u001b[0m\u001b[0;34m(\u001b[0m\u001b[0;34m)\u001b[0m\u001b[0;34m\u001b[0m\u001b[0;34m\u001b[0m\u001b[0m\n\u001b[0m\u001b[1;32m      3\u001b[0m \u001b[0mn\u001b[0m\u001b[0;34m=\u001b[0m\u001b[0mlen\u001b[0m\u001b[0;34m(\u001b[0m\u001b[0myear\u001b[0m\u001b[0;34m)\u001b[0m\u001b[0;34m\u001b[0m\u001b[0;34m\u001b[0m\u001b[0m\n\u001b[1;32m      4\u001b[0m \u001b[0mfig\u001b[0m \u001b[0;34m=\u001b[0m \u001b[0mplt\u001b[0m\u001b[0;34m.\u001b[0m\u001b[0mfigure\u001b[0m\u001b[0;34m(\u001b[0m\u001b[0mfigsize\u001b[0m \u001b[0;34m=\u001b[0m \u001b[0;34m(\u001b[0m\u001b[0;36m20\u001b[0m\u001b[0;34m,\u001b[0m \u001b[0mmath\u001b[0m\u001b[0;34m.\u001b[0m\u001b[0mceil\u001b[0m\u001b[0;34m(\u001b[0m\u001b[0mn\u001b[0m\u001b[0;34m/\u001b[0m\u001b[0;36m3\u001b[0m\u001b[0;34m)\u001b[0m\u001b[0;34m*\u001b[0m\u001b[0;36m5\u001b[0m \u001b[0;34m)\u001b[0m\u001b[0;34m)\u001b[0m\u001b[0;34m\u001b[0m\u001b[0;34m\u001b[0m\u001b[0m\n\u001b[1;32m      5\u001b[0m \u001b[0mfig\u001b[0m\u001b[0;34m.\u001b[0m\u001b[0msuptitle\u001b[0m\u001b[0;34m(\u001b[0m\u001b[0;34m'Nitrogen use by UMAP projection over the year'\u001b[0m\u001b[0;34m,\u001b[0m \u001b[0mfontsize\u001b[0m\u001b[0;34m=\u001b[0m\u001b[0;36m24\u001b[0m\u001b[0;34m)\u001b[0m\u001b[0;34m\u001b[0m\u001b[0;34m\u001b[0m\u001b[0m\n",
      "\u001b[0;31mNameError\u001b[0m: name 'fertilizer_area' is not defined"
     ]
    }
   ],
   "source": [
    "#plot for multiple years for Nutrient nitrogen N vs umap\n",
    "year=fertilizer_area['Year Code'].unique()\n",
    "n=len(year)\n",
    "fig = plt.figure(figsize = (20, math.ceil(n/3)*5 ))\n",
    "fig.suptitle('Nitrogen use by UMAP projection over the year', fontsize=24)\n",
    "for x in range (n) : \n",
    "    vis_2016=umap_year(year[x], 3102, 1)\n",
    "    ax1 = fig.add_subplot(math.ceil(n/3),3,x+1)\n",
    "    embedding2=vis_2016[1] \n",
    "    coef = vis_2016[2]\n",
    "    poly1d_fn = np.poly1d(coef)\n",
    "    clarity_ranking = embedding2.Value\n",
    "    cmap = sns.cubehelix_palette(as_cmap=True)\n",
    "    plt.scatter(embedding2['Umap'], embedding2.Value,c=clarity_ranking, cmap=cmap)\n",
    "    plt.plot(embedding2['Umap'], poly1d_fn(embedding2['Umap']))\n",
    "    plt.title('%d'%year[x]);\n",
    "    plt.xlabel(\"UMAP 1 dimension\")\n",
    "    plt.ylabel(\"Normalized fertilizer's use \")"
   ]
  },
  {
   "cell_type": "markdown",
   "metadata": {},
   "source": [
    "The correlation between Umap and fertilizer use is weak."
   ]
  },
  {
   "cell_type": "code",
   "execution_count": null,
   "metadata": {},
   "outputs": [],
   "source": [
    "fig = plt.figure(figsize = (20, 15))\n",
    "fig.suptitle('Evolution of the interpolation coefficient of each fertilizer over the year ', fontsize=25)\n",
    "for x in range(3):\n",
    "    mean=[]\n",
    "    for year in fertilizer_area.pivot_table(index=['Year Code']).index :\n",
    "        umap_result=umap_year(year,3102+x,1)\n",
    "        mean.append([umap_result[0],umap_result[2][0]])\n",
    "    mean=pd.DataFrame(mean)\n",
    "    print(stats.linregress(mean[0],mean[1]))\n",
    "    \n",
    "    # look at coef over the years\n",
    "    ax1 = fig.add_subplot(3,3,x+1)\n",
    "    coef = np.polyfit(mean[0],abs(mean[1]),1) #test regression dim 1 ...\n",
    "    poly1d_fn = np.poly1d(coef)\n",
    "    plt.plot(mean[0],abs(mean[1]), 'yo',mean[0], poly1d_fn(mean[0]), '--k')\n",
    "    \n",
    "    plt.xlabel('Year')\n",
    "    plt.ylabel('Coefficient')\n",
    "    fertilizer=ferti_items.Item[ferti_items['Item Code']==3102+x].values\n",
    "    plt.title('%s'%fertilizer)"
   ]
  },
  {
   "cell_type": "code",
   "execution_count": null,
   "metadata": {},
   "outputs": [],
   "source": [
    "umap_result[1]"
   ]
  },
  {
   "cell_type": "code",
   "execution_count": 6,
   "metadata": {},
   "outputs": [
    {
     "ename": "NameError",
     "evalue": "name 'fertilizer_area' is not defined",
     "output_type": "error",
     "traceback": [
      "\u001b[0;31m---------------------------------------------------------------------------\u001b[0m",
      "\u001b[0;31mNameError\u001b[0m                                 Traceback (most recent call last)",
      "\u001b[0;32m<ipython-input-6-33b13866dce2>\u001b[0m in \u001b[0;36m<module>\u001b[0;34m\u001b[0m\n\u001b[1;32m      3\u001b[0m \u001b[0;34m\u001b[0m\u001b[0m\n\u001b[1;32m      4\u001b[0m \u001b[0mumap_plot\u001b[0m\u001b[0;34m=\u001b[0m\u001b[0;34m[\u001b[0m\u001b[0;34m]\u001b[0m\u001b[0;34m\u001b[0m\u001b[0;34m\u001b[0m\u001b[0m\n\u001b[0;32m----> 5\u001b[0;31m \u001b[0;32mfor\u001b[0m \u001b[0myear\u001b[0m \u001b[0;32min\u001b[0m \u001b[0mfertilizer_area\u001b[0m\u001b[0;34m.\u001b[0m\u001b[0mpivot_table\u001b[0m\u001b[0;34m(\u001b[0m\u001b[0mindex\u001b[0m\u001b[0;34m=\u001b[0m\u001b[0;34m[\u001b[0m\u001b[0;34m'Year Code'\u001b[0m\u001b[0;34m]\u001b[0m\u001b[0;34m)\u001b[0m\u001b[0;34m.\u001b[0m\u001b[0mindex\u001b[0m \u001b[0;34m:\u001b[0m\u001b[0;34m\u001b[0m\u001b[0;34m\u001b[0m\u001b[0m\n\u001b[0m\u001b[1;32m      6\u001b[0m     \u001b[0mumap_result\u001b[0m\u001b[0;34m=\u001b[0m\u001b[0mumap_year\u001b[0m\u001b[0;34m(\u001b[0m\u001b[0myear\u001b[0m\u001b[0;34m,\u001b[0m\u001b[0;36m3102\u001b[0m\u001b[0;34m,\u001b[0m\u001b[0;36m1\u001b[0m\u001b[0;34m)\u001b[0m\u001b[0;34m\u001b[0m\u001b[0;34m\u001b[0m\u001b[0m\n\u001b[1;32m      7\u001b[0m     \u001b[0mlow_median\u001b[0m\u001b[0;34m=\u001b[0m\u001b[0mumap_result\u001b[0m\u001b[0;34m[\u001b[0m\u001b[0;36m1\u001b[0m\u001b[0;34m]\u001b[0m\u001b[0;34m.\u001b[0m\u001b[0mValue\u001b[0m\u001b[0;34m[\u001b[0m\u001b[0mumap_result\u001b[0m\u001b[0;34m[\u001b[0m\u001b[0;36m1\u001b[0m\u001b[0;34m]\u001b[0m\u001b[0;34m.\u001b[0m\u001b[0mferti_class\u001b[0m\u001b[0;34m==\u001b[0m\u001b[0;34m'low'\u001b[0m\u001b[0;34m]\u001b[0m\u001b[0;34m.\u001b[0m\u001b[0mmedian\u001b[0m\u001b[0;34m(\u001b[0m\u001b[0;34m)\u001b[0m\u001b[0;34m\u001b[0m\u001b[0;34m\u001b[0m\u001b[0m\n",
      "\u001b[0;31mNameError\u001b[0m: name 'fertilizer_area' is not defined"
     ]
    },
    {
     "data": {
      "text/plain": [
       "<Figure size 1440x1080 with 0 Axes>"
      ]
     },
     "metadata": {},
     "output_type": "display_data"
    }
   ],
   "source": [
    "fig = plt.figure(figsize = (20, 15))\n",
    "fig.suptitle('Evolution of the interpolation coefficient of each fertilizer over the year ', fontsize=25)\n",
    "\n",
    "umap_plot=[]\n",
    "for year in fertilizer_area.pivot_table(index=['Year Code']).index :\n",
    "    umap_result=umap_year(year,3102,1)\n",
    "    low_median=umap_result[1].Value[umap_result[1].ferti_class=='low'].median()\n",
    "    medium_median=umap_result[1].Value[umap_result[1].ferti_class=='medium'].median()\n",
    "    high_median=umap_result[1].Value[umap_result[1].ferti_class=='high'].median()\n",
    "    ferti_median=umap_result[1].Value.median()\n",
    "    \n",
    "    umap_low_median=umap_result[1].Umap[umap_result[1].ferti_class=='low'].median()\n",
    "    umap_medium_median=umap_result[1].Umap[umap_result[1].ferti_class=='medium'].median()\n",
    "    umap_high_median=umap_result[1].Umap[umap_result[1].ferti_class=='high'].median()\n",
    "    umap_median=umap_result[1].Umap.median()\n",
    "    \n",
    "    umap_plot.append([umap_result[0],umap_result[2][0],low_median,medium_median,high_median,ferti_median,\n",
    "                         umap_low_median,umap_medium_median,umap_high_median,umap_median])\n",
    "    \n",
    "umap_plot=pd.DataFrame(umap_plot, \n",
    "                          columns= ['Year','Coef','ferti low','ferti medium','ferti high','ferti',\n",
    "                                          'umap low','umap medium','umap high','umap median'])\n",
    "\n",
    "colors = [\"green\", \"blue\", \"red\"]\n",
    "\n",
    "figure = plt.figure(figsize = (20,10))\n",
    "ax1 = figure.add_subplot(2,2,1)\n",
    "ax1.plot(\"Year\", \"umap low\", data=umap_plot, color=sns.xkcd_palette(colors)[0])\n",
    "ax1.plot(\"Year\", \"umap medium\", data=umap_plot, color=sns.xkcd_palette(colors)[1])\n",
    "ax1.plot(\"Year\", \"umap high\", data=umap_plot, color=sns.xkcd_palette(colors)[2])\n",
    "ax1.plot(\"Year\", \"umap median\", data=umap_plot, color=sns.xkcd_rgb[\"black\"])\n",
    "ax1.set_ylabel('median of Umap')\n",
    "ax1.legend()\n",
    "\n",
    "ax2 = figure.add_subplot(2,2,2)\n",
    "ax2.plot(\"Year\", \"ferti low\", data=umap_plot, color=sns.xkcd_palette(colors)[0])\n",
    "ax2.plot(\"Year\", \"ferti medium\", data=umap_plot, color=sns.xkcd_palette(colors)[1])\n",
    "ax2.plot(\"Year\", \"ferti high\", data=umap_plot, color=sns.xkcd_palette(colors)[2])\n",
    "ax2.plot(\"Year\", \"ferti\", data=umap_plot, color=sns.xkcd_rgb[\"black\"])\n",
    "ax2.set_ylabel('median of fertilizer')\n",
    "ax2.legend()\n",
    "\n",
    "ax4 = figure.add_subplot(2,2,4)\n",
    "ax4.plot(\"Year\", 'Coef', 'yo', data=umap_plot)\n",
    "ax4.set_ylabel('Interpolation Coef')"
   ]
  },
  {
   "cell_type": "markdown",
   "metadata": {},
   "source": [
    "# PCA"
   ]
  },
  {
   "cell_type": "code",
   "execution_count": null,
   "metadata": {},
   "outputs": [],
   "source": [
    "def pre_processing_PCA(df, target, features):\n",
    "    # Separating out the features\n",
    "    x = df.loc[:, features].values\n",
    "    # Separating out the countries\n",
    "    y = df.loc[:,[target]].values\n",
    "    # Standardizing the features\n",
    "    x = StandardScaler().fit_transform(x)\n",
    "    return x\n",
    "\n",
    "def PCA_processing(df, target, features):\n",
    "    pca = PCA(n_components=2)\n",
    "    principalComponents = pca.fit_transform(pre_processing_PCA(df, target, features))\n",
    "    principalDf = pd.DataFrame(data = principalComponents\n",
    "             , columns = ['PC1', 'PC2'])\n",
    "    return pca,pd.concat([principalDf, df[[target]]], axis=1)"
   ]
  },
  {
   "cell_type": "code",
   "execution_count": null,
   "metadata": {},
   "outputs": [],
   "source": [
    "def PCA_year(year, ferti_code):\n",
    "    grouped_yield=(crops\n",
    "            .query('`Element Code` == 5419') #extraction of yield in crop dataset and pivot to have a df with each yield as a column (feature)\n",
    "            .query('`Year Code` == @year')\n",
    "            .query('`Item Code` >1000')\n",
    "            .query('`Area Code` <300')\n",
    "            .pivot(index='Area',columns='Item',values='Value')\n",
    "            .dropna(axis=0)\n",
    "            .reset_index()\n",
    "              )\n",
    "    pca,grouped_yield_pca = PCA_processing(grouped_yield,'Area', grouped_yield.columns[1:])\n",
    "    \n",
    "    fertilizer=(fertilizer_area\n",
    "        .query('`Year Code` == @year')\n",
    "        .query('`Area Code` <300')\n",
    "        .query('`Item Code` == @ferti_code')\n",
    "    )\n",
    "\n",
    "    grouped_yield_pca=pd.merge(grouped_yield_pca,fertilizer.loc[:,['Area','Value']],left_on='Area',right_on='Area')\n",
    "    grouped_yield_pca.dropna(axis=0, inplace=True)\n",
    "    grouped_yield_pca['ferti_class']=grouped_yield_pca.Value.apply(lambda x: ferti_class(x, grouped_yield_pca.Value))\n",
    "    grouped_yield_pca.PC1=(grouped_yield_pca.PC1-min(grouped_yield_pca.PC1))/(max(grouped_yield_pca.PC1)-min(grouped_yield_pca.PC1))\n",
    "    grouped_yield_pca.Value=(grouped_yield_pca.Value-min(grouped_yield_pca.Value))/(max(grouped_yield_pca.Value)-min(grouped_yield_pca.Value))\n",
    "    \n",
    "    \n",
    "    \n",
    "    coef = np.polyfit(grouped_yield_pca.PC1,grouped_yield_pca.Value,1)\n",
    "\n",
    "    return year,grouped_yield_pca,coef # return year (for confirmation), performed PCA and value of linear regression"
   ]
  },
  {
   "cell_type": "code",
   "execution_count": null,
   "metadata": {},
   "outputs": [],
   "source": [
    "fig = plt.figure(figsize = (20, 15))\n",
    "fig.suptitle('Evolution of the interpolation coefficient of each fertilizer over the year ', fontsize=25)\n",
    "for x in range(3):\n",
    "    mean=[]\n",
    "    for year in fertilizer_area.pivot_table(index=['Year Code']).index :\n",
    "        adding=PCA_year(year,3102+x)\n",
    "        mean.append([adding[0],adding[2][0]])\n",
    "    mean=pd.DataFrame(mean)\n",
    "    \n",
    "    # look at coef over the years\n",
    "    ax1 = fig.add_subplot(3,3,x+1)\n",
    "    coef = np.polyfit(mean[0],abs(mean[1]),1) #test regression dim 1 ...\n",
    "    poly1d_fn = np.poly1d(coef)\n",
    "    plt.plot(mean[0],abs(mean[1]), 'yo',mean[0], poly1d_fn(mean[0]), '--k')\n",
    "    \n",
    "    plt.xlabel('Year')\n",
    "    plt.ylabel('Coefficient')\n",
    "    fertilizer=ferti_items.Item[ferti_items['Item Code']==3102+x].values\n",
    "    plt.title('%s'%fertilizer)"
   ]
  },
  {
   "cell_type": "markdown",
   "metadata": {},
   "source": [
    "## Victor code modified ( normalization before polyfit and dropna added)"
   ]
  },
  {
   "cell_type": "code",
   "execution_count": null,
   "metadata": {},
   "outputs": [],
   "source": [
    "years = []\n",
    "PC1_low = []\n",
    "PC1_medium = []\n",
    "PC1_high = []\n",
    "PC1 = []\n",
    "ferti_low = []\n",
    "ferti_medium = []\n",
    "ferti_high = []\n",
    "ferti = []\n",
    "fertilizer_effect = []\n",
    "proportion_explained = []\n",
    "\n",
    "\n",
    "for year in range(2002,2016):\n",
    "    years += [year]\n",
    "    \n",
    "    grouped_yield=crops.query('`Element Code` == 5419')\\\n",
    "        .query('`Year Code` == @year')\\\n",
    "        .query('`Item Code` >1000')\\\n",
    "        .query('`Area Code` <300')\\\n",
    "        .pivot(index='Area',columns='Item',values='Value')\\\n",
    "        .dropna(axis=0)\\\n",
    "        .reset_index()\n",
    "\n",
    "\n",
    "    pca,grouped_yield_pca = PCA_processing(grouped_yield,'Area', grouped_yield.columns[1:])\n",
    "\n",
    "\n",
    "    fertilizer=(fertilizer_area.query('`Item Code` == (3102)')\n",
    "        .query('`Year Code` == @year')\n",
    "        .query('`Area Code` <300')\n",
    "        .sort_values('Value', ascending=False)\n",
    "    )\n",
    "\n",
    "    grouped_yield_pca=pd.merge(grouped_yield_pca,fertilizer.loc[:,['Area','Value']],left_on='Area',right_on='Area')\n",
    "    grouped_yield_pca['ferti_class']=grouped_yield_pca.Value.apply(lambda x: ferti_class(x, grouped_yield_pca.Value))\n",
    "\n",
    "    PC1_low += [np.median(grouped_yield_pca.PC1[grouped_yield_pca.ferti_class=='low'])]\n",
    "    PC1_medium += [np.median(grouped_yield_pca.PC1[grouped_yield_pca.ferti_class=='medium'])]\n",
    "    PC1_high += [np.median(grouped_yield_pca.PC1[grouped_yield_pca.ferti_class=='high'])]\n",
    "    PC1 += [np.median(grouped_yield_pca.PC1)]\n",
    "    \n",
    "    \n",
    "    #print(len(grouped_yield_pca.Value[grouped_yield_pca.ferti_class=='low']),len(grouped_yield_pca.Value[grouped_yield_pca.ferti_class=='medium']),len(grouped_yield_pca.Value[grouped_yield_pca.ferti_class=='high']))\n",
    "    ferti_low += [np.median(grouped_yield_pca.Value[grouped_yield_pca.ferti_class=='low'])]\n",
    "    ferti_medium += [np.median(grouped_yield_pca.Value[grouped_yield_pca.ferti_class=='medium'])]\n",
    "    ferti_high += [np.median(grouped_yield_pca.Value[grouped_yield_pca.ferti_class=='high'])]\n",
    "    \n",
    "    ferti += [np.median(grouped_yield_pca.Value)]\n",
    "    \n",
    "    grouped_yield_pca.dropna(axis=0, inplace=True)\n",
    "    grouped_yield_pca.PC1=(grouped_yield_pca.PC1-min(grouped_yield_pca.PC1))/(max(grouped_yield_pca.PC1)-min(grouped_yield_pca.PC1))\n",
    "    grouped_yield_pca.Value=(grouped_yield_pca.Value-min(grouped_yield_pca.Value))/(max(grouped_yield_pca.Value)-min(grouped_yield_pca.Value))\n",
    "    \n",
    "    fertilizer_effect += [np.poly1d(np.polyfit(grouped_yield_pca.PC1,grouped_yield_pca.Value,1))[1]]\n",
    "    proportion_explained += [pca.explained_variance_ratio_[0]]"
   ]
  },
  {
   "cell_type": "code",
   "execution_count": null,
   "metadata": {},
   "outputs": [],
   "source": [
    "evolution_ferti = pd.DataFrame([years, PC1_low, PC1_medium, PC1_high, ferti_low, ferti_medium, ferti_high,ferti,PC1, proportion_explained, fertilizer_effect], ['year', 'PC1 low', 'PC1 medium', 'PC1 high','ferti low', 'ferti medium', 'ferti high','ferti','PC1 median', 'proportion explained', 'fertilizer_effect']).T\n",
    "colors = [\"green\", \"blue\", \"red\"]\n",
    "\n",
    "figure = plt.figure(figsize = (20,10))\n",
    "ax1 = figure.add_subplot(2,2,1)\n",
    "ax1.plot(\"year\", \"PC1 low\", data=evolution_ferti, color=sns.xkcd_palette(colors)[0])\n",
    "ax1.plot(\"year\", \"PC1 medium\", data=evolution_ferti, color=sns.xkcd_palette(colors)[1])\n",
    "ax1.plot(\"year\", \"PC1 high\", data=evolution_ferti, color=sns.xkcd_palette(colors)[2])\n",
    "ax1.plot(\"year\", \"PC1 median\", data=evolution_ferti, color=sns.xkcd_rgb[\"black\"])\n",
    "ax1.set_ylabel('median of PC1')\n",
    "ax1.legend()\n",
    "\n",
    "ax2 = figure.add_subplot(2,2,2)\n",
    "ax2.plot(\"year\", \"ferti low\", data=evolution_ferti, color=sns.xkcd_palette(colors)[0])\n",
    "ax2.plot(\"year\", \"ferti medium\", data=evolution_ferti, color=sns.xkcd_palette(colors)[1])\n",
    "ax2.plot(\"year\", \"ferti high\", data=evolution_ferti, color=sns.xkcd_palette(colors)[2])\n",
    "ax2.plot(\"year\", \"ferti\", data=evolution_ferti, color=sns.xkcd_rgb[\"black\"])\n",
    "ax2.set_ylabel('median of fertilizer')\n",
    "ax2.legend()\n",
    "\n",
    "ax3 = figure.add_subplot(2,2,3)\n",
    "ax3.plot(\"year\", 'proportion explained', data=evolution_ferti)\n",
    "ax3.set_ylabel('proportion explained by the PC1')\n",
    "ax3.set_ylim([0,1])\n",
    "\n",
    "ax4 = figure.add_subplot(2,2,4)\n",
    "ax4.plot(\"year\", 'fertilizer_effect', data=evolution_ferti)\n",
    "ax4.set_ylabel('fertilizer effect')"
   ]
  },
  {
   "cell_type": "markdown",
   "metadata": {},
   "source": [
    "# Boxplot ferti distrib over the years\n",
    "(I was afraid that the tree groups median would become similar over the year (and thus making our visualization over the year for the 3 groups biased).\n",
    "So here is visualization of fertilizer use distribution over the year"
   ]
  },
  {
   "cell_type": "code",
   "execution_count": null,
   "metadata": {},
   "outputs": [],
   "source": [
    "ferti_box=pd.DataFrame(columns=['Area'])\n",
    "for year in fertilizer_area.pivot_table(index=['Year Code']).index :\n",
    "    ferti=(fertilizer_area\n",
    "            .query('`Year Code` == @year')\n",
    "            .query('`Item Code` ==3102')\n",
    "            .query('`Area Code` <300')\n",
    "            .pivot(index='Area',columns='Item Code',values='Value')\n",
    "            .dropna(axis=0)\n",
    "            .reset_index()\n",
    "              )\n",
    "    ferti.rename(columns={3102:str(year)},inplace=True)\n",
    "    ferti['ferti_class'+str(year)]=ferti[str(year)].apply(lambda x: ferti_class(x, ferti[str(year)]))\n",
    "    ferti.dropna(axis=0, inplace=True)\n",
    "    ferti_box=ferti.merge(ferti_box,on='Area',how='outer')\n",
    "    \n",
    "ferti_box.head(1)"
   ]
  },
  {
   "cell_type": "code",
   "execution_count": null,
   "metadata": {},
   "outputs": [],
   "source": [
    "colors = [\"green\", \"blue\", \"red\"]\n",
    "year=fertilizer_area['Year Code'].unique()\n",
    "n=len(year)\n",
    "fig = plt.figure(figsize = (20, math.ceil(n/3)*5 ))\n",
    "fig.suptitle('Fertilizer distribution over the years', fontsize=24)\n",
    "for x in range (n) : \n",
    "    ax1 = fig.add_subplot(math.ceil(n/3),3,x+1)\n",
    "    ax1 = sns.boxplot(x=str(x+2002), y='ferti_class'+str(x+2002), data=ferti_box, palette=sns.xkcd_palette(colors), boxprops=dict(alpha=.8))\n",
    "    ax1.grid(alpha=0.5)\n",
    "    plt.xlabel('Fertilizer use')\n",
    "    plt.title(str(x+2002), fontsize=10);"
   ]
  },
  {
   "cell_type": "markdown",
   "metadata": {},
   "source": [
    "We can see that expect for year 2005 and 2012, the distribution stay similar. Thus it's correct to use median of the tree groups over the year as previously did"
   ]
  },
  {
   "cell_type": "markdown",
   "metadata": {},
   "source": [
    "# Dataframe for map (Clélie) "
   ]
  },
  {
   "cell_type": "code",
   "execution_count": 23,
   "metadata": {},
   "outputs": [
    {
     "ename": "SyntaxError",
     "evalue": "invalid syntax (<unknown>, line 1)",
     "output_type": "error",
     "traceback": [
      "Traceback \u001b[0;36m(most recent call last)\u001b[0m:\n",
      "  File \u001b[1;32m\"/home/clelie/anaconda3/lib/python3.7/site-packages/IPython/core/interactiveshell.py\"\u001b[0m, line \u001b[1;32m3325\u001b[0m, in \u001b[1;35mrun_code\u001b[0m\n    exec(code_obj, self.user_global_ns, self.user_ns)\n",
      "  File \u001b[1;32m\"<ipython-input-23-614a0d7c8612>\"\u001b[0m, line \u001b[1;32m5\u001b[0m, in \u001b[1;35m<module>\u001b[0m\n    .query('`Element Code` == 5419') #extraction of yield in crop dataset and pivot to have a df with each yield as a column (feature)\n",
      "  File \u001b[1;32m\"/home/clelie/anaconda3/lib/python3.7/site-packages/pandas/core/frame.py\"\u001b[0m, line \u001b[1;32m3088\u001b[0m, in \u001b[1;35mquery\u001b[0m\n    res = self.eval(expr, **kwargs)\n",
      "  File \u001b[1;32m\"/home/clelie/anaconda3/lib/python3.7/site-packages/pandas/core/frame.py\"\u001b[0m, line \u001b[1;32m3203\u001b[0m, in \u001b[1;35meval\u001b[0m\n    return _eval(expr, inplace=inplace, **kwargs)\n",
      "  File \u001b[1;32m\"/home/clelie/anaconda3/lib/python3.7/site-packages/pandas/core/computation/eval.py\"\u001b[0m, line \u001b[1;32m294\u001b[0m, in \u001b[1;35meval\u001b[0m\n    truediv=truediv)\n",
      "  File \u001b[1;32m\"/home/clelie/anaconda3/lib/python3.7/site-packages/pandas/core/computation/expr.py\"\u001b[0m, line \u001b[1;32m749\u001b[0m, in \u001b[1;35m__init__\u001b[0m\n    self.terms = self.parse()\n",
      "  File \u001b[1;32m\"/home/clelie/anaconda3/lib/python3.7/site-packages/pandas/core/computation/expr.py\"\u001b[0m, line \u001b[1;32m766\u001b[0m, in \u001b[1;35mparse\u001b[0m\n    return self._visitor.visit(self.expr)\n",
      "  File \u001b[1;32m\"/home/clelie/anaconda3/lib/python3.7/site-packages/pandas/core/computation/expr.py\"\u001b[0m, line \u001b[1;32m327\u001b[0m, in \u001b[1;35mvisit\u001b[0m\n    raise e\n",
      "  File \u001b[1;32m\"/home/clelie/anaconda3/lib/python3.7/site-packages/pandas/core/computation/expr.py\"\u001b[0m, line \u001b[1;32m321\u001b[0m, in \u001b[1;35mvisit\u001b[0m\n    node = ast.fix_missing_locations(ast.parse(clean))\n",
      "\u001b[0;36m  File \u001b[0;32m\"/home/clelie/anaconda3/lib/python3.7/ast.py\"\u001b[0;36m, line \u001b[0;32m35\u001b[0;36m, in \u001b[0;35mparse\u001b[0;36m\u001b[0m\n\u001b[0;31m    return compile(source, filename, mode, PyCF_ONLY_AST)\u001b[0m\n",
      "\u001b[0;36m  File \u001b[0;32m\"<unknown>\"\u001b[0;36m, line \u001b[0;32m1\u001b[0m\n\u001b[0;31m    `Element Code `==5419\u001b[0m\n\u001b[0m    ^\u001b[0m\n\u001b[0;31mSyntaxError\u001b[0m\u001b[0;31m:\u001b[0m invalid syntax\n"
     ]
    }
   ],
   "source": [
    "#yield dataframe\n",
    "yield_indic=pd.DataFrame(columns=['Area'])\n",
    "for year in fertilizer_area.pivot_table(index=['Year Code']).index :\n",
    "    grouped_yield=(crops\n",
    "            .query('`Element Code` == 5419') #extraction of yield in crop dataset and pivot to have a df with each yield as a column (feature)\n",
    "            .query('`Year Code` == @year')\n",
    "            .query('`Item Code` >1000')\n",
    "            .query('`Area Code` <300')\n",
    "            .pivot(index='Area',columns='Item',values='Value')\n",
    "            .dropna(axis=0)\n",
    "            .reset_index()\n",
    "              )\n",
    "    pca,grouped_yield_pca = PCA_processing(grouped_yield,'Area', grouped_yield.columns[1:])\n",
    "    grouped_yield_pca.dropna(axis=0, inplace=True)\n",
    "    grouped_yield_pca.PC1=(grouped_yield_pca.PC1-min(grouped_yield_pca.PC1))/(max(grouped_yield_pca.PC1)-min(grouped_yield_pca.PC1))\n",
    "    grouped_yield_pca.rename(columns={'PC1':str(year)},inplace=True)\n",
    "    yield_indic=yield_indic.merge(grouped_yield_pca.loc[:,['Area',str(year)]], on='Area',how='outer')\n",
    "yield_indic.head(5)"
   ]
  },
  {
   "cell_type": "code",
   "execution_count": null,
   "metadata": {},
   "outputs": [],
   "source": [
    "def replace_values_geojson(df):\n",
    "    new_df = df\n",
    "    new_df[new_df.Area == 'Russian Federation'] = df[df.Area == 'Russian Federation'].replace('Russian Federation', 'Russia')\n",
    "    new_df[new_df.Area == 'Bolivia (Plurinational State of)'] = df[df.Area == 'Bolivia (Plurinational State of)'].replace('Bolivia (Plurinational State of)', 'Bolivia')\n",
    "    new_df[new_df.Area == 'Venezuela (Bolivarian Republic of)'] = df[df.Area == 'Venezuela (Bolivarian Republic of)'].replace('Venezuela (Bolivarian Republic of)', 'Venezuela')\n",
    "    new_df[new_df.Area == 'Côte d\\'Ivoire'] = df[df.Area == 'Côte d\\'Ivoire'].replace('Côte d\\'Ivoire', 'Ivory Coast')\n",
    "    new_df[new_df.Area == 'Congo'] = df[df.Area == 'Congo'].replace('Congo', 'Republic of the Congo')   \n",
    "    new_df[new_df.Area == 'Republic of Moldova'] = df[df.Area == 'Republic of Moldova'].replace('Republic of Moldova', 'Moldova')\n",
    "    new_df[new_df.Area == 'Syrian Arab Republic'] = df[df.Area == 'Syrian Arab Republic'].replace('Syrian Arab Republic', 'Syria')\n",
    "    new_df[new_df.Area == 'Iran (Islamic Republic of)'] = df[df.Area == 'Iran (Islamic Republic of)'].replace('Iran (Islamic Republic of)', 'Iran')\n",
    "    new_df[new_df.Area == 'Viet Nam'] = df[df.Area == 'Viet Nam'].replace('Viet Nam', 'Vietnam')\n",
    "    new_df[new_df.Area == 'Lao People\\'s Democratic Republic'] = df[df.Area == 'Lao People\\'s Democratic Republic'].replace('Lao People\\'s Democratic Republic', 'Laos')\n",
    "    new_df[new_df.Area == 'Democratic People\\'s Republic of Korea'] = df[df.Area == 'Democratic People\\'s Republic of Korea'].replace('Democratic People\\'s Republic of Korea', 'North Korea')\n",
    "    new_df[new_df.Area == 'Republic of Korea'] = df[df.Area == 'Republic of Korea'].replace('Republic of Korea', 'South Korea')\n",
    "    new_df[new_df.Area == 'Serbia'] = df[df.Area == 'Serbia'].replace('Serbia', 'Republic of Serbia')\n",
    "    new_df[new_df.Area == 'The former Yugoslav Republic of Macedonia'] = df[df.Area == 'The former Yugoslav Republic of Macedonia'].replace('The former Yugoslav Republic of Macedonia', 'Macedonia')\n",
    "    new_df[new_df.Area == 'China, Taiwan Province of'] = df[df.Area == 'China, Taiwan Province of'].replace('China, Taiwan Province of', 'Taiwan')\n",
    "    return(new_df)"
   ]
  },
  {
   "cell_type": "code",
   "execution_count": null,
   "metadata": {},
   "outputs": [],
   "source": [
    "# Load the GeoJson file containing the name, id and geometry of each country\n",
    "df = gpd.read_file(\"./countries.geo.json\")\n",
    "\n",
    "# Make some changes in the names of the countries in the dataset to make them match with the GeoJson file\n",
    "yield_indic = replace_values_geojson(yield_indic)\n",
    "\n",
    "# Make sure that the name of the countries in your dataframe is 'name' as in the GeoJson file\n",
    "yield_indic = yield_indic.rename(columns={'Area': 'name'})\n",
    "\n",
    "# Merge the geometry of the countries to the yield DataFrame\n",
    "yield_indic.drop_duplicates(inplace=True)\n",
    "df_final = df.merge(yield_indic, on='name', how='left')\n",
    "\n",
    "# Here, you should have a dataframe with a column name, a column id, a column geometry, and one column per year per the infrmation you want to show\n",
    "# Plot the production on an interactive map\n",
    "years = range(2002,2017) # Check that it corresponds to your year range     \n",
    "slider_columns = [\"Cereal %d\"%i for i in years]  # Replace it with the names of your column( should be given as a list)\n",
    "\n",
    "yield_map = df.plot_bokeh(\n",
    "            figsize = (900,600),\n",
    "            simplify_shapes=10000,\n",
    "            slider = slider_columns,\n",
    "            slider_range = years,\n",
    "            slider_name = 'Year',\n",
    "            colormap = 'Inferno',\n",
    "            hovertool_columns = ['id']+slider_columns,\n",
    "            title='ADD TITLE'\n",
    "            )\n",
    "\n",
    "output_file(\"NAME_YOU_WANT.html\")\n",
    "save(yield_map)"
   ]
  },
  {
   "cell_type": "code",
   "execution_count": null,
   "metadata": {},
   "outputs": [],
   "source": [
    "#ferti dataframe\n",
    "ferti_year=pd.DataFrame(columns=['Area'])\n",
    "for year in fertilizer_area.pivot_table(index=['Year Code']).index :\n",
    "    ferti=(fertilizer_area\n",
    "            .query('`Year Code` == @year')\n",
    "            .query('`Item Code` ==3102')\n",
    "            .query('`Area Code` <300')\n",
    "            .pivot(index='Area',columns='Item Code',values='Value')\n",
    "            .dropna(axis=0)\n",
    "            .reset_index()\n",
    "              )\n",
    "    ferti.rename(columns={3102:str(year)},inplace=True)\n",
    "    ferti.dropna(axis=0, inplace=True)\n",
    "    \n",
    "    ferti_year=ferti.merge(ferti_year,on='Area',how='outer')\n",
    "ferti_year.head(5)"
   ]
  },
  {
   "cell_type": "markdown",
   "metadata": {},
   "source": [
    "# Rank 5 better countries :\n"
   ]
  },
  {
   "cell_type": "code",
   "execution_count": 7,
   "metadata": {},
   "outputs": [
    {
     "ename": "NameError",
     "evalue": "name 'yield_indic' is not defined",
     "output_type": "error",
     "traceback": [
      "\u001b[0;31m---------------------------------------------------------------------------\u001b[0m",
      "\u001b[0;31mNameError\u001b[0m                                 Traceback (most recent call last)",
      "\u001b[0;32m<ipython-input-7-229ccd1accb2>\u001b[0m in \u001b[0;36m<module>\u001b[0;34m\u001b[0m\n\u001b[1;32m      1\u001b[0m \u001b[0;31m# Rank by PCA score\u001b[0m\u001b[0;34m\u001b[0m\u001b[0;34m\u001b[0m\u001b[0;34m\u001b[0m\u001b[0m\n\u001b[0;32m----> 2\u001b[0;31m \u001b[0myield_indic\u001b[0m\u001b[0;34m.\u001b[0m\u001b[0msort_values\u001b[0m\u001b[0;34m(\u001b[0m\u001b[0mby\u001b[0m\u001b[0;34m=\u001b[0m\u001b[0;34m'2009'\u001b[0m\u001b[0;34m,\u001b[0m\u001b[0mascending\u001b[0m\u001b[0;34m=\u001b[0m\u001b[0;32mFalse\u001b[0m\u001b[0;34m)\u001b[0m\u001b[0;34m.\u001b[0m\u001b[0mloc\u001b[0m\u001b[0;34m[\u001b[0m\u001b[0;34m:\u001b[0m\u001b[0;34m,\u001b[0m\u001b[0;34m[\u001b[0m\u001b[0;34m'Area'\u001b[0m\u001b[0;34m,\u001b[0m\u001b[0;34m'2009'\u001b[0m\u001b[0;34m]\u001b[0m\u001b[0;34m]\u001b[0m\u001b[0;34m.\u001b[0m\u001b[0mhead\u001b[0m\u001b[0;34m(\u001b[0m\u001b[0;36m5\u001b[0m\u001b[0;34m)\u001b[0m\u001b[0;34m\u001b[0m\u001b[0;34m\u001b[0m\u001b[0m\n\u001b[0m",
      "\u001b[0;31mNameError\u001b[0m: name 'yield_indic' is not defined"
     ]
    }
   ],
   "source": [
    "# Rank by PCA score\n",
    "yield_indic.sort_values(by='2009',ascending=False).loc[:,['Area','2009']].head(5)\n"
   ]
  },
  {
   "cell_type": "code",
   "execution_count": null,
   "metadata": {},
   "outputs": [],
   "source": [
    "# Rank by Umap score\n",
    "umap_result=umap_year(2009,3102,1)\n",
    "umap_result[1].sort_values(by='Umap',ascending=False).loc[:,['Area','Umap']].head(5)"
   ]
  },
  {
   "cell_type": "code",
   "execution_count": 8,
   "metadata": {},
   "outputs": [
    {
     "ename": "NameError",
     "evalue": "name 'fertilizer_area' is not defined",
     "output_type": "error",
     "traceback": [
      "\u001b[0;31m---------------------------------------------------------------------------\u001b[0m",
      "\u001b[0;31mNameError\u001b[0m                                 Traceback (most recent call last)",
      "\u001b[0;32m<ipython-input-8-c7a112474f74>\u001b[0m in \u001b[0;36m<module>\u001b[0;34m\u001b[0m\n\u001b[1;32m      1\u001b[0m \u001b[0;31m# Rank by fertilizer use\u001b[0m\u001b[0;34m\u001b[0m\u001b[0;34m\u001b[0m\u001b[0;34m\u001b[0m\u001b[0m\n\u001b[0;32m----> 2\u001b[0;31m fertilizer=(fertilizer_area.query('`Item Code` == (3102)')\n\u001b[0m\u001b[1;32m      3\u001b[0m         \u001b[0;34m.\u001b[0m\u001b[0mquery\u001b[0m\u001b[0;34m(\u001b[0m\u001b[0;34m'`Year Code` == 2009'\u001b[0m\u001b[0;34m)\u001b[0m\u001b[0;34m\u001b[0m\u001b[0;34m\u001b[0m\u001b[0m\n\u001b[1;32m      4\u001b[0m         \u001b[0;34m.\u001b[0m\u001b[0mquery\u001b[0m\u001b[0;34m(\u001b[0m\u001b[0;34m'`Area Code` <300'\u001b[0m\u001b[0;34m)\u001b[0m\u001b[0;34m\u001b[0m\u001b[0;34m\u001b[0m\u001b[0m\n\u001b[1;32m      5\u001b[0m         \u001b[0;34m.\u001b[0m\u001b[0msort_values\u001b[0m\u001b[0;34m(\u001b[0m\u001b[0;34m'Value'\u001b[0m\u001b[0;34m,\u001b[0m \u001b[0mascending\u001b[0m\u001b[0;34m=\u001b[0m\u001b[0;32mFalse\u001b[0m\u001b[0;34m)\u001b[0m\u001b[0;34m\u001b[0m\u001b[0;34m\u001b[0m\u001b[0m\n",
      "\u001b[0;31mNameError\u001b[0m: name 'fertilizer_area' is not defined"
     ]
    }
   ],
   "source": [
    "# Rank by fertilizer use\n",
    "fertilizer=(fertilizer_area.query('`Item Code` == (3102)')\n",
    "        .query('`Year Code` == 2009')\n",
    "        .query('`Area Code` <300')\n",
    "        .sort_values('Value', ascending=False)\n",
    "    )\n",
    "fertilizer.loc[:,['Area','Value']].head(5)"
   ]
  },
  {
   "cell_type": "markdown",
   "metadata": {},
   "source": [
    "The only value shared by both dataframes is Egypt which has the better place (but only using the Umap ranking). It correspond to the black point on the diagram \"Nitrogen Use by umap projection over the year\" previously displayed (in the Umap part)."
   ]
  },
  {
   "cell_type": "code",
   "execution_count": null,
   "metadata": {},
   "outputs": [],
   "source": []
  },
  {
   "cell_type": "code",
   "execution_count": null,
   "metadata": {},
   "outputs": [],
   "source": []
  }
 ],
 "metadata": {
  "file_extension": ".py",
  "kernelspec": {
   "display_name": "Python 3",
   "language": "python",
   "name": "python3"
  },
  "language_info": {
   "codemirror_mode": {
    "name": "ipython",
    "version": 3
   },
   "file_extension": ".py",
   "mimetype": "text/x-python",
   "name": "python",
   "nbconvert_exporter": "python",
   "pygments_lexer": "ipython3",
   "version": "3.7.3"
  },
  "mimetype": "text/x-python",
  "name": "python",
  "npconvert_exporter": "python",
  "pygments_lexer": "ipython3",
  "version": 3
 },
 "nbformat": 4,
 "nbformat_minor": 4
}
