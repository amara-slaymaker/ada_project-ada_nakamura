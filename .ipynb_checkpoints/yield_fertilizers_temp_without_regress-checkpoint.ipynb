{
 "cells": [
  {
   "cell_type": "code",
   "execution_count": 4,
   "metadata": {},
   "outputs": [],
   "source": [
    "# Let's import the libraries we need\n",
    "import pandas as pd\n",
    "import numpy as np\n",
    "import matplotlib.pyplot as plt\n",
    "import seaborn as sns\n",
    "from scipy import stats\n",
    "from sklearn.preprocessing import StandardScaler\n",
    "%matplotlib inline"
   ]
  },
  {
   "cell_type": "markdown",
   "metadata": {},
   "source": [
    "#### Step 1 : Sorting countries per use of fertilizer \n",
    "##### 1st database with amount of fertilizer (total per country and not per area)"
   ]
  },
  {
   "cell_type": "code",
   "execution_count": 5,
   "metadata": {},
   "outputs": [
    {
     "ename": "FileNotFoundError",
     "evalue": "[Errno 2] No such file or directory: './data/Emissions_Agriculture_Synthetic_Fertilizers_E_All_Data_(Normalized).zip'",
     "output_type": "error",
     "traceback": [
      "\u001b[1;31m---------------------------------------------------------------------------\u001b[0m",
      "\u001b[1;31mFileNotFoundError\u001b[0m                         Traceback (most recent call last)",
      "\u001b[1;32m<ipython-input-5-8d55ac99dc0d>\u001b[0m in \u001b[0;36m<module>\u001b[1;34m\u001b[0m\n\u001b[0;32m      1\u001b[0m \u001b[1;31m#opening database and visualization\u001b[0m\u001b[1;33m\u001b[0m\u001b[1;33m\u001b[0m\u001b[1;33m\u001b[0m\u001b[0m\n\u001b[1;32m----> 2\u001b[1;33m \u001b[0mfertilizer\u001b[0m\u001b[1;33m=\u001b[0m\u001b[0mpd\u001b[0m\u001b[1;33m.\u001b[0m\u001b[0mread_csv\u001b[0m\u001b[1;33m(\u001b[0m\u001b[1;34m'./data/Emissions_Agriculture_Synthetic_Fertilizers_E_All_Data_(Normalized).zip'\u001b[0m\u001b[1;33m,\u001b[0m\u001b[0msep\u001b[0m\u001b[1;33m=\u001b[0m\u001b[1;34m','\u001b[0m\u001b[1;33m,\u001b[0m\u001b[0mencoding\u001b[0m\u001b[1;33m=\u001b[0m\u001b[1;34m'latin-1'\u001b[0m\u001b[1;33m)\u001b[0m\u001b[1;33m\u001b[0m\u001b[1;33m\u001b[0m\u001b[0m\n\u001b[0m\u001b[0;32m      3\u001b[0m \u001b[0mfertilizer\u001b[0m\u001b[1;33m.\u001b[0m\u001b[0mhead\u001b[0m\u001b[1;33m(\u001b[0m\u001b[1;33m)\u001b[0m\u001b[1;33m\u001b[0m\u001b[1;33m\u001b[0m\u001b[0m\n",
      "\u001b[1;32m~\\.conda\\envs\\ada\\lib\\site-packages\\pandas\\io\\parsers.py\u001b[0m in \u001b[0;36mparser_f\u001b[1;34m(filepath_or_buffer, sep, delimiter, header, names, index_col, usecols, squeeze, prefix, mangle_dupe_cols, dtype, engine, converters, true_values, false_values, skipinitialspace, skiprows, skipfooter, nrows, na_values, keep_default_na, na_filter, verbose, skip_blank_lines, parse_dates, infer_datetime_format, keep_date_col, date_parser, dayfirst, cache_dates, iterator, chunksize, compression, thousands, decimal, lineterminator, quotechar, quoting, doublequote, escapechar, comment, encoding, dialect, error_bad_lines, warn_bad_lines, delim_whitespace, low_memory, memory_map, float_precision)\u001b[0m\n\u001b[0;32m    683\u001b[0m         )\n\u001b[0;32m    684\u001b[0m \u001b[1;33m\u001b[0m\u001b[0m\n\u001b[1;32m--> 685\u001b[1;33m         \u001b[1;32mreturn\u001b[0m \u001b[0m_read\u001b[0m\u001b[1;33m(\u001b[0m\u001b[0mfilepath_or_buffer\u001b[0m\u001b[1;33m,\u001b[0m \u001b[0mkwds\u001b[0m\u001b[1;33m)\u001b[0m\u001b[1;33m\u001b[0m\u001b[1;33m\u001b[0m\u001b[0m\n\u001b[0m\u001b[0;32m    686\u001b[0m \u001b[1;33m\u001b[0m\u001b[0m\n\u001b[0;32m    687\u001b[0m     \u001b[0mparser_f\u001b[0m\u001b[1;33m.\u001b[0m\u001b[0m__name__\u001b[0m \u001b[1;33m=\u001b[0m \u001b[0mname\u001b[0m\u001b[1;33m\u001b[0m\u001b[1;33m\u001b[0m\u001b[0m\n",
      "\u001b[1;32m~\\.conda\\envs\\ada\\lib\\site-packages\\pandas\\io\\parsers.py\u001b[0m in \u001b[0;36m_read\u001b[1;34m(filepath_or_buffer, kwds)\u001b[0m\n\u001b[0;32m    455\u001b[0m \u001b[1;33m\u001b[0m\u001b[0m\n\u001b[0;32m    456\u001b[0m     \u001b[1;31m# Create the parser.\u001b[0m\u001b[1;33m\u001b[0m\u001b[1;33m\u001b[0m\u001b[1;33m\u001b[0m\u001b[0m\n\u001b[1;32m--> 457\u001b[1;33m     \u001b[0mparser\u001b[0m \u001b[1;33m=\u001b[0m \u001b[0mTextFileReader\u001b[0m\u001b[1;33m(\u001b[0m\u001b[0mfp_or_buf\u001b[0m\u001b[1;33m,\u001b[0m \u001b[1;33m**\u001b[0m\u001b[0mkwds\u001b[0m\u001b[1;33m)\u001b[0m\u001b[1;33m\u001b[0m\u001b[1;33m\u001b[0m\u001b[0m\n\u001b[0m\u001b[0;32m    458\u001b[0m \u001b[1;33m\u001b[0m\u001b[0m\n\u001b[0;32m    459\u001b[0m     \u001b[1;32mif\u001b[0m \u001b[0mchunksize\u001b[0m \u001b[1;32mor\u001b[0m \u001b[0miterator\u001b[0m\u001b[1;33m:\u001b[0m\u001b[1;33m\u001b[0m\u001b[1;33m\u001b[0m\u001b[0m\n",
      "\u001b[1;32m~\\.conda\\envs\\ada\\lib\\site-packages\\pandas\\io\\parsers.py\u001b[0m in \u001b[0;36m__init__\u001b[1;34m(self, f, engine, **kwds)\u001b[0m\n\u001b[0;32m    893\u001b[0m             \u001b[0mself\u001b[0m\u001b[1;33m.\u001b[0m\u001b[0moptions\u001b[0m\u001b[1;33m[\u001b[0m\u001b[1;34m\"has_index_names\"\u001b[0m\u001b[1;33m]\u001b[0m \u001b[1;33m=\u001b[0m \u001b[0mkwds\u001b[0m\u001b[1;33m[\u001b[0m\u001b[1;34m\"has_index_names\"\u001b[0m\u001b[1;33m]\u001b[0m\u001b[1;33m\u001b[0m\u001b[1;33m\u001b[0m\u001b[0m\n\u001b[0;32m    894\u001b[0m \u001b[1;33m\u001b[0m\u001b[0m\n\u001b[1;32m--> 895\u001b[1;33m         \u001b[0mself\u001b[0m\u001b[1;33m.\u001b[0m\u001b[0m_make_engine\u001b[0m\u001b[1;33m(\u001b[0m\u001b[0mself\u001b[0m\u001b[1;33m.\u001b[0m\u001b[0mengine\u001b[0m\u001b[1;33m)\u001b[0m\u001b[1;33m\u001b[0m\u001b[1;33m\u001b[0m\u001b[0m\n\u001b[0m\u001b[0;32m    896\u001b[0m \u001b[1;33m\u001b[0m\u001b[0m\n\u001b[0;32m    897\u001b[0m     \u001b[1;32mdef\u001b[0m \u001b[0mclose\u001b[0m\u001b[1;33m(\u001b[0m\u001b[0mself\u001b[0m\u001b[1;33m)\u001b[0m\u001b[1;33m:\u001b[0m\u001b[1;33m\u001b[0m\u001b[1;33m\u001b[0m\u001b[0m\n",
      "\u001b[1;32m~\\.conda\\envs\\ada\\lib\\site-packages\\pandas\\io\\parsers.py\u001b[0m in \u001b[0;36m_make_engine\u001b[1;34m(self, engine)\u001b[0m\n\u001b[0;32m   1133\u001b[0m     \u001b[1;32mdef\u001b[0m \u001b[0m_make_engine\u001b[0m\u001b[1;33m(\u001b[0m\u001b[0mself\u001b[0m\u001b[1;33m,\u001b[0m \u001b[0mengine\u001b[0m\u001b[1;33m=\u001b[0m\u001b[1;34m\"c\"\u001b[0m\u001b[1;33m)\u001b[0m\u001b[1;33m:\u001b[0m\u001b[1;33m\u001b[0m\u001b[1;33m\u001b[0m\u001b[0m\n\u001b[0;32m   1134\u001b[0m         \u001b[1;32mif\u001b[0m \u001b[0mengine\u001b[0m \u001b[1;33m==\u001b[0m \u001b[1;34m\"c\"\u001b[0m\u001b[1;33m:\u001b[0m\u001b[1;33m\u001b[0m\u001b[1;33m\u001b[0m\u001b[0m\n\u001b[1;32m-> 1135\u001b[1;33m             \u001b[0mself\u001b[0m\u001b[1;33m.\u001b[0m\u001b[0m_engine\u001b[0m \u001b[1;33m=\u001b[0m \u001b[0mCParserWrapper\u001b[0m\u001b[1;33m(\u001b[0m\u001b[0mself\u001b[0m\u001b[1;33m.\u001b[0m\u001b[0mf\u001b[0m\u001b[1;33m,\u001b[0m \u001b[1;33m**\u001b[0m\u001b[0mself\u001b[0m\u001b[1;33m.\u001b[0m\u001b[0moptions\u001b[0m\u001b[1;33m)\u001b[0m\u001b[1;33m\u001b[0m\u001b[1;33m\u001b[0m\u001b[0m\n\u001b[0m\u001b[0;32m   1136\u001b[0m         \u001b[1;32melse\u001b[0m\u001b[1;33m:\u001b[0m\u001b[1;33m\u001b[0m\u001b[1;33m\u001b[0m\u001b[0m\n\u001b[0;32m   1137\u001b[0m             \u001b[1;32mif\u001b[0m \u001b[0mengine\u001b[0m \u001b[1;33m==\u001b[0m \u001b[1;34m\"python\"\u001b[0m\u001b[1;33m:\u001b[0m\u001b[1;33m\u001b[0m\u001b[1;33m\u001b[0m\u001b[0m\n",
      "\u001b[1;32m~\\.conda\\envs\\ada\\lib\\site-packages\\pandas\\io\\parsers.py\u001b[0m in \u001b[0;36m__init__\u001b[1;34m(self, src, **kwds)\u001b[0m\n\u001b[0;32m   1915\u001b[0m         \u001b[0mkwds\u001b[0m\u001b[1;33m[\u001b[0m\u001b[1;34m\"usecols\"\u001b[0m\u001b[1;33m]\u001b[0m \u001b[1;33m=\u001b[0m \u001b[0mself\u001b[0m\u001b[1;33m.\u001b[0m\u001b[0musecols\u001b[0m\u001b[1;33m\u001b[0m\u001b[1;33m\u001b[0m\u001b[0m\n\u001b[0;32m   1916\u001b[0m \u001b[1;33m\u001b[0m\u001b[0m\n\u001b[1;32m-> 1917\u001b[1;33m         \u001b[0mself\u001b[0m\u001b[1;33m.\u001b[0m\u001b[0m_reader\u001b[0m \u001b[1;33m=\u001b[0m \u001b[0mparsers\u001b[0m\u001b[1;33m.\u001b[0m\u001b[0mTextReader\u001b[0m\u001b[1;33m(\u001b[0m\u001b[0msrc\u001b[0m\u001b[1;33m,\u001b[0m \u001b[1;33m**\u001b[0m\u001b[0mkwds\u001b[0m\u001b[1;33m)\u001b[0m\u001b[1;33m\u001b[0m\u001b[1;33m\u001b[0m\u001b[0m\n\u001b[0m\u001b[0;32m   1918\u001b[0m         \u001b[0mself\u001b[0m\u001b[1;33m.\u001b[0m\u001b[0munnamed_cols\u001b[0m \u001b[1;33m=\u001b[0m \u001b[0mself\u001b[0m\u001b[1;33m.\u001b[0m\u001b[0m_reader\u001b[0m\u001b[1;33m.\u001b[0m\u001b[0munnamed_cols\u001b[0m\u001b[1;33m\u001b[0m\u001b[1;33m\u001b[0m\u001b[0m\n\u001b[0;32m   1919\u001b[0m \u001b[1;33m\u001b[0m\u001b[0m\n",
      "\u001b[1;32mpandas/_libs/parsers.pyx\u001b[0m in \u001b[0;36mpandas._libs.parsers.TextReader.__cinit__\u001b[1;34m()\u001b[0m\n",
      "\u001b[1;32mpandas/_libs/parsers.pyx\u001b[0m in \u001b[0;36mpandas._libs.parsers.TextReader._setup_parser_source\u001b[1;34m()\u001b[0m\n",
      "\u001b[1;32m~\\.conda\\envs\\ada\\lib\\zipfile.py\u001b[0m in \u001b[0;36m__init__\u001b[1;34m(self, file, mode, compression, allowZip64, compresslevel)\u001b[0m\n\u001b[0;32m   1205\u001b[0m             \u001b[1;32mwhile\u001b[0m \u001b[1;32mTrue\u001b[0m\u001b[1;33m:\u001b[0m\u001b[1;33m\u001b[0m\u001b[1;33m\u001b[0m\u001b[0m\n\u001b[0;32m   1206\u001b[0m                 \u001b[1;32mtry\u001b[0m\u001b[1;33m:\u001b[0m\u001b[1;33m\u001b[0m\u001b[1;33m\u001b[0m\u001b[0m\n\u001b[1;32m-> 1207\u001b[1;33m                     \u001b[0mself\u001b[0m\u001b[1;33m.\u001b[0m\u001b[0mfp\u001b[0m \u001b[1;33m=\u001b[0m \u001b[0mio\u001b[0m\u001b[1;33m.\u001b[0m\u001b[0mopen\u001b[0m\u001b[1;33m(\u001b[0m\u001b[0mfile\u001b[0m\u001b[1;33m,\u001b[0m \u001b[0mfilemode\u001b[0m\u001b[1;33m)\u001b[0m\u001b[1;33m\u001b[0m\u001b[1;33m\u001b[0m\u001b[0m\n\u001b[0m\u001b[0;32m   1208\u001b[0m                 \u001b[1;32mexcept\u001b[0m \u001b[0mOSError\u001b[0m\u001b[1;33m:\u001b[0m\u001b[1;33m\u001b[0m\u001b[1;33m\u001b[0m\u001b[0m\n\u001b[0;32m   1209\u001b[0m                     \u001b[1;32mif\u001b[0m \u001b[0mfilemode\u001b[0m \u001b[1;32min\u001b[0m \u001b[0mmodeDict\u001b[0m\u001b[1;33m:\u001b[0m\u001b[1;33m\u001b[0m\u001b[1;33m\u001b[0m\u001b[0m\n",
      "\u001b[1;31mFileNotFoundError\u001b[0m: [Errno 2] No such file or directory: './data/Emissions_Agriculture_Synthetic_Fertilizers_E_All_Data_(Normalized).zip'"
     ]
    }
   ],
   "source": [
    "#opening database and visualization\n",
    "fertilizer=pd.read_csv('./data/Emissions_Agriculture_Synthetic_Fertilizers_E_All_Data_(Normalized).zip',sep=',',encoding='latin-1')\n",
    "fertilizer.head()"
   ]
  },
  {
   "cell_type": "code",
   "execution_count": null,
   "metadata": {},
   "outputs": [],
   "source": [
    "#Determining countries most fertilizer consumer for the last year of using\n",
    "(fertilizer.query('`Element Code` == (5163, 5162)')\n",
    "    .query('`Year Code` == 2017')\n",
    "    .query('`Area Code` <300')\n",
    "    .sort_values('Value', ascending=False)\n",
    ").head()"
   ]
  },
  {
   "cell_type": "markdown",
   "metadata": {},
   "source": [
    "##### Fertilizer dataset per area"
   ]
  },
  {
   "cell_type": "code",
   "execution_count": null,
   "metadata": {},
   "outputs": [],
   "source": [
    "# As the previous sorting is not fully representative (we have a quantity of nutrient and not a quantity per surface)\n",
    "#We will rather use another dataset :\n",
    "fertilizer_area=pd.read_csv('./data/Environment_Fertilizers_E_All_Data_(Normalized).zip',sep=',',encoding='latin-1')\n",
    "fertilizer_area.head(1)"
   ]
  },
  {
   "cell_type": "code",
   "execution_count": null,
   "metadata": {},
   "outputs": [],
   "source": [
    "#Sorting as previously (but the last year is 2016 and not 2017)\n",
    "(fertilizer_area.query('`Item Code` == (3102)')\n",
    "    .query('`Year Code` == 2016')\n",
    "    .query('`Area Code` <300')\n",
    "    .sort_values('Value', ascending=False)\n",
    ").head(5)"
   ]
  },
  {
   "cell_type": "markdown",
   "metadata": {},
   "source": [
    "We could maybe improve it by making the average on all year"
   ]
  },
  {
   "cell_type": "markdown",
   "metadata": {},
   "source": [
    "#### Step 2 : Studying crops production for most fertilizer user countries (old version because now PCA)\n",
    "Visualising for maybe the 3 first countries, what are the most produced crops.\n",
    "We would like finding a country where one crop could be representative of most of fertilizer use\n"
   ]
  },
  {
   "cell_type": "code",
   "execution_count": null,
   "metadata": {},
   "outputs": [],
   "source": [
    "# We will need crop dataset to get the area harvested for each crop (as we have pesticive for an area of cropland)\n",
    "crop=pd.read_csv('./data/Production_Crops_E_All_Data_(Normalized).zip',sep=',',encoding='latin-1')\n",
    "crop.head(1)"
   ]
  },
  {
   "cell_type": "code",
   "execution_count": null,
   "metadata": {},
   "outputs": [],
   "source": [
    "# crop production for egypt (could be a function)\n",
    "x=59\n",
    "egypt_crop=(crop.query('`Area Code` == %d'%(x))\n",
    "    .query('`Year Code` == 2017')\n",
    "    .query('`Item Code` <1000')# to avoid getting value of aggregated crop (ex:cereal ...)\n",
    "    .query('`Element Code` == 5312')\n",
    "    .sort_values('Value', ascending=False)\n",
    ")\n",
    "egypt_crop.head(1)"
   ]
  },
  {
   "cell_type": "code",
   "execution_count": null,
   "metadata": {},
   "outputs": [],
   "source": [
    "# Getting a new column with the part of each area harvested on the total one\n",
    "area_tot=egypt_crop.Value.sum()\n",
    "egypt_crop=egypt_crop.assign(Part= lambda df : df.Value/area_tot)\n",
    "egypt_crop.head(1)"
   ]
  },
  {
   "cell_type": "code",
   "execution_count": null,
   "metadata": {},
   "outputs": [],
   "source": [
    "#Plotting egypt main production (5 higher) \n",
    "sns.barplot(x=egypt_crop.Item.head(5), y=egypt_crop.Value.head(5)/area_tot, palette=\"deep\")"
   ]
  },
  {
   "cell_type": "markdown",
   "metadata": {},
   "source": [
    "### PCA visualisation"
   ]
  },
  {
   "cell_type": "code",
   "execution_count": null,
   "metadata": {},
   "outputs": [],
   "source": [
    "#opening database and visualization\n",
    "crops=pd.read_csv('./data/Production_Crops_E_All_Data_(Normalized).zip',sep=',',encoding='latin-1')\n",
    "crops.head(5)"
   ]
  },
  {
   "cell_type": "code",
   "execution_count": null,
   "metadata": {},
   "outputs": [],
   "source": [
    "# we want to do a PCA between country on crops production so we need to reorganise our dataset\n",
    "yield_for_pca=(crops.query('`Element Code` == 5419')\n",
    "        .query('`Year Code` == 2016')\n",
    "        .query('`Item Code` <1000')\n",
    "        .pivot(index='Area',columns='Item',values='Value')\n",
    "        .fillna(value=0)\n",
    "        .reset_index()\n",
    "          )\n",
    "yield_for_pca.head()"
   ]
  },
  {
   "cell_type": "code",
   "execution_count": null,
   "metadata": {},
   "outputs": [],
   "source": [
    "# Compute pca for our dataset, we implemented a function in a folder to be able using it in several notebook\n",
    "%run PCA_processing\n",
    "\n",
    "pca,yield_pca=PCA_processing(yield_for_pca,'Area', yield_for_pca.columns[1:])\n",
    "'''PCA_processing(dataframe, target, features)'''"
   ]
  },
  {
   "cell_type": "code",
   "execution_count": null,
   "metadata": {},
   "outputs": [],
   "source": [
    "#Visualizing our PCA and some stat about it\n",
    "%run PCA_viz\n",
    "\n",
    "print(pca.explained_variance_ratio_)\n",
    "\n",
    "PCA_viz(yield_pca)\n",
    "'''PCA_viz(dataframe)'''"
   ]
  },
  {
   "cell_type": "code",
   "execution_count": null,
   "metadata": {},
   "outputs": [],
   "source": [
    "# In this dataframe, we want to compute the PCA on group of products\n",
    "grouped_yield_for_pca=(crops.query('`Element Code` == 5419')\n",
    "        .query('`Year Code` == 2016')\n",
    "        .query('`Item Code` >1000')\n",
    "        .pivot(index='Area',columns='Item',values='Value')\n",
    "        .fillna(value=0)\n",
    "        .reset_index()\n",
    "          )\n",
    "grouped_yield_for_pca.head()"
   ]
  },
  {
   "cell_type": "code",
   "execution_count": null,
   "metadata": {},
   "outputs": [],
   "source": [
    "#computing the PCA\n",
    "%run PCA_processing\n",
    "\n",
    "pca,grouped_yield_pca=PCA_processing(grouped_yield_for_pca,'Area', grouped_yield_for_pca.columns[1:])"
   ]
  },
  {
   "cell_type": "code",
   "execution_count": null,
   "metadata": {},
   "outputs": [],
   "source": [
    "grouped_yield_pca.head()"
   ]
  },
  {
   "cell_type": "code",
   "execution_count": null,
   "metadata": {},
   "outputs": [],
   "source": [
    "#Visualizing our PCA and some stat about it\n",
    "%run PCA_viz\n",
    "print(pca.explained_variance_ratio_)\n",
    "PCA_viz(grouped_yield_pca)"
   ]
  },
  {
   "cell_type": "code",
   "execution_count": null,
   "metadata": {},
   "outputs": [],
   "source": [
    "def ferti_class(x): #associate a color to each bin of fertilizer\n",
    "    if x<50 :\n",
    "        return 'low'\n",
    "    elif 50<=x<150:\n",
    "        return 'medium'\n",
    "    else:\n",
    "        return 'high'"
   ]
  },
  {
   "cell_type": "code",
   "execution_count": null,
   "metadata": {},
   "outputs": [],
   "source": [
    "#Getting use of fertilizer per country for 2016\n",
    "fertilizer_area_2016=(fertilizer_area.query('`Item Code` == (3102)')\n",
    "    .query('`Year Code` == 2016')\n",
    "    .query('`Area Code` <300')\n",
    "    .sort_values('Value', ascending=False)\n",
    ")\n",
    "fertilizer_area_2016.head(1)"
   ]
  },
  {
   "cell_type": "code",
   "execution_count": null,
   "metadata": {},
   "outputs": [],
   "source": [
    "#Adding fertilizer use for each country in our previous dataset (grouped crops)\n",
    "grouped_yield_pca_fertilizer=pd.merge(grouped_yield_pca,fertilizer_area_2016.loc[:,['Area','Value']],left_on='Area',right_on='Area')\n",
    "grouped_yield_pca_fertilizer['ferti_class']=grouped_yield_pca_fertilizer.Value.apply(ferti_class)"
   ]
  },
  {
   "cell_type": "code",
   "execution_count": null,
   "metadata": {},
   "outputs": [],
   "source": [
    "# Visualizing again PCA but colour are function of fertilizer use\n",
    "fig = plt.figure(figsize = (8,8))\n",
    "ax = fig.add_subplot(1,1,1) \n",
    "ax.set_xlabel('Principal Component 1', fontsize = 15)\n",
    "ax.set_ylabel('Principal Component 2', fontsize = 15)\n",
    "ax.set_title('2 component PCA', fontsize = 20)\n",
    "\n",
    "\n",
    "colors = [\"green\", \"blue\", \"red\"]\n",
    "ax.grid(alpha=0.5)\n",
    "ax = sns.scatterplot(x='PC1', y='PC2', hue='ferti_class', palette=sns.xkcd_palette(colors), data=grouped_yield_pca_fertilizer, s=80,edgecolor=\"black\")"
   ]
  },
  {
   "cell_type": "code",
   "execution_count": null,
   "metadata": {},
   "outputs": [],
   "source": [
    "# Visualizing distribution per fertilizer group on component 1 axis (PC1)\n",
    "fig = plt.figure(figsize = (8,4))\n",
    "#sns.palplot(sns.cubehelix_palette(3))\n",
    "ax = sns.boxplot(x='PC1', y='ferti_class', data=grouped_yield_pca_fertilizer, palette=sns.xkcd_palette(colors), boxprops=dict(alpha=.8))\n",
    "ax = sns.swarmplot(x='PC1', y='ferti_class', data=grouped_yield_pca_fertilizer, color=\".25\")\n",
    "ax.grid(alpha=0.5)"
   ]
  },
  {
   "cell_type": "code",
   "execution_count": null,
   "metadata": {},
   "outputs": [],
   "source": [
    "# Visualizing distribution per fertilizer group on component 2 axis (PC2)\n",
    "fig = plt.figure(figsize = (8,4))\n",
    "ax = sns.boxplot(x='PC2', y='ferti_class', data=grouped_yield_pca_fertilizer, palette=sns.xkcd_palette(colors), boxprops=dict(alpha=.8))\n",
    "ax = sns.swarmplot(x='PC2', y='ferti_class', data=grouped_yield_pca_fertilizer, color=\".25\")\n",
    "ax.grid(alpha=0.5)"
   ]
  },
  {
   "cell_type": "code",
   "execution_count": null,
   "metadata": {},
   "outputs": [],
   "source": [
    "# Same but on an histogram\n",
    "fig = plt.figure(figsize = (8,4))\n",
    "grouped_yield_pca_fertilizer.groupby(grouped_yield_pca_fertilizer.ferti_class).PC1.hist()\n",
    "#stats.f_oneway(grouped_yield_pca_fertilizer.PC1[grouped_yield_pca_fertilizer.ferti_class=='g'], \n",
    "            #grouped_yield_pca_fertilizer.PC1[grouped_yield_pca_fertilizer.ferti_class=='b'],grouped_yield_pca_fertilizer.PC1[grouped_yield_pca_fertilizer.ferti_class=='r'])\n"
   ]
  },
  {
   "cell_type": "code",
   "execution_count": null,
   "metadata": {},
   "outputs": [],
   "source": [
    "print(stats.shapiro(grouped_yield_pca_fertilizer.PC1[grouped_yield_pca_fertilizer.ferti_class=='low']),'\\n',\n",
    "      stats.shapiro(grouped_yield_pca_fertilizer.PC1[grouped_yield_pca_fertilizer.ferti_class=='medium']),'\\n',\n",
    "      stats.shapiro(grouped_yield_pca_fertilizer.PC1[grouped_yield_pca_fertilizer.ferti_class=='high']))\n",
    "print('High group cannot be modelize by a normal distribution. As anova is not very robust to normal distribution assumption, we will use a Kruskal Wallis non-parametric test.')"
   ]
  },
  {
   "cell_type": "code",
   "execution_count": null,
   "metadata": {},
   "outputs": [],
   "source": [
    "import scikit_posthocs as sp #you have to \"pip install scikit-posthocs\" to make it work\n",
    "\n",
    "print(stats.kruskal(grouped_yield_pca_fertilizer.PC1[grouped_yield_pca_fertilizer.ferti_class=='low'],\n",
    "                    grouped_yield_pca_fertilizer.PC1[grouped_yield_pca_fertilizer.ferti_class=='medium'],\n",
    "                    grouped_yield_pca_fertilizer.PC1[grouped_yield_pca_fertilizer.ferti_class=='high']))\n",
    "\n",
    "print(sp.posthoc_dunn([grouped_yield_pca_fertilizer.PC1[grouped_yield_pca_fertilizer.ferti_class=='low'],\n",
    "                    grouped_yield_pca_fertilizer.PC1[grouped_yield_pca_fertilizer.ferti_class=='medium'],\n",
    "                    grouped_yield_pca_fertilizer.PC1[grouped_yield_pca_fertilizer.ferti_class=='high']]))\n",
    "print('The groups are significantly different, based on rank test on PC1')"
   ]
  },
  {
   "cell_type": "markdown",
   "metadata": {},
   "source": [
    "### Other PCA (for other informations):\n",
    "\n",
    "1: Per crops (and not groups), just adding fertilizer colour"
   ]
  },
  {
   "cell_type": "code",
   "execution_count": null,
   "metadata": {},
   "outputs": [],
   "source": [
    "yield_pca_fertilizer=pd.merge(yield_pca,fertilizer_area_2016.loc[:,['Area','Value']],left_on='Area',right_on='Area')\n",
    "yield_pca_fertilizer['ferti_class']=yield_pca_fertilizer.Value.apply(ferti_class)"
   ]
  },
  {
   "cell_type": "code",
   "execution_count": null,
   "metadata": {},
   "outputs": [],
   "source": [
    "# Visualizing again PCA but colour are function of fertilizer use\n",
    "fig = plt.figure(figsize = (8,8))\n",
    "ax = fig.add_subplot(1,1,1) \n",
    "ax.set_xlabel('Principal Component 1', fontsize = 15)\n",
    "ax.set_ylabel('Principal Component 2', fontsize = 15)\n",
    "ax.set_title('2 component PCA crops', fontsize = 20)\n",
    "\n",
    "\n",
    "colors = [\"green\", \"blue\", \"red\"]\n",
    "ax.grid(alpha=0.5)\n",
    "ax = sns.scatterplot(x='PC1', y='PC2', hue='ferti_class', palette=sns.xkcd_palette(colors), data=yield_pca_fertilizer, s=80,edgecolor=\"black\")"
   ]
  },
  {
   "cell_type": "markdown",
   "metadata": {},
   "source": [
    "### 2 : PCA yield/pesticides"
   ]
  },
  {
   "cell_type": "code",
   "execution_count": null,
   "metadata": {},
   "outputs": [],
   "source": [
    "pesticides=pd.read_csv('./data/Environment_Pesticides_E_All_Data_(Normalized).zip',sep=',',encoding='latin-1')\n",
    "pesticides.head(1)"
   ]
  },
  {
   "cell_type": "code",
   "execution_count": null,
   "metadata": {},
   "outputs": [],
   "source": [
    "pesticides.pivot_table(index=['Area'], aggfunc='size').head(5)"
   ]
  },
  {
   "cell_type": "code",
   "execution_count": null,
   "metadata": {},
   "outputs": [],
   "source": [
    "pesticides.pivot_table(index=['Year'], aggfunc='size').tail(4)"
   ]
  },
  {
   "cell_type": "code",
   "execution_count": null,
   "metadata": {},
   "outputs": [],
   "source": [
    "pesticides_2016=pesticides.query('Year == 2016')\n",
    "pesticides_2016.Value.hist(bins=50)"
   ]
  },
  {
   "cell_type": "code",
   "execution_count": null,
   "metadata": {},
   "outputs": [],
   "source": [
    "def pesti_class(x): #associate a color to each bin of pesticide\n",
    "    if x<2 :\n",
    "        return 'low'\n",
    "    elif 2<=x<10:\n",
    "        return 'medium'\n",
    "    else:\n",
    "        return 'high'"
   ]
  },
  {
   "cell_type": "code",
   "execution_count": null,
   "metadata": {},
   "outputs": [],
   "source": [
    "#Adding pesticide use for each country in our previous dataset (grouped crops)\n",
    "grouped_yield_pca_pesticides=pd.merge(grouped_yield_pca,pesticides_2016.loc[:,['Area','Value']],left_on='Area',right_on='Area')\n",
    "grouped_yield_pca_pesticides['pesti_class']=grouped_yield_pca_pesticides.Value.apply(pesti_class)"
   ]
  },
  {
   "cell_type": "code",
   "execution_count": null,
   "metadata": {},
   "outputs": [],
   "source": [
    "# Visualizing again PCA but colour are function of pesticide use\n",
    "fig = plt.figure(figsize = (8,8))\n",
    "ax = fig.add_subplot(1,1,1) \n",
    "ax.set_xlabel('Principal Component 1', fontsize = 15)\n",
    "ax.set_ylabel('Principal Component 2', fontsize = 15)\n",
    "ax.set_title('2 component PCA grouped yield', fontsize = 20)\n",
    "\n",
    "\n",
    "colors = [\"green\", \"blue\", \"red\"]\n",
    "ax.grid(alpha=0.5)\n",
    "ax = sns.scatterplot(x='PC1', y='PC2', hue='pesti_class', palette=sns.xkcd_palette(colors), data=grouped_yield_pca_pesticides, s=80,edgecolor=\"black\")"
   ]
  },
  {
   "cell_type": "code",
   "execution_count": null,
   "metadata": {},
   "outputs": [],
   "source": [
    "#Adding pesticide use for each country in our previous dataset (grouped crops)\n",
    "yield_pca_pesticides=pd.merge(yield_pca,pesticides_2016.loc[:,['Area','Value']],left_on='Area',right_on='Area')\n",
    "yield_pca_pesticides['pesti_class']=yield_pca_pesticides.Value.apply(pesti_class)"
   ]
  },
  {
   "cell_type": "code",
   "execution_count": null,
   "metadata": {},
   "outputs": [],
   "source": [
    "# Visualizing again PCA but colour are function of pesticide use\n",
    "fig = plt.figure(figsize = (8,8))\n",
    "ax = fig.add_subplot(1,1,1) \n",
    "ax.set_xlabel('Principal Component 1', fontsize = 15)\n",
    "ax.set_ylabel('Principal Component 2', fontsize = 15)\n",
    "ax.set_title('2 component PCA yield', fontsize = 20)\n",
    "\n",
    "\n",
    "colors = [\"green\", \"blue\", \"red\"]\n",
    "ax.grid(alpha=0.5)\n",
    "ax = sns.scatterplot(x='PC1', y='PC2', hue='pesti_class', palette=sns.xkcd_palette(colors), data=yield_pca_pesticides, s=80,edgecolor=\"black\")"
   ]
  },
  {
   "cell_type": "markdown",
   "metadata": {},
   "source": [
    "## 3: Machinery"
   ]
  },
  {
   "cell_type": "code",
   "execution_count": null,
   "metadata": {},
   "outputs": [],
   "source": [
    "machinery=pd.read_csv('./data/Investment_Machinery_E_All_Data_(Normalized).zip',sep=',',encoding='latin-1')\n",
    "machinery.head(1)"
   ]
  },
  {
   "cell_type": "code",
   "execution_count": null,
   "metadata": {},
   "outputs": [],
   "source": [
    "machinery.pivot_table(index=['Item'], aggfunc='size')"
   ]
  },
  {
   "cell_type": "code",
   "execution_count": null,
   "metadata": {},
   "outputs": [],
   "source": [
    "machinery.pivot_table(index=['Year'], aggfunc='size')"
   ]
  },
  {
   "cell_type": "code",
   "execution_count": null,
   "metadata": {},
   "outputs": [],
   "source": [
    "machinery.pivot_table(index=['Element','Element Code'], aggfunc='size')"
   ]
  },
  {
   "cell_type": "code",
   "execution_count": null,
   "metadata": {},
   "outputs": [],
   "source": [
    "(machinery.query('`Element Code` == 5116')\n",
    "        .query('Year==2007')\n",
    "        .pivot_table(index=['Item','Item Code'], aggfunc='size')\n",
    ")"
   ]
  },
  {
   "cell_type": "code",
   "execution_count": null,
   "metadata": {},
   "outputs": [],
   "source": [
    "(machinery.query('`Element Code` == 5116')\n",
    "        .query('Year==2007')\n",
    "        .query('`Item Code` == 2455011')\n",
    "        .Value\n",
    "        .hist()\n",
    ")\n"
   ]
  },
  {
   "cell_type": "markdown",
   "metadata": {},
   "source": [
    "We can maybe see outliers with huge differences into distribution value"
   ]
  },
  {
   "cell_type": "code",
   "execution_count": null,
   "metadata": {},
   "outputs": [],
   "source": [
    "# look at huge value to see if there are some inconsistences\n",
    "(machinery.query('`Element Code` == 5116')\n",
    "        .query('Year==2007')\n",
    "        .query('`Item Code` == 2455011')\n",
    "        .query('Value > 100000')\n",
    ").head()"
   ]
  },
  {
   "cell_type": "markdown",
   "metadata": {},
   "source": [
    "The unit \"no\" is quite surprising. In the FAO website we can just read that its a number, no information about the unit.\n",
    "Thus, are units congruents ?"
   ]
  },
  {
   "cell_type": "code",
   "execution_count": null,
   "metadata": {},
   "outputs": [],
   "source": [
    "# select only small values\n",
    "machinery_small=(machinery.query('`Element Code` == 5116')\n",
    "        .query('Year==2007')\n",
    "        .query('`Item Code` == 2455011')\n",
    "        .query('Value < 100000')\n",
    ")\n",
    "machinery_small.Value.hist()"
   ]
  },
  {
   "cell_type": "markdown",
   "metadata": {},
   "source": [
    "Seems to be more easily analyzable so we will test this parameter"
   ]
  },
  {
   "cell_type": "code",
   "execution_count": null,
   "metadata": {},
   "outputs": [],
   "source": [
    "def machi_class(x): #associate a color to each bin of pesticide\n",
    "    if x<10000 :\n",
    "        return 'low'\n",
    "    elif 10000<=x<40000:\n",
    "        return 'medium'\n",
    "    else:\n",
    "        return 'high'"
   ]
  },
  {
   "cell_type": "code",
   "execution_count": null,
   "metadata": {},
   "outputs": [],
   "source": [
    "#inner joint by default so we don't need to drop high value\n",
    "yield_pca_machinery=pd.merge(yield_pca,machinery_small.loc[:,['Area','Value']],left_on='Area',right_on='Area')\n",
    "yield_pca_machinery['machi_class']=yield_pca_machinery.Value.apply(machi_class)"
   ]
  },
  {
   "cell_type": "code",
   "execution_count": null,
   "metadata": {},
   "outputs": [],
   "source": [
    "# Visualizing again PCA but colour are function of pesticide use\n",
    "fig = plt.figure(figsize = (8,8))\n",
    "ax = fig.add_subplot(1,1,1) \n",
    "ax.set_xlabel('Principal Component 1', fontsize = 15)\n",
    "ax.set_ylabel('Principal Component 2', fontsize = 15)\n",
    "ax.set_title('2 component PCA yield', fontsize = 20)\n",
    "\n",
    "\n",
    "colors = [\"green\", \"blue\", \"red\"]\n",
    "ax.grid(alpha=0.5)\n",
    "ax = sns.scatterplot(x='PC1', y='PC2', hue='machi_class', palette=sns.xkcd_palette(colors), data=yield_pca_machinery, s=80,edgecolor=\"black\")"
   ]
  },
  {
   "cell_type": "code",
   "execution_count": null,
   "metadata": {},
   "outputs": [],
   "source": [
    "grouped_yield_pca_machinery=pd.merge(grouped_yield_pca,machinery_small.loc[:,['Area','Value']],left_on='Area',right_on='Area')\n",
    "grouped_yield_pca_machinery['machi_class']=grouped_yield_pca_machinery.Value.apply(machi_class)"
   ]
  },
  {
   "cell_type": "code",
   "execution_count": null,
   "metadata": {},
   "outputs": [],
   "source": [
    "# Visualizing again PCA but colour are function of pesticide use\n",
    "fig = plt.figure(figsize = (8,8))\n",
    "ax = fig.add_subplot(1,1,1) \n",
    "ax.set_xlabel('Principal Component 1', fontsize = 15)\n",
    "ax.set_ylabel('Principal Component 2', fontsize = 15)\n",
    "ax.set_title('2 component PCA yield grouped', fontsize = 20)\n",
    "\n",
    "\n",
    "colors = [\"green\", \"blue\", \"red\"]\n",
    "ax.grid(alpha=0.5)\n",
    "ax = sns.scatterplot(x='PC1', y='PC2', hue='machi_class', palette=sns.xkcd_palette(colors), data=grouped_yield_pca_machinery, s=80,edgecolor=\"black\")"
   ]
  },
  {
   "cell_type": "markdown",
   "metadata": {},
   "source": [
    "# Study of yield evolution function of time for our 3 groups (fertilizer)"
   ]
  },
  {
   "cell_type": "code",
   "execution_count": null,
   "metadata": {},
   "outputs": [],
   "source": [
    "grouped_yield_pca_fertilizer.PC1[grouped_yield_pca_fertilizer.ferti_class == 'low'].median()"
   ]
  },
  {
   "cell_type": "code",
   "execution_count": null,
   "metadata": {},
   "outputs": [],
   "source": [
    "#opening database and visualization\n",
    "crops=pd.read_csv('./data/Production_Crops_E_All_Data_(Normalized).zip',sep=',',encoding='latin-1')\n",
    "crops.head(5)"
   ]
  },
  {
   "cell_type": "code",
   "execution_count": null,
   "metadata": {},
   "outputs": [],
   "source": [
    "year=2016\n",
    "fertilizer_area.query('Year==%d'%year).loc[:,['Area','Value']]\n",
    "fertilizer_area_2016.head()"
   ]
  },
  {
   "cell_type": "code",
   "execution_count": null,
   "metadata": {},
   "outputs": [],
   "source": [
    "year=1980\n",
    "yield_for_pca=(crops.query('`Element Code` == 5419')\n",
    "            .query('`Year Code` == %d'%year)\n",
    "            .query('`Item Code` <1000')\n",
    "            .pivot(index='Area',columns='Item',values='Value')\n",
    "            .fillna(value=0)\n",
    "            .reset_index()\n",
    "              )\n",
    "pca,yield_pca=PCA_processing(yield_for_pca,'Area', yield_for_pca.columns[1:])\n",
    "yield_pca_fertilizer=pd.merge(yield_pca,\n",
    "            fertilizer_area.query('Year==%d'%year).loc[:,['Area','Value']],\n",
    "            left_on='Area',\n",
    "            right_on='Area'\n",
    "            )\n",
    "yield_pca_fertilizer.dropna\n",
    "yield_pca_fertilizer['ferti_class']=yield_pca_fertilizer.Value.apply(ferti_class)\n",
    "low_mean= yield_pca_fertilizer.PC1[yield_pca_fertilizer.ferti_class == 'low'].median()\n",
    "medium_mean= yield_pca_fertilizer.PC1[yield_pca_fertilizer.ferti_class == 'medium'].median()\n",
    "high_mean= yield_pca_fertilizer.PC1[yield_pca_fertilizer.ferti_class == 'high'].median()"
   ]
  },
  {
   "cell_type": "code",
   "execution_count": null,
   "metadata": {},
   "outputs": [],
   "source": [
    "yield_pca\n",
    "yield_pca_fertilizer=pd.merge(yield_pca,\n",
    "            fertilizer_area.query('Year==%d'%year).loc[:,['Area','Value']],\n",
    "            left_on='Area',\n",
    "            right_on='Area'\n",
    "            )\n",
    "yield_pca_fertilizer"
   ]
  },
  {
   "cell_type": "code",
   "execution_count": null,
   "metadata": {},
   "outputs": [],
   "source": [
    "\n",
    "yield_pca"
   ]
  },
  {
   "cell_type": "code",
   "execution_count": null,
   "metadata": {},
   "outputs": [],
   "source": [
    "year=1990\n",
    "fertilizer_area.query('Year==%d'%year).loc[:,['Area','Value']]"
   ]
  },
  {
   "cell_type": "code",
   "execution_count": null,
   "metadata": {},
   "outputs": [],
   "source": [
    "def ferti_class(x): #associate a color to each bin of fertilizer\n",
    "    if pd.isnull(x) :\n",
    "        return float('nan')\n",
    "    elif x<50 :\n",
    "        return 'low'\n",
    "    elif 50<=x<150:\n",
    "        return 'medium'\n",
    "    else:\n",
    "        return 'high'"
   ]
  },
  {
   "cell_type": "code",
   "execution_count": null,
   "metadata": {},
   "outputs": [],
   "source": [
    "pd.isnull(float('nan'))"
   ]
  },
  {
   "cell_type": "code",
   "execution_count": null,
   "metadata": {},
   "outputs": [],
   "source": [
    "# we want to do a PCA between country on crops production so we need to reorganise our dataset\n",
    "def pca_year(year):\n",
    "    yield_for_pca=(crops.query('`Element Code` == 5419')\n",
    "            .query('`Year Code` == %d'%year)\n",
    "            .query('`Item Code` <1000')\n",
    "            .pivot(index='Area',columns='Item',values='Value')\n",
    "            .fillna(value=0)\n",
    "            .reset_index()\n",
    "              )\n",
    "    pca,yield_pca=PCA_processing(yield_for_pca,'Area', yield_for_pca.columns[1:])\n",
    "    yield_pca_fertilizer=pd.merge(yield_pca,\n",
    "                                  fertilizer_area\n",
    "                                  .query('Year==%d'%year)\n",
    "                                  .loc[:,['Area','Value']],\n",
    "                                  left_on='Area',\n",
    "                                  right_on='Area')\n",
    "    yield_pca_fertilizer['ferti_class']=yield_pca_fertilizer.Value.apply(ferti_class)\n",
    "    low_mean= yield_pca_fertilizer.PC1[yield_pca_fertilizer.ferti_class == 'low'].median()\n",
    "    medium_mean= yield_pca_fertilizer.PC1[yield_pca_fertilizer.ferti_class == 'medium'].median()\n",
    "    high_mean= yield_pca_fertilizer.PC1[yield_pca_fertilizer.ferti_class == 'high'].median()\n",
    "    return [year,low_mean, medium_mean, high_mean]\n"
   ]
  },
  {
   "cell_type": "code",
   "execution_count": null,
   "metadata": {},
   "outputs": [],
   "source": [
    "#check na values\n",
    "fertilizer_area[fertilizer_area.Value.isnull()]"
   ]
  },
  {
   "cell_type": "code",
   "execution_count": null,
   "metadata": {},
   "outputs": [],
   "source": [
    "fertilizer_area"
   ]
  },
  {
   "cell_type": "code",
   "execution_count": null,
   "metadata": {},
   "outputs": [],
   "source": [
    "mean=[]\n",
    "for year in fertilizer_area.pivot_table(index=['Year Code']).index :\n",
    "    mean.append(pca_year(year))\n",
    "    "
   ]
  },
  {
   "cell_type": "code",
   "execution_count": null,
   "metadata": {},
   "outputs": [],
   "source": [
    "mean=pd.DataFrame(mean,columns=['Year', 'low', 'medium', 'high'])"
   ]
  },
  {
   "cell_type": "code",
   "execution_count": null,
   "metadata": {},
   "outputs": [],
   "source": [
    "mean.tail(20)"
   ]
  },
  {
   "cell_type": "code",
   "execution_count": null,
   "metadata": {},
   "outputs": [],
   "source": [
    "f, axes = plt.subplots(1, 3, figsize=(15, 5), sharex=True, sharey=True)\n",
    "axes[0].scatter(mean.Year, mean.low)\n",
    "axes[0].set(xlabel='Low')\n",
    "axes[1].scatter(mean.Year, mean.medium)\n",
    "axes[1].set(xlabel='Medium')\n",
    "axes[2].scatter(mean.Year, mean.high)\n",
    "axes[2].set(xlabel='High')\n",
    "\n",
    "for ax in axes :\n",
    "    ax.set(ylabel='Mediane')\n",
    "f.tight_layout()"
   ]
  },
  {
   "cell_type": "raw",
   "metadata": {},
   "source": []
  },
  {
   "cell_type": "code",
   "execution_count": null,
   "metadata": {},
   "outputs": [],
   "source": [
    "mean=pd.DataFrame(columns=['Year', 'low', 'medium', 'high'])\n",
    "mean.loc[-1]=[1,2,3,4]\n",
    "mean.scatter()"
   ]
  },
  {
   "cell_type": "code",
   "execution_count": null,
   "metadata": {},
   "outputs": [],
   "source": [
    "pca_2016=pca_year(2016)\n",
    "pca_2016.head()"
   ]
  },
  {
   "cell_type": "code",
   "execution_count": null,
   "metadata": {},
   "outputs": [],
   "source": [
    "#Adding fertilizer use for each country in our previous dataset (grouped crops)\n",
    "grouped_yield_pca_fertilizer=pd.merge(grouped_yield_pca,fertilizer_area_2016.loc[:,['Area','Value']],left_on='Area',right_on='Area')\n",
    "grouped_yield_pca_fertilizer['ferti_class']=grouped_yield_pca_fertilizer.Value.apply(ferti_class)"
   ]
  },
  {
   "cell_type": "code",
   "execution_count": null,
   "metadata": {},
   "outputs": [],
   "source": [
    "#computing the PCA\n",
    "%run PCA_processing\n",
    "\n",
    "pca,grouped_yield_pca=PCA_processing(grouped_yield_for_pca,'Area', grouped_yield_for_pca.columns[1:])"
   ]
  },
  {
   "cell_type": "code",
   "execution_count": null,
   "metadata": {},
   "outputs": [],
   "source": [
    "#Visualizing our PCA and some stat about it\n",
    "%run PCA_viz\n",
    "print(pca.explained_variance_ratio_)\n",
    "PCA_viz(grouped_yield_pca)"
   ]
  },
  {
   "cell_type": "code",
   "execution_count": null,
   "metadata": {},
   "outputs": [],
   "source": []
  },
  {
   "cell_type": "code",
   "execution_count": null,
   "metadata": {},
   "outputs": [],
   "source": []
  }
 ],
 "metadata": {
  "kernelspec": {
   "display_name": "Python 3",
   "language": "python",
   "name": "python3"
  },
  "language_info": {
   "codemirror_mode": {
    "name": "ipython",
    "version": 3
   },
   "file_extension": ".py",
   "mimetype": "text/x-python",
   "name": "python",
   "nbconvert_exporter": "python",
   "pygments_lexer": "ipython3",
   "version": "3.7.5"
  }
 },
 "nbformat": 4,
 "nbformat_minor": 4
}
