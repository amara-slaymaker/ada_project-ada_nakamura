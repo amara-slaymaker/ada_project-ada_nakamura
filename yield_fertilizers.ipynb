{
 "cells": [
  {
   "cell_type": "code",
   "execution_count": 506,
   "metadata": {},
   "outputs": [],
   "source": [
    "# Let's import the libraries we need\n",
    "import pandas as pd\n",
    "import numpy as np\n",
    "import matplotlib.pyplot as plt\n",
    "import seaborn as sns\n",
    "from scipy import stats\n",
    "from sklearn.preprocessing import StandardScaler\n",
    "%matplotlib inline"
   ]
  },
  {
   "cell_type": "markdown",
   "metadata": {},
   "source": [
    "#### Step 1 : Sorting countries per use of fertilizer "
   ]
  },
  {
   "cell_type": "code",
   "execution_count": 180,
   "metadata": {},
   "outputs": [
    {
     "data": {
      "text/html": [
       "<div>\n",
       "<style scoped>\n",
       "    .dataframe tbody tr th:only-of-type {\n",
       "        vertical-align: middle;\n",
       "    }\n",
       "\n",
       "    .dataframe tbody tr th {\n",
       "        vertical-align: top;\n",
       "    }\n",
       "\n",
       "    .dataframe thead th {\n",
       "        text-align: right;\n",
       "    }\n",
       "</style>\n",
       "<table border=\"1\" class=\"dataframe\">\n",
       "  <thead>\n",
       "    <tr style=\"text-align: right;\">\n",
       "      <th></th>\n",
       "      <th>Area Code</th>\n",
       "      <th>Area</th>\n",
       "      <th>Item Code</th>\n",
       "      <th>Item</th>\n",
       "      <th>Element Code</th>\n",
       "      <th>Element</th>\n",
       "      <th>Year Code</th>\n",
       "      <th>Year</th>\n",
       "      <th>Unit</th>\n",
       "      <th>Value</th>\n",
       "      <th>Flag</th>\n",
       "      <th>Note</th>\n",
       "    </tr>\n",
       "  </thead>\n",
       "  <tbody>\n",
       "    <tr>\n",
       "      <td>0</td>\n",
       "      <td>2</td>\n",
       "      <td>Afghanistan</td>\n",
       "      <td>1360</td>\n",
       "      <td>Nitrogenous fertilizers</td>\n",
       "      <td>5163</td>\n",
       "      <td>Agricultural Use</td>\n",
       "      <td>1961</td>\n",
       "      <td>1961</td>\n",
       "      <td>kg</td>\n",
       "      <td>1000000.0</td>\n",
       "      <td>E</td>\n",
       "      <td>NaN</td>\n",
       "    </tr>\n",
       "    <tr>\n",
       "      <td>1</td>\n",
       "      <td>2</td>\n",
       "      <td>Afghanistan</td>\n",
       "      <td>1360</td>\n",
       "      <td>Nitrogenous fertilizers</td>\n",
       "      <td>5163</td>\n",
       "      <td>Agricultural Use</td>\n",
       "      <td>1962</td>\n",
       "      <td>1962</td>\n",
       "      <td>kg</td>\n",
       "      <td>1000000.0</td>\n",
       "      <td>E</td>\n",
       "      <td>NaN</td>\n",
       "    </tr>\n",
       "    <tr>\n",
       "      <td>2</td>\n",
       "      <td>2</td>\n",
       "      <td>Afghanistan</td>\n",
       "      <td>1360</td>\n",
       "      <td>Nitrogenous fertilizers</td>\n",
       "      <td>5163</td>\n",
       "      <td>Agricultural Use</td>\n",
       "      <td>1963</td>\n",
       "      <td>1963</td>\n",
       "      <td>kg</td>\n",
       "      <td>1000000.0</td>\n",
       "      <td>E</td>\n",
       "      <td>NaN</td>\n",
       "    </tr>\n",
       "    <tr>\n",
       "      <td>3</td>\n",
       "      <td>2</td>\n",
       "      <td>Afghanistan</td>\n",
       "      <td>1360</td>\n",
       "      <td>Nitrogenous fertilizers</td>\n",
       "      <td>5163</td>\n",
       "      <td>Agricultural Use</td>\n",
       "      <td>1964</td>\n",
       "      <td>1964</td>\n",
       "      <td>kg</td>\n",
       "      <td>1000000.0</td>\n",
       "      <td>E</td>\n",
       "      <td>NaN</td>\n",
       "    </tr>\n",
       "    <tr>\n",
       "      <td>4</td>\n",
       "      <td>2</td>\n",
       "      <td>Afghanistan</td>\n",
       "      <td>1360</td>\n",
       "      <td>Nitrogenous fertilizers</td>\n",
       "      <td>5163</td>\n",
       "      <td>Agricultural Use</td>\n",
       "      <td>1965</td>\n",
       "      <td>1965</td>\n",
       "      <td>kg</td>\n",
       "      <td>1000000.0</td>\n",
       "      <td>E</td>\n",
       "      <td>NaN</td>\n",
       "    </tr>\n",
       "  </tbody>\n",
       "</table>\n",
       "</div>"
      ],
      "text/plain": [
       "   Area Code         Area  Item Code                     Item  Element Code  \\\n",
       "0          2  Afghanistan       1360  Nitrogenous fertilizers          5163   \n",
       "1          2  Afghanistan       1360  Nitrogenous fertilizers          5163   \n",
       "2          2  Afghanistan       1360  Nitrogenous fertilizers          5163   \n",
       "3          2  Afghanistan       1360  Nitrogenous fertilizers          5163   \n",
       "4          2  Afghanistan       1360  Nitrogenous fertilizers          5163   \n",
       "\n",
       "            Element  Year Code  Year Unit      Value Flag  Note  \n",
       "0  Agricultural Use       1961  1961   kg  1000000.0    E   NaN  \n",
       "1  Agricultural Use       1962  1962   kg  1000000.0    E   NaN  \n",
       "2  Agricultural Use       1963  1963   kg  1000000.0    E   NaN  \n",
       "3  Agricultural Use       1964  1964   kg  1000000.0    E   NaN  \n",
       "4  Agricultural Use       1965  1965   kg  1000000.0    E   NaN  "
      ]
     },
     "execution_count": 180,
     "metadata": {},
     "output_type": "execute_result"
    }
   ],
   "source": [
    "#opening database and visualization\n",
    "fertilizer=pd.read_csv('./data/Emissions_Agriculture_Synthetic_Fertilizers_E_All_Data_(Normalized).zip',sep=',',encoding='latin-1')\n",
    "fertilizer.head()"
   ]
  },
  {
   "cell_type": "code",
   "execution_count": null,
   "metadata": {},
   "outputs": [],
   "source": []
  },
  {
   "cell_type": "code",
   "execution_count": 181,
   "metadata": {},
   "outputs": [
    {
     "data": {
      "text/html": [
       "<div>\n",
       "<style scoped>\n",
       "    .dataframe tbody tr th:only-of-type {\n",
       "        vertical-align: middle;\n",
       "    }\n",
       "\n",
       "    .dataframe tbody tr th {\n",
       "        vertical-align: top;\n",
       "    }\n",
       "\n",
       "    .dataframe thead th {\n",
       "        text-align: right;\n",
       "    }\n",
       "</style>\n",
       "<table border=\"1\" class=\"dataframe\">\n",
       "  <thead>\n",
       "    <tr style=\"text-align: right;\">\n",
       "      <th></th>\n",
       "      <th>Area Code</th>\n",
       "      <th>Area</th>\n",
       "      <th>Item Code</th>\n",
       "      <th>Item</th>\n",
       "      <th>Element Code</th>\n",
       "      <th>Element</th>\n",
       "      <th>Year Code</th>\n",
       "      <th>Year</th>\n",
       "      <th>Unit</th>\n",
       "      <th>Value</th>\n",
       "      <th>Flag</th>\n",
       "      <th>Note</th>\n",
       "    </tr>\n",
       "  </thead>\n",
       "  <tbody>\n",
       "    <tr>\n",
       "      <td>23958</td>\n",
       "      <td>41</td>\n",
       "      <td>China, mainland</td>\n",
       "      <td>3102</td>\n",
       "      <td>Nutrient nitrogen N (total)</td>\n",
       "      <td>5162</td>\n",
       "      <td>Agricultural Use in nutrients</td>\n",
       "      <td>2017</td>\n",
       "      <td>2017</td>\n",
       "      <td>kg of nutrients</td>\n",
       "      <td>2.961900e+10</td>\n",
       "      <td>Fm</td>\n",
       "      <td>NaN</td>\n",
       "    </tr>\n",
       "    <tr>\n",
       "      <td>54169</td>\n",
       "      <td>100</td>\n",
       "      <td>India</td>\n",
       "      <td>3102</td>\n",
       "      <td>Nutrient nitrogen N (total)</td>\n",
       "      <td>5162</td>\n",
       "      <td>Agricultural Use in nutrients</td>\n",
       "      <td>2017</td>\n",
       "      <td>2017</td>\n",
       "      <td>kg of nutrients</td>\n",
       "      <td>1.695930e+10</td>\n",
       "      <td>P</td>\n",
       "      <td>NaN</td>\n",
       "    </tr>\n",
       "    <tr>\n",
       "      <td>117124</td>\n",
       "      <td>231</td>\n",
       "      <td>United States of America</td>\n",
       "      <td>3102</td>\n",
       "      <td>Nutrient nitrogen N (total)</td>\n",
       "      <td>5162</td>\n",
       "      <td>Agricultural Use in nutrients</td>\n",
       "      <td>2017</td>\n",
       "      <td>2017</td>\n",
       "      <td>kg of nutrients</td>\n",
       "      <td>1.164932e+10</td>\n",
       "      <td>Qm</td>\n",
       "      <td>NaN</td>\n",
       "    </tr>\n",
       "    <tr>\n",
       "      <td>13949</td>\n",
       "      <td>21</td>\n",
       "      <td>Brazil</td>\n",
       "      <td>3102</td>\n",
       "      <td>Nutrient nitrogen N (total)</td>\n",
       "      <td>5162</td>\n",
       "      <td>Agricultural Use in nutrients</td>\n",
       "      <td>2017</td>\n",
       "      <td>2017</td>\n",
       "      <td>kg of nutrients</td>\n",
       "      <td>5.172707e+09</td>\n",
       "      <td>Fb</td>\n",
       "      <td>NaN</td>\n",
       "    </tr>\n",
       "    <tr>\n",
       "      <td>85907</td>\n",
       "      <td>165</td>\n",
       "      <td>Pakistan</td>\n",
       "      <td>3102</td>\n",
       "      <td>Nutrient nitrogen N (total)</td>\n",
       "      <td>5162</td>\n",
       "      <td>Agricultural Use in nutrients</td>\n",
       "      <td>2017</td>\n",
       "      <td>2017</td>\n",
       "      <td>kg of nutrients</td>\n",
       "      <td>3.446922e+09</td>\n",
       "      <td>Qm</td>\n",
       "      <td>NaN</td>\n",
       "    </tr>\n",
       "  </tbody>\n",
       "</table>\n",
       "</div>"
      ],
      "text/plain": [
       "        Area Code                      Area  Item Code  \\\n",
       "23958          41           China, mainland       3102   \n",
       "54169         100                     India       3102   \n",
       "117124        231  United States of America       3102   \n",
       "13949          21                    Brazil       3102   \n",
       "85907         165                  Pakistan       3102   \n",
       "\n",
       "                               Item  Element Code  \\\n",
       "23958   Nutrient nitrogen N (total)          5162   \n",
       "54169   Nutrient nitrogen N (total)          5162   \n",
       "117124  Nutrient nitrogen N (total)          5162   \n",
       "13949   Nutrient nitrogen N (total)          5162   \n",
       "85907   Nutrient nitrogen N (total)          5162   \n",
       "\n",
       "                              Element  Year Code  Year             Unit  \\\n",
       "23958   Agricultural Use in nutrients       2017  2017  kg of nutrients   \n",
       "54169   Agricultural Use in nutrients       2017  2017  kg of nutrients   \n",
       "117124  Agricultural Use in nutrients       2017  2017  kg of nutrients   \n",
       "13949   Agricultural Use in nutrients       2017  2017  kg of nutrients   \n",
       "85907   Agricultural Use in nutrients       2017  2017  kg of nutrients   \n",
       "\n",
       "               Value Flag  Note  \n",
       "23958   2.961900e+10   Fm   NaN  \n",
       "54169   1.695930e+10    P   NaN  \n",
       "117124  1.164932e+10   Qm   NaN  \n",
       "13949   5.172707e+09   Fb   NaN  \n",
       "85907   3.446922e+09   Qm   NaN  "
      ]
     },
     "execution_count": 181,
     "metadata": {},
     "output_type": "execute_result"
    }
   ],
   "source": [
    "#Determining countries most fertilizer consumer for the last year of using\n",
    "(fertilizer.query('`Element Code` == (5163, 5162)')\n",
    "    .query('`Year Code` == 2017')\n",
    "    .query('`Area Code` <300')\n",
    "    .sort_values('Value', ascending=False)\n",
    ").head()"
   ]
  },
  {
   "cell_type": "code",
   "execution_count": 182,
   "metadata": {},
   "outputs": [
    {
     "data": {
      "text/html": [
       "<div>\n",
       "<style scoped>\n",
       "    .dataframe tbody tr th:only-of-type {\n",
       "        vertical-align: middle;\n",
       "    }\n",
       "\n",
       "    .dataframe tbody tr th {\n",
       "        vertical-align: top;\n",
       "    }\n",
       "\n",
       "    .dataframe thead th {\n",
       "        text-align: right;\n",
       "    }\n",
       "</style>\n",
       "<table border=\"1\" class=\"dataframe\">\n",
       "  <thead>\n",
       "    <tr style=\"text-align: right;\">\n",
       "      <th></th>\n",
       "      <th>Area Code</th>\n",
       "      <th>Area</th>\n",
       "      <th>Item Code</th>\n",
       "      <th>Item</th>\n",
       "      <th>Element Code</th>\n",
       "      <th>Element</th>\n",
       "      <th>Year Code</th>\n",
       "      <th>Year</th>\n",
       "      <th>Unit</th>\n",
       "      <th>Value</th>\n",
       "      <th>Flag</th>\n",
       "    </tr>\n",
       "  </thead>\n",
       "  <tbody>\n",
       "    <tr>\n",
       "      <td>0</td>\n",
       "      <td>2</td>\n",
       "      <td>Afghanistan</td>\n",
       "      <td>3102</td>\n",
       "      <td>Nutrient nitrogen N (total)</td>\n",
       "      <td>5159</td>\n",
       "      <td>Use per area of cropland</td>\n",
       "      <td>2002</td>\n",
       "      <td>2002</td>\n",
       "      <td>kg/ha</td>\n",
       "      <td>3.02</td>\n",
       "      <td>Fc</td>\n",
       "    </tr>\n",
       "  </tbody>\n",
       "</table>\n",
       "</div>"
      ],
      "text/plain": [
       "   Area Code         Area  Item Code                         Item  \\\n",
       "0          2  Afghanistan       3102  Nutrient nitrogen N (total)   \n",
       "\n",
       "   Element Code                   Element  Year Code  Year   Unit  Value Flag  \n",
       "0          5159  Use per area of cropland       2002  2002  kg/ha   3.02   Fc  "
      ]
     },
     "execution_count": 182,
     "metadata": {},
     "output_type": "execute_result"
    }
   ],
   "source": [
    "# As the previous sorting is not fully representative (we have a quantity of nutrient and not a quantity per surface)\n",
    "#We will rather use another dataset :\n",
    "fertilizer_area=pd.read_csv('./data/Environment_Fertilizers_E_All_Data_(Normalized).zip',sep=',',encoding='latin-1')\n",
    "fertilizer_area.head(1)"
   ]
  },
  {
   "cell_type": "code",
   "execution_count": 183,
   "metadata": {},
   "outputs": [
    {
     "data": {
      "text/html": [
       "<div>\n",
       "<style scoped>\n",
       "    .dataframe tbody tr th:only-of-type {\n",
       "        vertical-align: middle;\n",
       "    }\n",
       "\n",
       "    .dataframe tbody tr th {\n",
       "        vertical-align: top;\n",
       "    }\n",
       "\n",
       "    .dataframe thead th {\n",
       "        text-align: right;\n",
       "    }\n",
       "</style>\n",
       "<table border=\"1\" class=\"dataframe\">\n",
       "  <thead>\n",
       "    <tr style=\"text-align: right;\">\n",
       "      <th></th>\n",
       "      <th>Area Code</th>\n",
       "      <th>Area</th>\n",
       "      <th>Item Code</th>\n",
       "      <th>Item</th>\n",
       "      <th>Element Code</th>\n",
       "      <th>Element</th>\n",
       "      <th>Year Code</th>\n",
       "      <th>Year</th>\n",
       "      <th>Unit</th>\n",
       "      <th>Value</th>\n",
       "      <th>Flag</th>\n",
       "    </tr>\n",
       "  </thead>\n",
       "  <tbody>\n",
       "    <tr>\n",
       "      <td>2030</td>\n",
       "      <td>59</td>\n",
       "      <td>Egypt</td>\n",
       "      <td>3102</td>\n",
       "      <td>Nutrient nitrogen N (total)</td>\n",
       "      <td>5159</td>\n",
       "      <td>Use per area of cropland</td>\n",
       "      <td>2016</td>\n",
       "      <td>2016</td>\n",
       "      <td>kg/ha</td>\n",
       "      <td>366.87</td>\n",
       "      <td>Fc</td>\n",
       "    </tr>\n",
       "    <tr>\n",
       "      <td>4328</td>\n",
       "      <td>150</td>\n",
       "      <td>Netherlands</td>\n",
       "      <td>3102</td>\n",
       "      <td>Nutrient nitrogen N (total)</td>\n",
       "      <td>5159</td>\n",
       "      <td>Use per area of cropland</td>\n",
       "      <td>2016</td>\n",
       "      <td>2016</td>\n",
       "      <td>kg/ha</td>\n",
       "      <td>244.89</td>\n",
       "      <td>Fc</td>\n",
       "    </tr>\n",
       "    <tr>\n",
       "      <td>1366</td>\n",
       "      <td>41</td>\n",
       "      <td>China, mainland</td>\n",
       "      <td>3102</td>\n",
       "      <td>Nutrient nitrogen N (total)</td>\n",
       "      <td>5159</td>\n",
       "      <td>Use per area of cropland</td>\n",
       "      <td>2016</td>\n",
       "      <td>2016</td>\n",
       "      <td>kg/ha</td>\n",
       "      <td>225.81</td>\n",
       "      <td>Fc</td>\n",
       "    </tr>\n",
       "    <tr>\n",
       "      <td>3609</td>\n",
       "      <td>256</td>\n",
       "      <td>Luxembourg</td>\n",
       "      <td>3102</td>\n",
       "      <td>Nutrient nitrogen N (total)</td>\n",
       "      <td>5159</td>\n",
       "      <td>Use per area of cropland</td>\n",
       "      <td>2016</td>\n",
       "      <td>2016</td>\n",
       "      <td>kg/ha</td>\n",
       "      <td>216.58</td>\n",
       "      <td>Fc</td>\n",
       "    </tr>\n",
       "    <tr>\n",
       "      <td>595</td>\n",
       "      <td>255</td>\n",
       "      <td>Belgium</td>\n",
       "      <td>3102</td>\n",
       "      <td>Nutrient nitrogen N (total)</td>\n",
       "      <td>5159</td>\n",
       "      <td>Use per area of cropland</td>\n",
       "      <td>2016</td>\n",
       "      <td>2016</td>\n",
       "      <td>kg/ha</td>\n",
       "      <td>216.36</td>\n",
       "      <td>Fc</td>\n",
       "    </tr>\n",
       "    <tr>\n",
       "      <td>3871</td>\n",
       "      <td>134</td>\n",
       "      <td>Malta</td>\n",
       "      <td>3102</td>\n",
       "      <td>Nutrient nitrogen N (total)</td>\n",
       "      <td>5159</td>\n",
       "      <td>Use per area of cropland</td>\n",
       "      <td>2016</td>\n",
       "      <td>2016</td>\n",
       "      <td>kg/ha</td>\n",
       "      <td>204.47</td>\n",
       "      <td>Fc</td>\n",
       "    </tr>\n",
       "    <tr>\n",
       "      <td>6390</td>\n",
       "      <td>225</td>\n",
       "      <td>United Arab Emirates</td>\n",
       "      <td>3102</td>\n",
       "      <td>Nutrient nitrogen N (total)</td>\n",
       "      <td>5159</td>\n",
       "      <td>Use per area of cropland</td>\n",
       "      <td>2016</td>\n",
       "      <td>2016</td>\n",
       "      <td>kg/ha</td>\n",
       "      <td>180.74</td>\n",
       "      <td>Fc</td>\n",
       "    </tr>\n",
       "    <tr>\n",
       "      <td>1538</td>\n",
       "      <td>48</td>\n",
       "      <td>Costa Rica</td>\n",
       "      <td>3102</td>\n",
       "      <td>Nutrient nitrogen N (total)</td>\n",
       "      <td>5159</td>\n",
       "      <td>Use per area of cropland</td>\n",
       "      <td>2016</td>\n",
       "      <td>2016</td>\n",
       "      <td>kg/ha</td>\n",
       "      <td>176.84</td>\n",
       "      <td>Fc</td>\n",
       "    </tr>\n",
       "    <tr>\n",
       "      <td>6435</td>\n",
       "      <td>229</td>\n",
       "      <td>United Kingdom</td>\n",
       "      <td>3102</td>\n",
       "      <td>Nutrient nitrogen N (total)</td>\n",
       "      <td>5159</td>\n",
       "      <td>Use per area of cropland</td>\n",
       "      <td>2016</td>\n",
       "      <td>2016</td>\n",
       "      <td>kg/ha</td>\n",
       "      <td>171.26</td>\n",
       "      <td>Fc</td>\n",
       "    </tr>\n",
       "    <tr>\n",
       "      <td>5777</td>\n",
       "      <td>207</td>\n",
       "      <td>Suriname</td>\n",
       "      <td>3102</td>\n",
       "      <td>Nutrient nitrogen N (total)</td>\n",
       "      <td>5159</td>\n",
       "      <td>Use per area of cropland</td>\n",
       "      <td>2016</td>\n",
       "      <td>2016</td>\n",
       "      <td>kg/ha</td>\n",
       "      <td>171.21</td>\n",
       "      <td>Fc</td>\n",
       "    </tr>\n",
       "    <tr>\n",
       "      <td>1763</td>\n",
       "      <td>167</td>\n",
       "      <td>Czechia</td>\n",
       "      <td>3102</td>\n",
       "      <td>Nutrient nitrogen N (total)</td>\n",
       "      <td>5159</td>\n",
       "      <td>Use per area of cropland</td>\n",
       "      <td>2016</td>\n",
       "      <td>2016</td>\n",
       "      <td>kg/ha</td>\n",
       "      <td>159.13</td>\n",
       "      <td>Fc</td>\n",
       "    </tr>\n",
       "    <tr>\n",
       "      <td>1411</td>\n",
       "      <td>44</td>\n",
       "      <td>Colombia</td>\n",
       "      <td>3102</td>\n",
       "      <td>Nutrient nitrogen N (total)</td>\n",
       "      <td>5159</td>\n",
       "      <td>Use per area of cropland</td>\n",
       "      <td>2016</td>\n",
       "      <td>2016</td>\n",
       "      <td>kg/ha</td>\n",
       "      <td>157.14</td>\n",
       "      <td>Fc</td>\n",
       "    </tr>\n",
       "    <tr>\n",
       "      <td>6692</td>\n",
       "      <td>237</td>\n",
       "      <td>Viet Nam</td>\n",
       "      <td>3102</td>\n",
       "      <td>Nutrient nitrogen N (total)</td>\n",
       "      <td>5159</td>\n",
       "      <td>Use per area of cropland</td>\n",
       "      <td>2016</td>\n",
       "      <td>2016</td>\n",
       "      <td>kg/ha</td>\n",
       "      <td>153.25</td>\n",
       "      <td>Fc</td>\n",
       "    </tr>\n",
       "    <tr>\n",
       "      <td>640</td>\n",
       "      <td>23</td>\n",
       "      <td>Belize</td>\n",
       "      <td>3102</td>\n",
       "      <td>Nutrient nitrogen N (total)</td>\n",
       "      <td>5159</td>\n",
       "      <td>Use per area of cropland</td>\n",
       "      <td>2016</td>\n",
       "      <td>2016</td>\n",
       "      <td>kg/ha</td>\n",
       "      <td>152.83</td>\n",
       "      <td>Fc</td>\n",
       "    </tr>\n",
       "    <tr>\n",
       "      <td>1276</td>\n",
       "      <td>40</td>\n",
       "      <td>Chile</td>\n",
       "      <td>3102</td>\n",
       "      <td>Nutrient nitrogen N (total)</td>\n",
       "      <td>5159</td>\n",
       "      <td>Use per area of cropland</td>\n",
       "      <td>2016</td>\n",
       "      <td>2016</td>\n",
       "      <td>kg/ha</td>\n",
       "      <td>152.70</td>\n",
       "      <td>Fc</td>\n",
       "    </tr>\n",
       "    <tr>\n",
       "      <td>6610</td>\n",
       "      <td>235</td>\n",
       "      <td>Uzbekistan</td>\n",
       "      <td>3102</td>\n",
       "      <td>Nutrient nitrogen N (total)</td>\n",
       "      <td>5159</td>\n",
       "      <td>Use per area of cropland</td>\n",
       "      <td>2016</td>\n",
       "      <td>2016</td>\n",
       "      <td>kg/ha</td>\n",
       "      <td>151.22</td>\n",
       "      <td>Fc</td>\n",
       "    </tr>\n",
       "    <tr>\n",
       "      <td>5003</td>\n",
       "      <td>117</td>\n",
       "      <td>Republic of Korea</td>\n",
       "      <td>3102</td>\n",
       "      <td>Nutrient nitrogen N (total)</td>\n",
       "      <td>5159</td>\n",
       "      <td>Use per area of cropland</td>\n",
       "      <td>2016</td>\n",
       "      <td>2016</td>\n",
       "      <td>kg/ha</td>\n",
       "      <td>144.93</td>\n",
       "      <td>Fc</td>\n",
       "    </tr>\n",
       "    <tr>\n",
       "      <td>2546</td>\n",
       "      <td>79</td>\n",
       "      <td>Germany</td>\n",
       "      <td>3102</td>\n",
       "      <td>Nutrient nitrogen N (total)</td>\n",
       "      <td>5159</td>\n",
       "      <td>Use per area of cropland</td>\n",
       "      <td>2016</td>\n",
       "      <td>2016</td>\n",
       "      <td>kg/ha</td>\n",
       "      <td>138.66</td>\n",
       "      <td>Fc</td>\n",
       "    </tr>\n",
       "    <tr>\n",
       "      <td>6165</td>\n",
       "      <td>220</td>\n",
       "      <td>Trinidad and Tobago</td>\n",
       "      <td>3102</td>\n",
       "      <td>Nutrient nitrogen N (total)</td>\n",
       "      <td>5159</td>\n",
       "      <td>Use per area of cropland</td>\n",
       "      <td>2016</td>\n",
       "      <td>2016</td>\n",
       "      <td>kg/ha</td>\n",
       "      <td>138.30</td>\n",
       "      <td>Fc</td>\n",
       "    </tr>\n",
       "    <tr>\n",
       "      <td>460</td>\n",
       "      <td>16</td>\n",
       "      <td>Bangladesh</td>\n",
       "      <td>3102</td>\n",
       "      <td>Nutrient nitrogen N (total)</td>\n",
       "      <td>5159</td>\n",
       "      <td>Use per area of cropland</td>\n",
       "      <td>2016</td>\n",
       "      <td>2016</td>\n",
       "      <td>kg/ha</td>\n",
       "      <td>136.41</td>\n",
       "      <td>Fc</td>\n",
       "    </tr>\n",
       "  </tbody>\n",
       "</table>\n",
       "</div>"
      ],
      "text/plain": [
       "      Area Code                  Area  Item Code                         Item  \\\n",
       "2030         59                 Egypt       3102  Nutrient nitrogen N (total)   \n",
       "4328        150           Netherlands       3102  Nutrient nitrogen N (total)   \n",
       "1366         41       China, mainland       3102  Nutrient nitrogen N (total)   \n",
       "3609        256            Luxembourg       3102  Nutrient nitrogen N (total)   \n",
       "595         255               Belgium       3102  Nutrient nitrogen N (total)   \n",
       "3871        134                 Malta       3102  Nutrient nitrogen N (total)   \n",
       "6390        225  United Arab Emirates       3102  Nutrient nitrogen N (total)   \n",
       "1538         48            Costa Rica       3102  Nutrient nitrogen N (total)   \n",
       "6435        229        United Kingdom       3102  Nutrient nitrogen N (total)   \n",
       "5777        207              Suriname       3102  Nutrient nitrogen N (total)   \n",
       "1763        167               Czechia       3102  Nutrient nitrogen N (total)   \n",
       "1411         44              Colombia       3102  Nutrient nitrogen N (total)   \n",
       "6692        237              Viet Nam       3102  Nutrient nitrogen N (total)   \n",
       "640          23                Belize       3102  Nutrient nitrogen N (total)   \n",
       "1276         40                 Chile       3102  Nutrient nitrogen N (total)   \n",
       "6610        235            Uzbekistan       3102  Nutrient nitrogen N (total)   \n",
       "5003        117     Republic of Korea       3102  Nutrient nitrogen N (total)   \n",
       "2546         79               Germany       3102  Nutrient nitrogen N (total)   \n",
       "6165        220   Trinidad and Tobago       3102  Nutrient nitrogen N (total)   \n",
       "460          16            Bangladesh       3102  Nutrient nitrogen N (total)   \n",
       "\n",
       "      Element Code                   Element  Year Code  Year   Unit   Value  \\\n",
       "2030          5159  Use per area of cropland       2016  2016  kg/ha  366.87   \n",
       "4328          5159  Use per area of cropland       2016  2016  kg/ha  244.89   \n",
       "1366          5159  Use per area of cropland       2016  2016  kg/ha  225.81   \n",
       "3609          5159  Use per area of cropland       2016  2016  kg/ha  216.58   \n",
       "595           5159  Use per area of cropland       2016  2016  kg/ha  216.36   \n",
       "3871          5159  Use per area of cropland       2016  2016  kg/ha  204.47   \n",
       "6390          5159  Use per area of cropland       2016  2016  kg/ha  180.74   \n",
       "1538          5159  Use per area of cropland       2016  2016  kg/ha  176.84   \n",
       "6435          5159  Use per area of cropland       2016  2016  kg/ha  171.26   \n",
       "5777          5159  Use per area of cropland       2016  2016  kg/ha  171.21   \n",
       "1763          5159  Use per area of cropland       2016  2016  kg/ha  159.13   \n",
       "1411          5159  Use per area of cropland       2016  2016  kg/ha  157.14   \n",
       "6692          5159  Use per area of cropland       2016  2016  kg/ha  153.25   \n",
       "640           5159  Use per area of cropland       2016  2016  kg/ha  152.83   \n",
       "1276          5159  Use per area of cropland       2016  2016  kg/ha  152.70   \n",
       "6610          5159  Use per area of cropland       2016  2016  kg/ha  151.22   \n",
       "5003          5159  Use per area of cropland       2016  2016  kg/ha  144.93   \n",
       "2546          5159  Use per area of cropland       2016  2016  kg/ha  138.66   \n",
       "6165          5159  Use per area of cropland       2016  2016  kg/ha  138.30   \n",
       "460           5159  Use per area of cropland       2016  2016  kg/ha  136.41   \n",
       "\n",
       "     Flag  \n",
       "2030   Fc  \n",
       "4328   Fc  \n",
       "1366   Fc  \n",
       "3609   Fc  \n",
       "595    Fc  \n",
       "3871   Fc  \n",
       "6390   Fc  \n",
       "1538   Fc  \n",
       "6435   Fc  \n",
       "5777   Fc  \n",
       "1763   Fc  \n",
       "1411   Fc  \n",
       "6692   Fc  \n",
       "640    Fc  \n",
       "1276   Fc  \n",
       "6610   Fc  \n",
       "5003   Fc  \n",
       "2546   Fc  \n",
       "6165   Fc  \n",
       "460    Fc  "
      ]
     },
     "execution_count": 183,
     "metadata": {},
     "output_type": "execute_result"
    }
   ],
   "source": [
    "#Sorting as previously (but the last year is 2016 and not 2017)\n",
    "(fertilizer_area.query('`Item Code` == (3102)')\n",
    "    .query('`Year Code` == 2016')\n",
    "    .query('`Area Code` <300')\n",
    "    .sort_values('Value', ascending=False)\n",
    ").head(20)"
   ]
  },
  {
   "cell_type": "markdown",
   "metadata": {},
   "source": [
    "We could maybe improve it by making the average on all year"
   ]
  },
  {
   "cell_type": "markdown",
   "metadata": {},
   "source": [
    "#### Step 2 : Studying crops production for most fertilizer user countries\n",
    "Visualising for maybe the 3 first countries, what are the most produced crops.\n",
    "We would like finding a country where one crop could be representative of most of fertilizer use\n"
   ]
  },
  {
   "cell_type": "code",
   "execution_count": 184,
   "metadata": {},
   "outputs": [
    {
     "data": {
      "text/html": [
       "<div>\n",
       "<style scoped>\n",
       "    .dataframe tbody tr th:only-of-type {\n",
       "        vertical-align: middle;\n",
       "    }\n",
       "\n",
       "    .dataframe tbody tr th {\n",
       "        vertical-align: top;\n",
       "    }\n",
       "\n",
       "    .dataframe thead th {\n",
       "        text-align: right;\n",
       "    }\n",
       "</style>\n",
       "<table border=\"1\" class=\"dataframe\">\n",
       "  <thead>\n",
       "    <tr style=\"text-align: right;\">\n",
       "      <th></th>\n",
       "      <th>Area Code</th>\n",
       "      <th>Area</th>\n",
       "      <th>Item Code</th>\n",
       "      <th>Item</th>\n",
       "      <th>Element Code</th>\n",
       "      <th>Element</th>\n",
       "      <th>Year Code</th>\n",
       "      <th>Year</th>\n",
       "      <th>Unit</th>\n",
       "      <th>Value</th>\n",
       "      <th>Flag</th>\n",
       "    </tr>\n",
       "  </thead>\n",
       "  <tbody>\n",
       "    <tr>\n",
       "      <td>0</td>\n",
       "      <td>2</td>\n",
       "      <td>Afghanistan</td>\n",
       "      <td>221</td>\n",
       "      <td>Almonds, with shell</td>\n",
       "      <td>5312</td>\n",
       "      <td>Area harvested</td>\n",
       "      <td>1975</td>\n",
       "      <td>1975</td>\n",
       "      <td>ha</td>\n",
       "      <td>0.0</td>\n",
       "      <td>F</td>\n",
       "    </tr>\n",
       "  </tbody>\n",
       "</table>\n",
       "</div>"
      ],
      "text/plain": [
       "   Area Code         Area  Item Code                 Item  Element Code  \\\n",
       "0          2  Afghanistan        221  Almonds, with shell          5312   \n",
       "\n",
       "          Element  Year Code  Year Unit  Value Flag  \n",
       "0  Area harvested       1975  1975   ha    0.0    F  "
      ]
     },
     "execution_count": 184,
     "metadata": {},
     "output_type": "execute_result"
    }
   ],
   "source": [
    "# We will need crop dataset to get the area harvested for each crop (as we have pesticive for an area of cropland)\n",
    "crop=pd.read_csv('./data/Production_Crops_E_All_Data_(Normalized).zip',sep=',',encoding='latin-1')\n",
    "crop.head(1)"
   ]
  },
  {
   "cell_type": "code",
   "execution_count": 14,
   "metadata": {},
   "outputs": [
    {
     "data": {
      "text/html": [
       "<div>\n",
       "<style scoped>\n",
       "    .dataframe tbody tr th:only-of-type {\n",
       "        vertical-align: middle;\n",
       "    }\n",
       "\n",
       "    .dataframe tbody tr th {\n",
       "        vertical-align: top;\n",
       "    }\n",
       "\n",
       "    .dataframe thead th {\n",
       "        text-align: right;\n",
       "    }\n",
       "</style>\n",
       "<table border=\"1\" class=\"dataframe\">\n",
       "  <thead>\n",
       "    <tr style=\"text-align: right;\">\n",
       "      <th></th>\n",
       "      <th>Area Code</th>\n",
       "      <th>Area</th>\n",
       "      <th>Item Code</th>\n",
       "      <th>Item</th>\n",
       "      <th>Element Code</th>\n",
       "      <th>Element</th>\n",
       "      <th>Year Code</th>\n",
       "      <th>Year</th>\n",
       "      <th>Unit</th>\n",
       "      <th>Value</th>\n",
       "      <th>Flag</th>\n",
       "    </tr>\n",
       "  </thead>\n",
       "  <tbody>\n",
       "    <tr>\n",
       "      <td>527103</td>\n",
       "      <td>59</td>\n",
       "      <td>Egypt</td>\n",
       "      <td>15</td>\n",
       "      <td>Wheat</td>\n",
       "      <td>5312</td>\n",
       "      <td>Area harvested</td>\n",
       "      <td>2017</td>\n",
       "      <td>2017</td>\n",
       "      <td>ha</td>\n",
       "      <td>1342805.0</td>\n",
       "      <td>Im</td>\n",
       "    </tr>\n",
       "  </tbody>\n",
       "</table>\n",
       "</div>"
      ],
      "text/plain": [
       "        Area Code   Area  Item Code   Item  Element Code         Element  \\\n",
       "527103         59  Egypt         15  Wheat          5312  Area harvested   \n",
       "\n",
       "        Year Code  Year Unit      Value Flag  \n",
       "527103       2017  2017   ha  1342805.0   Im  "
      ]
     },
     "execution_count": 14,
     "metadata": {},
     "output_type": "execute_result"
    }
   ],
   "source": [
    "# crop production for egypt (could be a function)\n",
    "x=59\n",
    "egypt_crop=(crop.query('`Area Code` == %d'%(x))\n",
    "    .query('`Year Code` == 2017')\n",
    "    .query('`Item Code` <1000')# to avoid getting value of aggregated crop (ex:cereal ...)\n",
    "    .query('`Element Code` == 5312')\n",
    "    .sort_values('Value', ascending=False)\n",
    ")\n",
    "egypt_crop.head(1)"
   ]
  },
  {
   "cell_type": "code",
   "execution_count": 15,
   "metadata": {},
   "outputs": [
    {
     "name": "stdout",
     "output_type": "stream",
     "text": [
      "5485623.0\n"
     ]
    }
   ],
   "source": [
    "area_tot=egypt_crop.Value.sum()\n",
    "print(area_tot)"
   ]
  },
  {
   "cell_type": "code",
   "execution_count": 16,
   "metadata": {},
   "outputs": [
    {
     "data": {
      "text/html": [
       "<div>\n",
       "<style scoped>\n",
       "    .dataframe tbody tr th:only-of-type {\n",
       "        vertical-align: middle;\n",
       "    }\n",
       "\n",
       "    .dataframe tbody tr th {\n",
       "        vertical-align: top;\n",
       "    }\n",
       "\n",
       "    .dataframe thead th {\n",
       "        text-align: right;\n",
       "    }\n",
       "</style>\n",
       "<table border=\"1\" class=\"dataframe\">\n",
       "  <thead>\n",
       "    <tr style=\"text-align: right;\">\n",
       "      <th></th>\n",
       "      <th>Area Code</th>\n",
       "      <th>Area</th>\n",
       "      <th>Item Code</th>\n",
       "      <th>Item</th>\n",
       "      <th>Element Code</th>\n",
       "      <th>Element</th>\n",
       "      <th>Year Code</th>\n",
       "      <th>Year</th>\n",
       "      <th>Unit</th>\n",
       "      <th>Value</th>\n",
       "      <th>Flag</th>\n",
       "      <th>Part</th>\n",
       "    </tr>\n",
       "  </thead>\n",
       "  <tbody>\n",
       "    <tr>\n",
       "      <td>527103</td>\n",
       "      <td>59</td>\n",
       "      <td>Egypt</td>\n",
       "      <td>15</td>\n",
       "      <td>Wheat</td>\n",
       "      <td>5312</td>\n",
       "      <td>Area harvested</td>\n",
       "      <td>2017</td>\n",
       "      <td>2017</td>\n",
       "      <td>ha</td>\n",
       "      <td>1342805.0</td>\n",
       "      <td>Im</td>\n",
       "      <td>0.244786</td>\n",
       "    </tr>\n",
       "  </tbody>\n",
       "</table>\n",
       "</div>"
      ],
      "text/plain": [
       "        Area Code   Area  Item Code   Item  Element Code         Element  \\\n",
       "527103         59  Egypt         15  Wheat          5312  Area harvested   \n",
       "\n",
       "        Year Code  Year Unit      Value Flag      Part  \n",
       "527103       2017  2017   ha  1342805.0   Im  0.244786  "
      ]
     },
     "execution_count": 16,
     "metadata": {},
     "output_type": "execute_result"
    }
   ],
   "source": [
    "# Getting a new column with the part of each area harvested on the total one\n",
    "egypt_crop=egypt_crop.assign(Part= lambda df : df.Value/area_tot)\n",
    "egypt_crop.head(1)"
   ]
  },
  {
   "cell_type": "code",
   "execution_count": 17,
   "metadata": {},
   "outputs": [
    {
     "data": {
      "text/plain": [
       "<matplotlib.axes._subplots.AxesSubplot at 0x1f21da82e10>"
      ]
     },
     "execution_count": 17,
     "metadata": {},
     "output_type": "execute_result"
    },
    {
     "data": {
      "image/png": "[encoded data removed]",
      "text/plain": [
       "<Figure size 432x288 with 1 Axes>"
      ]
     },
     "metadata": {
      "needs_background": "light"
     },
     "output_type": "display_data"
    }
   ],
   "source": [
    "sns.barplot(x=egypt_crop.Item.head(5), y=egypt_crop.Value.head(5)/area_tot, palette=\"deep\")"
   ]
  },
  {
   "cell_type": "code",
   "execution_count": 18,
   "metadata": {},
   "outputs": [],
   "source": [
    "# creating a function which plot 5 main crops of a country\n",
    "def main_crop_plot(x):\n",
    "    '''x is the country code'''\n",
    "    country_crop=(crop.query('`Area Code` == %d'%(x))\n",
    "        .query('`Year Code` == 2017')\n",
    "        .query('`Item Code` <1000')# to avoid getting value of aggregated crop (ex:cereal ...)\n",
    "        .query('`Element Code` == 5312')\n",
    "        .sort_values('Value', ascending=False)\n",
    "    )\n",
    "    area_tot=country_crop.Value.sum()\n",
    "    return (country_crop.Item.head(5),country_crop.Value.head(5)/area_tot)\n",
    "    \n",
    "\n",
    "    "
   ]
  },
  {
   "cell_type": "code",
   "execution_count": 19,
   "metadata": {},
   "outputs": [
    {
     "ename": "NameError",
     "evalue": "name 'country_crop' is not defined",
     "output_type": "error",
     "traceback": [
      "\u001b[1;31m---------------------------------------------------------------------------\u001b[0m",
      "\u001b[1;31mNameError\u001b[0m                                 Traceback (most recent call last)",
      "\u001b[1;32m<ipython-input-19-720300980674>\u001b[0m in \u001b[0;36m<module>\u001b[1;34m\u001b[0m\n\u001b[1;32m----> 1\u001b[1;33m \u001b[0msns\u001b[0m\u001b[1;33m.\u001b[0m\u001b[0mbarplot\u001b[0m\u001b[1;33m(\u001b[0m\u001b[0mx\u001b[0m\u001b[1;33m=\u001b[0m\u001b[0mcountry_crop\u001b[0m\u001b[1;33m.\u001b[0m\u001b[0mItem\u001b[0m\u001b[1;33m.\u001b[0m\u001b[0mhead\u001b[0m\u001b[1;33m(\u001b[0m\u001b[1;36m5\u001b[0m\u001b[1;33m)\u001b[0m\u001b[1;33m,\u001b[0m \u001b[0my\u001b[0m\u001b[1;33m=\u001b[0m\u001b[0mcountry_crop\u001b[0m\u001b[1;33m.\u001b[0m\u001b[0mValue\u001b[0m\u001b[1;33m.\u001b[0m\u001b[0mhead\u001b[0m\u001b[1;33m(\u001b[0m\u001b[1;36m5\u001b[0m\u001b[1;33m)\u001b[0m\u001b[1;33m/\u001b[0m\u001b[0marea_tot\u001b[0m\u001b[1;33m,\u001b[0m \u001b[0mpalette\u001b[0m\u001b[1;33m=\u001b[0m\u001b[1;34m\"deep\"\u001b[0m\u001b[1;33m)\u001b[0m\u001b[1;33m\u001b[0m\u001b[1;33m\u001b[0m\u001b[0m\n\u001b[0m",
      "\u001b[1;31mNameError\u001b[0m: name 'country_crop' is not defined"
     ]
    }
   ],
   "source": [
    "sns.barplot(x=country_crop.Item.head(5), y=country_crop.Value.head(5)/area_tot, palette=\"deep\")"
   ]
  },
  {
   "cell_type": "code",
   "execution_count": 20,
   "metadata": {},
   "outputs": [
    {
     "data": {
      "text/plain": [
       "<matplotlib.axes._subplots.AxesSubplot at 0x1f220d3eb00>"
      ]
     },
     "execution_count": 20,
     "metadata": {},
     "output_type": "execute_result"
    },
    {
     "data": {
      "image/png": "[encoded data removed]",
      "text/plain": [
       "<Figure size 432x288 with 4 Axes>"
      ]
     },
     "metadata": {
      "needs_background": "light"
     },
     "output_type": "display_data"
    }
   ],
   "source": [
    "fig, axs = plt.subplots(2, 2)\n",
    "p=[]\n",
    "p.append(main_crop_plot(59))\n",
    "sns.barplot(x=p[0][1], y=p[0][0], palette=\"deep\")\n"
   ]
  },
  {
   "cell_type": "code",
   "execution_count": 21,
   "metadata": {},
   "outputs": [
    {
     "data": {
      "text/plain": [
       "<matplotlib.axes._subplots.AxesSubplot at 0x1f220de3160>"
      ]
     },
     "execution_count": 21,
     "metadata": {},
     "output_type": "execute_result"
    },
    {
     "data": {
      "image/png": "[encoded data removed]",
      "text/plain": [
       "<Figure size 1440x360 with 3 Axes>"
      ]
     },
     "metadata": {
      "needs_background": "light"
     },
     "output_type": "display_data"
    }
   ],
   "source": [
    "fig = plt.figure(figsize = (20, 5))\n",
    "ax1 = fig.add_subplot(1,3,1)\n",
    "ax2 = fig.add_subplot(1,3,2)\n",
    "ax3 = fig.add_subplot(1,3,3)\n",
    "\n",
    "p=[]\n",
    "p.append(main_crop_plot(59))\n",
    "sns.barplot(x=p[0][0], y=p[0][1], palette=\"deep\",ax=ax1)"
   ]
  },
  {
   "cell_type": "code",
   "execution_count": 22,
   "metadata": {},
   "outputs": [
    {
     "data": {
      "text/plain": [
       "(1118878       Potatoes\n",
       " 1120716          Wheat\n",
       " 1119948     Sugar beet\n",
       " 1117749    Onions, dry\n",
       " 1113525         Barley\n",
       " Name: Item, dtype: object, 1118878    0.301363\n",
       " 1120716    0.217406\n",
       " 1119948    0.159962\n",
       " 1117749    0.064392\n",
       " 1113525    0.055738\n",
       " Name: Value, dtype: float64)"
      ]
     },
     "execution_count": 22,
     "metadata": {},
     "output_type": "execute_result"
    }
   ],
   "source": [
    "#netherland plot\n",
    "main_crop_plot(150)"
   ]
  },
  {
   "cell_type": "code",
   "execution_count": 23,
   "metadata": {},
   "outputs": [
    {
     "data": {
      "text/plain": [
       "(333886                    Maize\n",
       " 338859              Rice, paddy\n",
       " 343644                    Wheat\n",
       " 343013    Vegetables, fresh nes\n",
       " 340265                 Soybeans\n",
       " Name: Item, dtype: object, 333886    0.228039\n",
       " 338859    0.165370\n",
       " 343644    0.131814\n",
       " 343013    0.057186\n",
       " 340265    0.039488\n",
       " Name: Value, dtype: float64)"
      ]
     },
     "execution_count": 23,
     "metadata": {},
     "output_type": "execute_result"
    }
   ],
   "source": [
    "main_crop_plot(41)"
   ]
  },
  {
   "cell_type": "code",
   "execution_count": 24,
   "metadata": {},
   "outputs": [
    {
     "data": {
      "text/plain": [
       "(957266        Wheat\n",
       " 955585       Barley\n",
       " 957107    Triticale\n",
       " 956844     Rapeseed\n",
       " 956413         Oats\n",
       " Name: Item, dtype: object, 957266    0.414851\n",
       " 955585    0.192846\n",
       " 957107    0.132191\n",
       " 956844    0.095546\n",
       " 956413    0.038283\n",
       " Name: Value, dtype: float64)"
      ]
     },
     "execution_count": 24,
     "metadata": {},
     "output_type": "execute_result"
    }
   ],
   "source": [
    "main_crop_plot(256)"
   ]
  },
  {
   "cell_type": "code",
   "execution_count": null,
   "metadata": {},
   "outputs": [],
   "source": []
  },
  {
   "cell_type": "code",
   "execution_count": null,
   "metadata": {},
   "outputs": [],
   "source": []
  },
  {
   "cell_type": "code",
   "execution_count": null,
   "metadata": {},
   "outputs": [],
   "source": []
  },
  {
   "cell_type": "code",
   "execution_count": 25,
   "metadata": {},
   "outputs": [
    {
     "data": {
      "text/html": [
       "<div>\n",
       "<style scoped>\n",
       "    .dataframe tbody tr th:only-of-type {\n",
       "        vertical-align: middle;\n",
       "    }\n",
       "\n",
       "    .dataframe tbody tr th {\n",
       "        vertical-align: top;\n",
       "    }\n",
       "\n",
       "    .dataframe thead th {\n",
       "        text-align: right;\n",
       "    }\n",
       "</style>\n",
       "<table border=\"1\" class=\"dataframe\">\n",
       "  <thead>\n",
       "    <tr style=\"text-align: right;\">\n",
       "      <th></th>\n",
       "      <th>Area Code</th>\n",
       "      <th>Area</th>\n",
       "      <th>Item Code</th>\n",
       "      <th>Item</th>\n",
       "      <th>Element Code</th>\n",
       "      <th>Element</th>\n",
       "      <th>Year Code</th>\n",
       "      <th>Year</th>\n",
       "      <th>Unit</th>\n",
       "      <th>Value</th>\n",
       "      <th>Flag</th>\n",
       "      <th>Note</th>\n",
       "    </tr>\n",
       "  </thead>\n",
       "  <tbody>\n",
       "    <tr>\n",
       "      <td>0</td>\n",
       "      <td>2</td>\n",
       "      <td>Afghanistan</td>\n",
       "      <td>1360</td>\n",
       "      <td>Nitrogenous fertilizers</td>\n",
       "      <td>5163</td>\n",
       "      <td>Agricultural Use</td>\n",
       "      <td>1961</td>\n",
       "      <td>1961</td>\n",
       "      <td>kg</td>\n",
       "      <td>1000000.0</td>\n",
       "      <td>E</td>\n",
       "      <td>NaN</td>\n",
       "    </tr>\n",
       "    <tr>\n",
       "      <td>1</td>\n",
       "      <td>2</td>\n",
       "      <td>Afghanistan</td>\n",
       "      <td>1360</td>\n",
       "      <td>Nitrogenous fertilizers</td>\n",
       "      <td>5163</td>\n",
       "      <td>Agricultural Use</td>\n",
       "      <td>1962</td>\n",
       "      <td>1962</td>\n",
       "      <td>kg</td>\n",
       "      <td>1000000.0</td>\n",
       "      <td>E</td>\n",
       "      <td>NaN</td>\n",
       "    </tr>\n",
       "    <tr>\n",
       "      <td>2</td>\n",
       "      <td>2</td>\n",
       "      <td>Afghanistan</td>\n",
       "      <td>1360</td>\n",
       "      <td>Nitrogenous fertilizers</td>\n",
       "      <td>5163</td>\n",
       "      <td>Agricultural Use</td>\n",
       "      <td>1963</td>\n",
       "      <td>1963</td>\n",
       "      <td>kg</td>\n",
       "      <td>1000000.0</td>\n",
       "      <td>E</td>\n",
       "      <td>NaN</td>\n",
       "    </tr>\n",
       "    <tr>\n",
       "      <td>3</td>\n",
       "      <td>2</td>\n",
       "      <td>Afghanistan</td>\n",
       "      <td>1360</td>\n",
       "      <td>Nitrogenous fertilizers</td>\n",
       "      <td>5163</td>\n",
       "      <td>Agricultural Use</td>\n",
       "      <td>1964</td>\n",
       "      <td>1964</td>\n",
       "      <td>kg</td>\n",
       "      <td>1000000.0</td>\n",
       "      <td>E</td>\n",
       "      <td>NaN</td>\n",
       "    </tr>\n",
       "    <tr>\n",
       "      <td>4</td>\n",
       "      <td>2</td>\n",
       "      <td>Afghanistan</td>\n",
       "      <td>1360</td>\n",
       "      <td>Nitrogenous fertilizers</td>\n",
       "      <td>5163</td>\n",
       "      <td>Agricultural Use</td>\n",
       "      <td>1965</td>\n",
       "      <td>1965</td>\n",
       "      <td>kg</td>\n",
       "      <td>1000000.0</td>\n",
       "      <td>E</td>\n",
       "      <td>NaN</td>\n",
       "    </tr>\n",
       "  </tbody>\n",
       "</table>\n",
       "</div>"
      ],
      "text/plain": [
       "   Area Code         Area  Item Code                     Item  Element Code  \\\n",
       "0          2  Afghanistan       1360  Nitrogenous fertilizers          5163   \n",
       "1          2  Afghanistan       1360  Nitrogenous fertilizers          5163   \n",
       "2          2  Afghanistan       1360  Nitrogenous fertilizers          5163   \n",
       "3          2  Afghanistan       1360  Nitrogenous fertilizers          5163   \n",
       "4          2  Afghanistan       1360  Nitrogenous fertilizers          5163   \n",
       "\n",
       "            Element  Year Code  Year Unit      Value Flag  Note  \n",
       "0  Agricultural Use       1961  1961   kg  1000000.0    E   NaN  \n",
       "1  Agricultural Use       1962  1962   kg  1000000.0    E   NaN  \n",
       "2  Agricultural Use       1963  1963   kg  1000000.0    E   NaN  \n",
       "3  Agricultural Use       1964  1964   kg  1000000.0    E   NaN  \n",
       "4  Agricultural Use       1965  1965   kg  1000000.0    E   NaN  "
      ]
     },
     "execution_count": 25,
     "metadata": {},
     "output_type": "execute_result"
    }
   ],
   "source": [
    "fertilizer.head(5)"
   ]
  },
  {
   "cell_type": "code",
   "execution_count": 476,
   "metadata": {},
   "outputs": [
    {
     "data": {
      "text/html": [
       "<div>\n",
       "<style scoped>\n",
       "    .dataframe tbody tr th:only-of-type {\n",
       "        vertical-align: middle;\n",
       "    }\n",
       "\n",
       "    .dataframe tbody tr th {\n",
       "        vertical-align: top;\n",
       "    }\n",
       "\n",
       "    .dataframe thead th {\n",
       "        text-align: right;\n",
       "    }\n",
       "</style>\n",
       "<table border=\"1\" class=\"dataframe\">\n",
       "  <thead>\n",
       "    <tr style=\"text-align: right;\">\n",
       "      <th></th>\n",
       "      <th>Area Code</th>\n",
       "      <th>Area</th>\n",
       "      <th>Item Code</th>\n",
       "      <th>Item</th>\n",
       "      <th>Element Code</th>\n",
       "      <th>Element</th>\n",
       "      <th>Year Code</th>\n",
       "      <th>Year</th>\n",
       "      <th>Unit</th>\n",
       "      <th>Value</th>\n",
       "      <th>Flag</th>\n",
       "    </tr>\n",
       "  </thead>\n",
       "  <tbody>\n",
       "    <tr>\n",
       "      <td>0</td>\n",
       "      <td>2</td>\n",
       "      <td>Afghanistan</td>\n",
       "      <td>221</td>\n",
       "      <td>Almonds, with shell</td>\n",
       "      <td>5312</td>\n",
       "      <td>Area harvested</td>\n",
       "      <td>1975</td>\n",
       "      <td>1975</td>\n",
       "      <td>ha</td>\n",
       "      <td>0.0</td>\n",
       "      <td>F</td>\n",
       "    </tr>\n",
       "    <tr>\n",
       "      <td>1</td>\n",
       "      <td>2</td>\n",
       "      <td>Afghanistan</td>\n",
       "      <td>221</td>\n",
       "      <td>Almonds, with shell</td>\n",
       "      <td>5312</td>\n",
       "      <td>Area harvested</td>\n",
       "      <td>1976</td>\n",
       "      <td>1976</td>\n",
       "      <td>ha</td>\n",
       "      <td>5900.0</td>\n",
       "      <td>F</td>\n",
       "    </tr>\n",
       "    <tr>\n",
       "      <td>2</td>\n",
       "      <td>2</td>\n",
       "      <td>Afghanistan</td>\n",
       "      <td>221</td>\n",
       "      <td>Almonds, with shell</td>\n",
       "      <td>5312</td>\n",
       "      <td>Area harvested</td>\n",
       "      <td>1977</td>\n",
       "      <td>1977</td>\n",
       "      <td>ha</td>\n",
       "      <td>6000.0</td>\n",
       "      <td>F</td>\n",
       "    </tr>\n",
       "    <tr>\n",
       "      <td>3</td>\n",
       "      <td>2</td>\n",
       "      <td>Afghanistan</td>\n",
       "      <td>221</td>\n",
       "      <td>Almonds, with shell</td>\n",
       "      <td>5312</td>\n",
       "      <td>Area harvested</td>\n",
       "      <td>1978</td>\n",
       "      <td>1978</td>\n",
       "      <td>ha</td>\n",
       "      <td>6000.0</td>\n",
       "      <td>F</td>\n",
       "    </tr>\n",
       "    <tr>\n",
       "      <td>4</td>\n",
       "      <td>2</td>\n",
       "      <td>Afghanistan</td>\n",
       "      <td>221</td>\n",
       "      <td>Almonds, with shell</td>\n",
       "      <td>5312</td>\n",
       "      <td>Area harvested</td>\n",
       "      <td>1979</td>\n",
       "      <td>1979</td>\n",
       "      <td>ha</td>\n",
       "      <td>6000.0</td>\n",
       "      <td>F</td>\n",
       "    </tr>\n",
       "  </tbody>\n",
       "</table>\n",
       "</div>"
      ],
      "text/plain": [
       "   Area Code         Area  Item Code                 Item  Element Code  \\\n",
       "0          2  Afghanistan        221  Almonds, with shell          5312   \n",
       "1          2  Afghanistan        221  Almonds, with shell          5312   \n",
       "2          2  Afghanistan        221  Almonds, with shell          5312   \n",
       "3          2  Afghanistan        221  Almonds, with shell          5312   \n",
       "4          2  Afghanistan        221  Almonds, with shell          5312   \n",
       "\n",
       "          Element  Year Code  Year Unit   Value Flag  \n",
       "0  Area harvested       1975  1975   ha     0.0    F  \n",
       "1  Area harvested       1976  1976   ha  5900.0    F  \n",
       "2  Area harvested       1977  1977   ha  6000.0    F  \n",
       "3  Area harvested       1978  1978   ha  6000.0    F  \n",
       "4  Area harvested       1979  1979   ha  6000.0    F  "
      ]
     },
     "execution_count": 476,
     "metadata": {},
     "output_type": "execute_result"
    }
   ],
   "source": [
    "#opening database and visualization\n",
    "crops=pd.read_csv('./data/Production_Crops_E_All_Data_(Normalized).zip',sep=',',encoding='latin-1')\n",
    "crops.head(5)"
   ]
  },
  {
   "cell_type": "code",
   "execution_count": 477,
   "metadata": {},
   "outputs": [
    {
     "data": {
      "text/html": [
       "<div>\n",
       "<style scoped>\n",
       "    .dataframe tbody tr th:only-of-type {\n",
       "        vertical-align: middle;\n",
       "    }\n",
       "\n",
       "    .dataframe tbody tr th {\n",
       "        vertical-align: top;\n",
       "    }\n",
       "\n",
       "    .dataframe thead th {\n",
       "        text-align: right;\n",
       "    }\n",
       "</style>\n",
       "<table border=\"1\" class=\"dataframe\">\n",
       "  <thead>\n",
       "    <tr style=\"text-align: right;\">\n",
       "      <th>Item</th>\n",
       "      <th>Area</th>\n",
       "      <th>Agave fibres nes</th>\n",
       "      <th>Almonds, with shell</th>\n",
       "      <th>Anise, badian, fennel, coriander</th>\n",
       "      <th>Apples</th>\n",
       "      <th>Apricots</th>\n",
       "      <th>Areca nuts</th>\n",
       "      <th>Artichokes</th>\n",
       "      <th>Asparagus</th>\n",
       "      <th>Avocados</th>\n",
       "      <th>...</th>\n",
       "      <th>Tung nuts</th>\n",
       "      <th>Vanilla</th>\n",
       "      <th>Vegetables, fresh nes</th>\n",
       "      <th>Vegetables, leguminous nes</th>\n",
       "      <th>Vetches</th>\n",
       "      <th>Walnuts, with shell</th>\n",
       "      <th>Watermelons</th>\n",
       "      <th>Wheat</th>\n",
       "      <th>Yams</th>\n",
       "      <th>Yautia (cocoyam)</th>\n",
       "    </tr>\n",
       "  </thead>\n",
       "  <tbody>\n",
       "    <tr>\n",
       "      <td>0</td>\n",
       "      <td>Afghanistan</td>\n",
       "      <td>0.0</td>\n",
       "      <td>16859.0</td>\n",
       "      <td>6923.0</td>\n",
       "      <td>72762.0</td>\n",
       "      <td>20819.0</td>\n",
       "      <td>0.0</td>\n",
       "      <td>0.0</td>\n",
       "      <td>0.0</td>\n",
       "      <td>0.0</td>\n",
       "      <td>...</td>\n",
       "      <td>0.0</td>\n",
       "      <td>0.0</td>\n",
       "      <td>90558.0</td>\n",
       "      <td>0.0</td>\n",
       "      <td>0.0</td>\n",
       "      <td>16498.0</td>\n",
       "      <td>115473.0</td>\n",
       "      <td>19803.0</td>\n",
       "      <td>0.0</td>\n",
       "      <td>0.0</td>\n",
       "    </tr>\n",
       "    <tr>\n",
       "      <td>1</td>\n",
       "      <td>Africa</td>\n",
       "      <td>0.0</td>\n",
       "      <td>5984.0</td>\n",
       "      <td>9201.0</td>\n",
       "      <td>152821.0</td>\n",
       "      <td>70530.0</td>\n",
       "      <td>0.0</td>\n",
       "      <td>157061.0</td>\n",
       "      <td>79196.0</td>\n",
       "      <td>78506.0</td>\n",
       "      <td>...</td>\n",
       "      <td>8435.0</td>\n",
       "      <td>472.0</td>\n",
       "      <td>73677.0</td>\n",
       "      <td>98953.0</td>\n",
       "      <td>19525.0</td>\n",
       "      <td>29086.0</td>\n",
       "      <td>227828.0</td>\n",
       "      <td>24526.0</td>\n",
       "      <td>87519.0</td>\n",
       "      <td>0.0</td>\n",
       "    </tr>\n",
       "    <tr>\n",
       "      <td>2</td>\n",
       "      <td>Albania</td>\n",
       "      <td>0.0</td>\n",
       "      <td>0.0</td>\n",
       "      <td>0.0</td>\n",
       "      <td>240028.0</td>\n",
       "      <td>159325.0</td>\n",
       "      <td>0.0</td>\n",
       "      <td>0.0</td>\n",
       "      <td>0.0</td>\n",
       "      <td>0.0</td>\n",
       "      <td>...</td>\n",
       "      <td>0.0</td>\n",
       "      <td>0.0</td>\n",
       "      <td>130879.0</td>\n",
       "      <td>49674.0</td>\n",
       "      <td>3309.0</td>\n",
       "      <td>0.0</td>\n",
       "      <td>448276.0</td>\n",
       "      <td>39000.0</td>\n",
       "      <td>0.0</td>\n",
       "      <td>0.0</td>\n",
       "    </tr>\n",
       "    <tr>\n",
       "      <td>3</td>\n",
       "      <td>Algeria</td>\n",
       "      <td>0.0</td>\n",
       "      <td>13223.0</td>\n",
       "      <td>0.0</td>\n",
       "      <td>108716.0</td>\n",
       "      <td>67149.0</td>\n",
       "      <td>0.0</td>\n",
       "      <td>188489.0</td>\n",
       "      <td>0.0</td>\n",
       "      <td>0.0</td>\n",
       "      <td>...</td>\n",
       "      <td>0.0</td>\n",
       "      <td>0.0</td>\n",
       "      <td>194467.0</td>\n",
       "      <td>84318.0</td>\n",
       "      <td>4932.0</td>\n",
       "      <td>0.0</td>\n",
       "      <td>318040.0</td>\n",
       "      <td>11833.0</td>\n",
       "      <td>0.0</td>\n",
       "      <td>0.0</td>\n",
       "    </tr>\n",
       "    <tr>\n",
       "      <td>4</td>\n",
       "      <td>American Samoa</td>\n",
       "      <td>0.0</td>\n",
       "      <td>0.0</td>\n",
       "      <td>0.0</td>\n",
       "      <td>0.0</td>\n",
       "      <td>0.0</td>\n",
       "      <td>0.0</td>\n",
       "      <td>0.0</td>\n",
       "      <td>0.0</td>\n",
       "      <td>0.0</td>\n",
       "      <td>...</td>\n",
       "      <td>0.0</td>\n",
       "      <td>0.0</td>\n",
       "      <td>36430.0</td>\n",
       "      <td>0.0</td>\n",
       "      <td>0.0</td>\n",
       "      <td>0.0</td>\n",
       "      <td>0.0</td>\n",
       "      <td>0.0</td>\n",
       "      <td>35852.0</td>\n",
       "      <td>0.0</td>\n",
       "    </tr>\n",
       "  </tbody>\n",
       "</table>\n",
       "<p>5 rows × 161 columns</p>\n",
       "</div>"
      ],
      "text/plain": [
       "Item            Area  Agave fibres nes  Almonds, with shell  \\\n",
       "0        Afghanistan               0.0              16859.0   \n",
       "1             Africa               0.0               5984.0   \n",
       "2            Albania               0.0                  0.0   \n",
       "3            Algeria               0.0              13223.0   \n",
       "4     American Samoa               0.0                  0.0   \n",
       "\n",
       "Item  Anise, badian, fennel, coriander    Apples  Apricots  Areca nuts  \\\n",
       "0                               6923.0   72762.0   20819.0         0.0   \n",
       "1                               9201.0  152821.0   70530.0         0.0   \n",
       "2                                  0.0  240028.0  159325.0         0.0   \n",
       "3                                  0.0  108716.0   67149.0         0.0   \n",
       "4                                  0.0       0.0       0.0         0.0   \n",
       "\n",
       "Item  Artichokes  Asparagus  Avocados  ...  Tung nuts  Vanilla  \\\n",
       "0            0.0        0.0       0.0  ...        0.0      0.0   \n",
       "1       157061.0    79196.0   78506.0  ...     8435.0    472.0   \n",
       "2            0.0        0.0       0.0  ...        0.0      0.0   \n",
       "3       188489.0        0.0       0.0  ...        0.0      0.0   \n",
       "4            0.0        0.0       0.0  ...        0.0      0.0   \n",
       "\n",
       "Item  Vegetables, fresh nes  Vegetables, leguminous nes  Vetches  \\\n",
       "0                   90558.0                         0.0      0.0   \n",
       "1                   73677.0                     98953.0  19525.0   \n",
       "2                  130879.0                     49674.0   3309.0   \n",
       "3                  194467.0                     84318.0   4932.0   \n",
       "4                   36430.0                         0.0      0.0   \n",
       "\n",
       "Item  Walnuts, with shell  Watermelons    Wheat     Yams  Yautia (cocoyam)  \n",
       "0                 16498.0     115473.0  19803.0      0.0               0.0  \n",
       "1                 29086.0     227828.0  24526.0  87519.0               0.0  \n",
       "2                     0.0     448276.0  39000.0      0.0               0.0  \n",
       "3                     0.0     318040.0  11833.0      0.0               0.0  \n",
       "4                     0.0          0.0      0.0  35852.0               0.0  \n",
       "\n",
       "[5 rows x 161 columns]"
      ]
     },
     "execution_count": 477,
     "metadata": {},
     "output_type": "execute_result"
    }
   ],
   "source": [
    "yield_for_pca=(crops.query('`Element Code` == 5419')\n",
    "        .query('`Year Code` == 2016')\n",
    "        .query('`Item Code` <1000')\n",
    "        .pivot(index='Area',columns='Item',values='Value')\n",
    "        .fillna(value=0)\n",
    "        .reset_index()\n",
    "          )\n",
    "yield_for_pca.head()"
   ]
  },
  {
   "cell_type": "code",
   "execution_count": 478,
   "metadata": {},
   "outputs": [
    {
     "data": {
      "text/plain": [
       "<Figure size 432x288 with 0 Axes>"
      ]
     },
     "metadata": {},
     "output_type": "display_data"
    }
   ],
   "source": [
    "%run PCA_processing\n",
    "\n",
    "pca,yield_pca=PCA_processing(yield_for_pca,'Area', yield_for_pca.columns[1:])"
   ]
  },
  {
   "cell_type": "code",
   "execution_count": 479,
   "metadata": {},
   "outputs": [
    {
     "data": {
      "image/png": "[encoded data removed]",
      "text/plain": [
       "<Figure size 576x576 with 1 Axes>"
      ]
     },
     "metadata": {
      "needs_background": "light"
     },
     "output_type": "display_data"
    }
   ],
   "source": [
    "%run PCA_viz\n",
    "\n",
    "PCA_viz(yield_pca)"
   ]
  },
  {
   "cell_type": "code",
   "execution_count": 480,
   "metadata": {},
   "outputs": [
    {
     "data": {
      "text/plain": [
       "array([0.21264605, 0.09051399])"
      ]
     },
     "execution_count": 480,
     "metadata": {},
     "output_type": "execute_result"
    }
   ],
   "source": [
    "pca.explained_variance_ratio_"
   ]
  },
  {
   "cell_type": "code",
   "execution_count": null,
   "metadata": {},
   "outputs": [],
   "source": []
  },
  {
   "cell_type": "code",
   "execution_count": 481,
   "metadata": {},
   "outputs": [
    {
     "data": {
      "text/html": [
       "<div>\n",
       "<style scoped>\n",
       "    .dataframe tbody tr th:only-of-type {\n",
       "        vertical-align: middle;\n",
       "    }\n",
       "\n",
       "    .dataframe tbody tr th {\n",
       "        vertical-align: top;\n",
       "    }\n",
       "\n",
       "    .dataframe thead th {\n",
       "        text-align: right;\n",
       "    }\n",
       "</style>\n",
       "<table border=\"1\" class=\"dataframe\">\n",
       "  <thead>\n",
       "    <tr style=\"text-align: right;\">\n",
       "      <th>Item</th>\n",
       "      <th>Area</th>\n",
       "      <th>Cereals (Rice Milled Eqv)</th>\n",
       "      <th>Cereals,Total</th>\n",
       "      <th>Citrus Fruit,Total</th>\n",
       "      <th>Coarse Grain, Total</th>\n",
       "      <th>Fruit Primary</th>\n",
       "      <th>Pulses,Total</th>\n",
       "      <th>Roots and Tubers,Total</th>\n",
       "      <th>Treenuts,Total</th>\n",
       "      <th>Vegetables Primary</th>\n",
       "    </tr>\n",
       "  </thead>\n",
       "  <tbody>\n",
       "    <tr>\n",
       "      <td>0</td>\n",
       "      <td>Afghanistan</td>\n",
       "      <td>19391.0</td>\n",
       "      <td>19816.0</td>\n",
       "      <td>83127.0</td>\n",
       "      <td>16667.0</td>\n",
       "      <td>88201.0</td>\n",
       "      <td>7406.0</td>\n",
       "      <td>119868.0</td>\n",
       "      <td>15984.0</td>\n",
       "      <td>91869.0</td>\n",
       "    </tr>\n",
       "    <tr>\n",
       "      <td>1</td>\n",
       "      <td>Africa</td>\n",
       "      <td>14245.0</td>\n",
       "      <td>15261.0</td>\n",
       "      <td>108260.0</td>\n",
       "      <td>13007.0</td>\n",
       "      <td>88514.0</td>\n",
       "      <td>7629.0</td>\n",
       "      <td>85875.0</td>\n",
       "      <td>5437.0</td>\n",
       "      <td>83707.0</td>\n",
       "    </tr>\n",
       "    <tr>\n",
       "      <td>2</td>\n",
       "      <td>Albania</td>\n",
       "      <td>47164.0</td>\n",
       "      <td>47164.0</td>\n",
       "      <td>271093.0</td>\n",
       "      <td>54585.0</td>\n",
       "      <td>225650.0</td>\n",
       "      <td>13178.0</td>\n",
       "      <td>245894.0</td>\n",
       "      <td>48487.0</td>\n",
       "      <td>272656.0</td>\n",
       "    </tr>\n",
       "    <tr>\n",
       "      <td>3</td>\n",
       "      <td>Algeria</td>\n",
       "      <td>10204.0</td>\n",
       "      <td>10204.0</td>\n",
       "      <td>181242.0</td>\n",
       "      <td>7647.0</td>\n",
       "      <td>105776.0</td>\n",
       "      <td>9978.0</td>\n",
       "      <td>304431.0</td>\n",
       "      <td>13223.0</td>\n",
       "      <td>219122.0</td>\n",
       "    </tr>\n",
       "    <tr>\n",
       "      <td>4</td>\n",
       "      <td>American Samoa</td>\n",
       "      <td>0.0</td>\n",
       "      <td>0.0</td>\n",
       "      <td>0.0</td>\n",
       "      <td>0.0</td>\n",
       "      <td>41581.0</td>\n",
       "      <td>0.0</td>\n",
       "      <td>38299.0</td>\n",
       "      <td>0.0</td>\n",
       "      <td>37544.0</td>\n",
       "    </tr>\n",
       "  </tbody>\n",
       "</table>\n",
       "</div>"
      ],
      "text/plain": [
       "Item            Area  Cereals (Rice Milled Eqv)  Cereals,Total  \\\n",
       "0        Afghanistan                    19391.0        19816.0   \n",
       "1             Africa                    14245.0        15261.0   \n",
       "2            Albania                    47164.0        47164.0   \n",
       "3            Algeria                    10204.0        10204.0   \n",
       "4     American Samoa                        0.0            0.0   \n",
       "\n",
       "Item  Citrus Fruit,Total  Coarse Grain, Total  Fruit Primary  Pulses,Total  \\\n",
       "0                83127.0              16667.0        88201.0        7406.0   \n",
       "1               108260.0              13007.0        88514.0        7629.0   \n",
       "2               271093.0              54585.0       225650.0       13178.0   \n",
       "3               181242.0               7647.0       105776.0        9978.0   \n",
       "4                    0.0                  0.0        41581.0           0.0   \n",
       "\n",
       "Item  Roots and Tubers,Total  Treenuts,Total  Vegetables Primary  \n",
       "0                   119868.0         15984.0             91869.0  \n",
       "1                    85875.0          5437.0             83707.0  \n",
       "2                   245894.0         48487.0            272656.0  \n",
       "3                   304431.0         13223.0            219122.0  \n",
       "4                    38299.0             0.0             37544.0  "
      ]
     },
     "execution_count": 481,
     "metadata": {},
     "output_type": "execute_result"
    }
   ],
   "source": [
    "grouped_yield_for_pca=(crops.query('`Element Code` == 5419')\n",
    "        .query('`Year Code` == 2016')\n",
    "        .query('`Item Code` >1000')\n",
    "        .pivot(index='Area',columns='Item',values='Value')\n",
    "        .fillna(value=0)\n",
    "        .reset_index()\n",
    "          )\n",
    "grouped_yield_for_pca.head()"
   ]
  },
  {
   "cell_type": "code",
   "execution_count": 663,
   "metadata": {},
   "outputs": [
    {
     "data": {
      "text/plain": [
       "<Figure size 432x288 with 0 Axes>"
      ]
     },
     "metadata": {},
     "output_type": "display_data"
    }
   ],
   "source": [
    "%run PCA_processing\n",
    "\n",
    "pca,grouped_yield_pca=PCA_processing(grouped_yield_for_pca,'Area', grouped_yield_for_pca.columns[1:])"
   ]
  },
  {
   "cell_type": "code",
   "execution_count": 664,
   "metadata": {},
   "outputs": [
    {
     "data": {
      "image/png": "[encoded data removed]",
      "text/plain": [
       "<Figure size 576x576 with 1 Axes>"
      ]
     },
     "metadata": {
      "needs_background": "light"
     },
     "output_type": "display_data"
    }
   ],
   "source": [
    "%run PCA_viz\n",
    "\n",
    "PCA_viz(grouped_yield_pca)"
   ]
  },
  {
   "cell_type": "code",
   "execution_count": 665,
   "metadata": {},
   "outputs": [
    {
     "data": {
      "text/plain": [
       "array([0.43640583, 0.17494791])"
      ]
     },
     "execution_count": 665,
     "metadata": {},
     "output_type": "execute_result"
    }
   ],
   "source": [
    "pca.explained_variance_ratio_"
   ]
  },
  {
   "cell_type": "code",
   "execution_count": 666,
   "metadata": {},
   "outputs": [],
   "source": [
    "def ferti_class(x): #associate a color to each bin of fertilizer\n",
    "    if x<50 :\n",
    "        return 'low'\n",
    "    elif 50<=x<150:\n",
    "        return 'medium'\n",
    "    else:\n",
    "        return 'high'"
   ]
  },
  {
   "cell_type": "code",
   "execution_count": 667,
   "metadata": {},
   "outputs": [],
   "source": [
    "fertilizer_area_2016=(fertilizer_area.query('`Item Code` == (3102)')\n",
    "    .query('`Year Code` == 2016')\n",
    "    .query('`Area Code` <300')\n",
    "    .sort_values('Value', ascending=False)\n",
    ")"
   ]
  },
  {
   "cell_type": "code",
   "execution_count": 668,
   "metadata": {},
   "outputs": [],
   "source": [
    "grouped_yield_pca=pd.merge(grouped_yield_pca,fertilizer_area_2016.loc[:,['Area','Value']],left_on='Area',right_on='Area')\n",
    "grouped_yield_pca['ferti_class']=grouped_yield_pca.Value.apply(ferti_class)"
   ]
  },
  {
   "cell_type": "code",
   "execution_count": 669,
   "metadata": {},
   "outputs": [
    {
     "data": {
      "image/png": "[encoded data removed]",
      "text/plain": [
       "<Figure size 576x576 with 1 Axes>"
      ]
     },
     "metadata": {
      "needs_background": "light"
     },
     "output_type": "display_data"
    }
   ],
   "source": [
    "fig = plt.figure(figsize = (8,8))\n",
    "ax = fig.add_subplot(1,1,1) \n",
    "ax.set_xlabel('Principal Component 1', fontsize = 15)\n",
    "ax.set_ylabel('Principal Component 2', fontsize = 15)\n",
    "ax.set_title('2 component PCA', fontsize = 20)\n",
    "\n",
    "\n",
    "colors = [\"green\", \"blue\", \"red\"]\n",
    "ax.grid(alpha=0.5)\n",
    "ax = sns.scatterplot(x='PC1', y='PC2', hue='ferti_class', palette=sns.xkcd_palette(colors), data=grouped_yield_pca, s=80,edgecolor=\"black\")"
   ]
  },
  {
   "cell_type": "code",
   "execution_count": 684,
   "metadata": {},
   "outputs": [
    {
     "data": {
      "image/png": "[encoded data removed]",
      "text/plain": [
       "<Figure size 576x288 with 1 Axes>"
      ]
     },
     "metadata": {
      "needs_background": "light"
     },
     "output_type": "display_data"
    }
   ],
   "source": [
    "fig = plt.figure(figsize = (8,4))\n",
    "#sns.palplot(sns.cubehelix_palette(3))\n",
    "ax = sns.boxplot(x='PC1', y='ferti_class', data=grouped_yield_pca, palette=sns.xkcd_palette(colors), boxprops=dict(alpha=.8))\n",
    "ax = sns.swarmplot(x='PC1', y='ferti_class', data=grouped_yield_pca, color=\".25\")"
   ]
  },
  {
   "cell_type": "code",
   "execution_count": 671,
   "metadata": {},
   "outputs": [
    {
     "data": {
      "text/plain": [
       "ferti_class\n",
       "high      AxesSubplot(0.125,0.125;0.775x0.755)\n",
       "low       AxesSubplot(0.125,0.125;0.775x0.755)\n",
       "medium    AxesSubplot(0.125,0.125;0.775x0.755)\n",
       "Name: PC1, dtype: object"
      ]
     },
     "execution_count": 671,
     "metadata": {},
     "output_type": "execute_result"
    },
    {
     "data": {
      "image/png": "[encoded data removed]",
      "text/plain": [
       "<Figure size 432x288 with 1 Axes>"
      ]
     },
     "metadata": {
      "needs_background": "light"
     },
     "output_type": "display_data"
    }
   ],
   "source": [
    "grouped_yield_pca.groupby(grouped_yield_pca.ferti_class).PC1.hist()\n",
    "#stats.f_oneway(grouped_yield_pca.PC1[grouped_yield_pca.ferti_class=='g'], \n",
    "            #grouped_yield_pca.PC1[grouped_yield_pca.ferti_class=='b'],grouped_yield_pca.PC1[grouped_yield_pca.ferti_class=='r'])\n"
   ]
  },
  {
   "cell_type": "code",
   "execution_count": 675,
   "metadata": {},
   "outputs": [
    {
     "name": "stdout",
     "output_type": "stream",
     "text": [
      "(0.9690326452255249, 0.05703279376029968) \n",
      " (0.9739370346069336, 0.1933034509420395) \n",
      " (0.8056579828262329, 0.0032410931307822466)\n",
      "High fertilizer group cannot be modelize by a normal distribution. As anova is not very robust to normal distribution assumption, we will use a Kruskal Wallis non-parametric test.\n"
     ]
    }
   ],
   "source": [
    "print(stats.shapiro(grouped_yield_pca.PC1[grouped_yield_pca.ferti_class=='low']),'\\n',\n",
    "      stats.shapiro(grouped_yield_pca.PC1[grouped_yield_pca.ferti_class=='medium']),'\\n',\n",
    "      stats.shapiro(grouped_yield_pca.PC1[grouped_yield_pca.ferti_class=='high']))\n",
    "print('High fertilizer group cannot be modelize by a normal distribution. As anova is not very robust to normal distribution assumption, we will use a Kruskal Wallis non-parametric test.')"
   ]
  },
  {
   "cell_type": "code",
   "execution_count": 683,
   "metadata": {},
   "outputs": [
    {
     "name": "stdout",
     "output_type": "stream",
     "text": [
      "KruskalResult(statistic=71.75082039221763, pvalue=2.6272857834736627e-16)\n",
      "              1             2             3\n",
      "1 -1.000000e+00  4.171657e-13  4.602475e-10\n",
      "2  4.171657e-13 -1.000000e+00  8.211431e-02\n",
      "3  4.602475e-10  8.211431e-02 -1.000000e+00\n",
      "The groups are significantly different, based on rank test on PC1\n"
     ]
    }
   ],
   "source": [
    "import scikit_posthocs as sp\n",
    "\n",
    "print(stats.kruskal(grouped_yield_pca.PC1[grouped_yield_pca.ferti_class=='low'],\n",
    "                    grouped_yield_pca.PC1[grouped_yield_pca.ferti_class=='medium'],\n",
    "                    grouped_yield_pca.PC1[grouped_yield_pca.ferti_class=='high']))\n",
    "\n",
    "print(sp.posthoc_dunn([grouped_yield_pca.PC1[grouped_yield_pca.ferti_class=='low'],\n",
    "                    grouped_yield_pca.PC1[grouped_yield_pca.ferti_class=='medium'],\n",
    "                    grouped_yield_pca.PC1[grouped_yield_pca.ferti_class=='high']]))\n",
    "print('The groups are significantly different, based on rank test on PC1')"
   ]
  },
  {
   "cell_type": "code",
   "execution_count": 685,
   "metadata": {},
   "outputs": [
    {
     "data": {
      "image/png": "[encoded data removed]",
      "text/plain": [
       "<Figure size 432x288 with 1 Axes>"
      ]
     },
     "metadata": {
      "needs_background": "light"
     },
     "output_type": "display_data"
    }
   ],
   "source": [
    "ax = sns.boxplot(x='PC2', y='ferti_class', data=grouped_yield_pca, palette=sns.xkcd_palette(colors), boxprops=dict(alpha=.8))\n",
    "ax = sns.swarmplot(x='PC2', y='ferti_class', data=grouped_yield_pca, color=\".25\")"
   ]
  }
 ],
 "metadata": {
  "kernelspec": {
   "display_name": "Python 3",
   "language": "python",
   "name": "python3"
  },
  "language_info": {
   "codemirror_mode": {
    "name": "ipython",
    "version": 3
   },
   "file_extension": ".py",
   "mimetype": "text/x-python",
   "name": "python",
   "nbconvert_exporter": "python",
   "pygments_lexer": "ipython3",
   "version": "3.7.3"
  }
 },
 "nbformat": 4,
 "nbformat_minor": 4
}
